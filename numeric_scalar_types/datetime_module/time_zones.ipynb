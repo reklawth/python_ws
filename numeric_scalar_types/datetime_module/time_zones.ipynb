{
 "cells": [
  {
   "cell_type": "markdown",
   "metadata": {},
   "source": [
    "## timezone"
   ]
  },
  {
   "cell_type": "markdown",
   "metadata": {},
   "source": [
    "The tzinfo class is abstract, and so cannot be instantiated directly.  Python 3 includes a simple timezone concrete class which can be used to represent timezones which are a fixed offset from UTC.\n",
    "\n",
    "Construct a timezone object to represent Central European Time or CET time zone (UTC+1):"
   ]
  },
  {
   "cell_type": "code",
   "execution_count": 1,
   "metadata": {},
   "outputs": [],
   "source": [
    "import datetime"
   ]
  },
  {
   "cell_type": "code",
   "execution_count": 2,
   "metadata": {},
   "outputs": [],
   "source": [
    "cet = datetime.timezone(datetime.timedelta(hours=1), \"CET\")"
   ]
  },
  {
   "cell_type": "code",
   "execution_count": 3,
   "metadata": {},
   "outputs": [
    {
     "output_type": "execute_result",
     "data": {
      "text/plain": "datetime.timezone(datetime.timedelta(0, 3600), 'CET')"
     },
     "metadata": {},
     "execution_count": 3
    }
   ],
   "source": [
    "cet"
   ]
  },
  {
   "cell_type": "code",
   "execution_count": 4,
   "metadata": {},
   "outputs": [],
   "source": [
    "est = datetime.timezone(datetime.timedelta(hours=-5), \"EST\")"
   ]
  },
  {
   "cell_type": "code",
   "execution_count": 5,
   "metadata": {},
   "outputs": [
    {
     "output_type": "execute_result",
     "data": {
      "text/plain": "datetime.timezone(datetime.timedelta(-1, 68400), 'EST')"
     },
     "metadata": {},
     "execution_count": 5
    }
   ],
   "source": [
    "est"
   ]
  },
  {
   "cell_type": "code",
   "execution_count": 7,
   "metadata": {},
   "outputs": [],
   "source": [
    "departure = datetime.datetime(year=2020, month=2, day=2, hour=2, minute=2, tzinfo=cet)"
   ]
  },
  {
   "cell_type": "markdown",
   "metadata": {},
   "source": [
    "The timezone class has an attribute catted utc which is an instance of timezone configured with a zero offset from UTC, useful for representing UTC times."
   ]
  },
  {
   "cell_type": "code",
   "execution_count": 11,
   "metadata": {},
   "outputs": [],
   "source": [
    "arrival = datetime.datetime(year=2020, month=2, day=2, hour=4, minute=2, tzinfo=datetime.timezone.utc)"
   ]
  },
  {
   "cell_type": "code",
   "execution_count": 12,
   "metadata": {},
   "outputs": [
    {
     "output_type": "execute_result",
     "data": {
      "text/plain": "datetime.timedelta(0, 10800)"
     },
     "metadata": {},
     "execution_count": 12
    }
   ],
   "source": [
    "arrival - departure"
   ]
  },
  {
   "cell_type": "markdown",
   "metadata": {},
   "source": [
    "This is more usably formatted as 3 hours"
   ]
  },
  {
   "cell_type": "code",
   "execution_count": 13,
   "metadata": {},
   "outputs": [
    {
     "output_type": "execute_result",
     "data": {
      "text/plain": "'3:00:00'"
     },
     "metadata": {},
     "execution_count": 13
    }
   ],
   "source": [
    "str(arrival - departure)"
   ]
  },
  {
   "cell_type": "markdown",
   "metadata": {},
   "source": [
    "For more complete time zone support including correct handling of daylight saving time which is not handled by the basic timezone class, you will need to either subclass the tzinfo base class instructions are provided in the Python documentation or employ one of hte third-party packages such as pytz."
   ]
  }
 ],
 "metadata": {
  "language_info": {
   "codemirror_mode": {
    "name": "ipython",
    "version": 3
   },
   "file_extension": ".py",
   "mimetype": "text/x-python",
   "name": "python",
   "nbconvert_exporter": "python",
   "pygments_lexer": "ipython3",
   "version": "3.6.9-final"
  },
  "orig_nbformat": 2,
  "kernelspec": {
   "name": "python36964bit347f991c209d479fb0aaa0907fb23c61",
   "display_name": "Python 3.6.9 64-bit"
  }
 },
 "nbformat": 4,
 "nbformat_minor": 2
}