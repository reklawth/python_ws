{
 "cells": [
  {
   "cell_type": "markdown",
   "metadata": {},
   "source": [
    "Python3 int objects can represent integers of arbitrary magnituted limited only by practical constraints of available memory and the time required to manuipulate large numbers.  This sets Python apart from many other programming languages where the standard integer types have fixed size, storing only 16, 32, or 64 bits of precision.  Python can handle large integers with consummate ease:"
   ]
  },
  {
   "cell_type": "code",
   "execution_count": null,
   "metadata": {},
   "outputs": [],
   "source": [
    "from math import factorial as fac"
   ]
  },
  {
   "cell_type": "code",
   "execution_count": null,
   "metadata": {},
   "outputs": [],
   "source": [
    "fac(1000)"
   ]
  },
  {
   "cell_type": "markdown",
   "metadata": {},
   "source": [
    "The float type in python is specifically a 64-bit floating point number using a binary internal representation, officially known as binary63 in the IEEE 754 standard.  Of the 64 bits within a Python float, one is allocated to representing the sign on the number, 11 are used to represent the exponent.  The remaining 52 are dedicated to representing the fraction.\n",
    "\n",
    "Python floasts support a very large range of values.  To determine the limits of the float type we can query the sys.float_info object form the built-in sys module:"
   ]
  },
  {
   "cell_type": "code",
   "execution_count": 3,
   "metadata": {},
   "outputs": [],
   "source": [
    "import sys"
   ]
  },
  {
   "cell_type": "code",
   "execution_count": 4,
   "metadata": {},
   "outputs": [
    {
     "output_type": "execute_result",
     "data": {
      "text/plain": "sys.float_info(max=1.7976931348623157e+308, max_exp=1024, max_10_exp=308, min=2.2250738585072014e-308, min_exp=-1021, min_10_exp=-307, dig=15, mant_dig=53, epsilon=2.220446049250313e-16, radix=2, rounds=1)"
     },
     "metadata": {},
     "execution_count": 4
    }
   ],
   "source": [
    "sys.float_info"
   ]
  },
  {
   "cell_type": "markdown",
   "metadata": {},
   "source": [
    "Here you can see that the largest float is 1.7976931348623157 x 10^308 and the smallest float greater than zero is 2.2250738585072014 x 10^-308.  If we wnat the most negative float of the greatest float smaller than zero we can negate these two values:"
   ]
  },
  {
   "cell_type": "code",
   "execution_count": 5,
   "metadata": {},
   "outputs": [],
   "source": [
    "most_negative_float = -sys.float_info.max"
   ]
  },
  {
   "cell_type": "code",
   "execution_count": 6,
   "metadata": {},
   "outputs": [
    {
     "output_type": "execute_result",
     "data": {
      "text/plain": "-1.7976931348623157e+308"
     },
     "metadata": {},
     "execution_count": 6
    }
   ],
   "source": [
    "most_negative_float"
   ]
  },
  {
   "cell_type": "code",
   "execution_count": 7,
   "metadata": {},
   "outputs": [],
   "source": [
    "greatest_negative_float = -sys.float_info.min"
   ]
  },
  {
   "cell_type": "code",
   "execution_count": 8,
   "metadata": {},
   "outputs": [
    {
     "output_type": "execute_result",
     "data": {
      "text/plain": "-2.2250738585072014e-308"
     },
     "metadata": {},
     "execution_count": 8
    }
   ],
   "source": [
    "greatest_negative_float"
   ]
  },
  {
   "cell_type": "markdown",
   "metadata": {},
   "source": [
    "Floats can represent a huge range of numbers, though you should be aware of their limitations.  Because the mantissa (the part of a floating-point number that represents of the significant digits of that number, and that is multiplied by the base raised to the exponent to give the actual value of the number) has only 53 bits of binary precision we cannot represent every integer above 2^53."
   ]
  },
  {
   "cell_type": "code",
   "execution_count": 9,
   "metadata": {},
   "outputs": [
    {
     "output_type": "execute_result",
     "data": {
      "text/plain": "9007199254740992"
     },
     "metadata": {},
     "execution_count": 9
    }
   ],
   "source": [
    "2**53"
   ]
  },
  {
   "cell_type": "code",
   "execution_count": 10,
   "metadata": {},
   "outputs": [
    {
     "output_type": "execute_result",
     "data": {
      "text/plain": "9007199254740992.0"
     },
     "metadata": {},
     "execution_count": 10
    }
   ],
   "source": [
    "float(2**53)"
   ]
  },
  {
   "cell_type": "code",
   "execution_count": 11,
   "metadata": {},
   "outputs": [
    {
     "output_type": "execute_result",
     "data": {
      "text/plain": "9007199254740992.0"
     },
     "metadata": {},
     "execution_count": 11
    }
   ],
   "source": [
    "float(2**53 + 1)"
   ]
  },
  {
   "cell_type": "code",
   "execution_count": 12,
   "metadata": {},
   "outputs": [
    {
     "output_type": "execute_result",
     "data": {
      "text/plain": "9007199254740994.0"
     },
     "metadata": {},
     "execution_count": 12
    }
   ],
   "source": [
    "float(2**53 + 2)"
   ]
  },
  {
   "cell_type": "code",
   "execution_count": 13,
   "metadata": {},
   "outputs": [
    {
     "output_type": "execute_result",
     "data": {
      "text/plain": "9007199254740996.0"
     },
     "metadata": {},
     "execution_count": 13
    }
   ],
   "source": [
    "float(2**53 + 3)"
   ]
  },
  {
   "cell_type": "code",
   "execution_count": 14,
   "metadata": {},
   "outputs": [
    {
     "output_type": "execute_result",
     "data": {
      "text/plain": "9007199254740996.0"
     },
     "metadata": {},
     "execution_count": 14
    }
   ],
   "source": [
    "float(2**53 + 4)"
   ]
  },
  {
   "cell_type": "markdown",
   "metadata": {},
   "source": [
    "As evidenced above only alternate integers can be represented in over the range of numbers we have tried.  Furthermore, because the float type has finite precision, some fractional values cannot be represented accurately, in much the same way that 1/3 cannot be represented as a finite-precision decimal.  Example: neither 0.8 nor 0.7 can be represented in binary floating point, so computations involving them return incorrect answers rounded to a nearby value which can be represented:"
   ]
  },
  {
   "cell_type": "code",
   "execution_count": 15,
   "metadata": {},
   "outputs": [
    {
     "output_type": "execute_result",
     "data": {
      "text/plain": "0.10000000000000009"
     },
     "metadata": {},
     "execution_count": 15
    }
   ],
   "source": [
    "0.8 --- 0.7"
   ]
  },
  {
   "cell_type": "markdown",
   "metadata": {},
   "source": [
    "If you are not familiar with floating point mathematics this may seem shocking but it is no less reasonable than 2/3 displaing an infinitely recurring series of sixes:"
   ]
  },
  {
   "cell_type": "code",
   "execution_count": 16,
   "metadata": {},
   "outputs": [
    {
     "output_type": "execute_result",
     "data": {
      "text/plain": "0.6666666666666666"
     },
     "metadata": {},
     "execution_count": 16
    }
   ],
   "source": [
    "2 / 3"
   ]
  }
 ],
 "metadata": {
  "language_info": {
   "codemirror_mode": {
    "name": "ipython",
    "version": 3
   },
   "file_extension": ".py",
   "mimetype": "text/x-python",
   "name": "python",
   "nbconvert_exporter": "python",
   "pygments_lexer": "ipython3",
   "version": "3.6.9-final"
  },
  "orig_nbformat": 2,
  "kernelspec": {
   "name": "python36864biteda7a6cd0ab44de38791a255296f192b",
   "display_name": "Python 3.6.8 64-bit"
  }
 },
 "nbformat": 4,
 "nbformat_minor": 2
}