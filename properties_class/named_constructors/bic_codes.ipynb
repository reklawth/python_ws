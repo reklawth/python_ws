{
 "nbformat": 4,
 "nbformat_minor": 2,
 "metadata": {
  "language_info": {
   "name": "python",
   "codemirror_mode": {
    "name": "ipython",
    "version": 3
   },
   "version": "3.6.9-final"
  },
  "orig_nbformat": 2,
  "file_extension": ".py",
  "mimetype": "text/x-python",
  "name": "python",
  "npconvert_exporter": "python",
  "pygments_lexer": "ipython3",
  "version": 3,
  "kernelspec": {
   "name": "python36864biteda7a6cd0ab44de38791a255296f192b",
   "display_name": "Python 3.6.8 64-bit"
  }
 },
 "cells": [
  {
   "cell_type": "markdown",
   "metadata": {},
   "source": [
    "ShippingContainer will be adjusted to use a string code rather than an interger serial nu mber.  The module will now be able to create a conforming BIC code give a three-letter owner code and a six digit serial number, together with an optional equipment catgory identifier.  we will rrework the initializer function to create and store the BIC code instead of the seperate owner code and serial numbers"
   ]
  },
  {
   "cell_type": "code",
   "execution_count": 10,
   "metadata": {},
   "outputs": [],
   "source": [
    "import iso6346"
   ]
  },
  {
   "cell_type": "code",
   "execution_count": 11,
   "metadata": {},
   "outputs": [],
   "source": [
    "class ShippingContainer:\n",
    "\n",
    "    next_serial = 1337\n",
    "\n",
    "    @staticmethod\n",
    "    def _make_bic_code(owner_code, serial):\n",
    "        return iso6346.create(owner_code=owner_code, serial=str(serial).zfill(6))\n",
    "\n",
    "    @classmethod\n",
    "    def _get_next_serial(cls):\n",
    "        result = cls.next_serial\n",
    "        cls.next_serial += 1\n",
    "        return result\n",
    "\n",
    "    @classmethod\n",
    "    def create_empty(cls, owner_code):\n",
    "        return cls(owner_code, contents=None)\n",
    "\n",
    "    @classmethod\n",
    "    def create_with_items(cls, owner_code, items):\n",
    "        return cls(owner_code, contents=list(items))\n",
    "\n",
    "    def __init__(self, owner_code, contents):\n",
    "        self.contents = contents\n",
    "        self.bic = ShippingContainer._make_bic_code(owner_code=owner_code, serial=ShippingContainer._get_next_serial()) "
   ]
  },
  {
   "cell_type": "code",
   "execution_count": 12,
   "metadata": {},
   "outputs": [
    {
     "output_type": "execute_result",
     "data": {
      "text/plain": "'YMLU0013374'"
     },
     "metadata": {},
     "execution_count": 12
    }
   ],
   "source": [
    "c = ShippingContainer.create_empty('YML')\n",
    "c.bic"
   ]
  }
 ]
}