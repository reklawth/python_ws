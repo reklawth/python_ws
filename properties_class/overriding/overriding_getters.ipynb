{
 "nbformat": 4,
 "nbformat_minor": 2,
 "metadata": {
  "language_info": {
   "name": "python",
   "codemirror_mode": {
    "name": "ipython",
    "version": 3
   },
   "version": "3.6.9-final"
  },
  "orig_nbformat": 2,
  "file_extension": ".py",
  "mimetype": "text/x-python",
  "name": "python",
  "npconvert_exporter": "python",
  "pygments_lexer": "ipython3",
  "version": 3,
  "kernelspec": {
   "name": "python36864biteda7a6cd0ab44de38791a255296f192b",
   "display_name": "Python 3.6.8 64-bit"
  }
 },
 "cells": [
  {
   "cell_type": "code",
   "execution_count": 1,
   "metadata": {},
   "outputs": [],
   "source": [
    "from shipping import *"
   ]
  },
  {
   "cell_type": "markdown",
   "metadata": {},
   "source": [
    "In this example we are using the volume_ft3 property in the RefrigereatedShippingContainer subclass to override the corresponding property in the ShippingContainer base class."
   ]
  },
  {
   "cell_type": "code",
   "execution_count": 2,
   "metadata": {},
   "outputs": [],
   "source": [
    "class RefrigeratedShippingContainer(ShippingContainer):\n",
    "\n",
    "    MAX_CELSIUS = 4.0\n",
    "    FRIDGE_VOLUME_FT3 = 100\n",
    "    @staticmethod\n",
    "    def _make_bic_code(owner_code, serial):\n",
    "        return iso6346.create(owner_code=owner_code, serial=str(serial).zfill(6), category='R')\n",
    "\n",
    "    @staticmethod\n",
    "    def _c_to_f(celsius):\n",
    "        return celsius * 9/5 + 32\n",
    "\n",
    "    @staticmethod\n",
    "    def _f_to_c(fahrenheit):\n",
    "        return (fahrenheit - 32) * 5/9\n",
    "\n",
    "    def __init__(self, owner_code, length_ft, contents, celsius):\n",
    "        super().__init__(owner_code, length_ft, contents)\n",
    "        self.celsius = celsius\n",
    "\n",
    "    @property\n",
    "    def celsius(self):\n",
    "        return self._celsius \n",
    "\n",
    "    @celsius.setter\n",
    "    def celsius(self, value):\n",
    "        if value > RefrigeratedShippingContainer.MAX_CELSIUS:\n",
    "            raise ValueError(\"Temperature too hot!\")\n",
    "        self._celsius = value\n",
    "    \n",
    "    @property\n",
    "    def fahrenheit(self):\n",
    "        return RefrigeratedShippingContainer._c_to_f(self.celsius)\n",
    "\n",
    "    @fahrenheit.setter\n",
    "    def fahrenheit(self, value):\n",
    "        self.celsius = RefrigeratedShippingContainer._f_to_c(value)\n",
    "\n",
    "    @property\n",
    "    def volume_ft3(self):\n",
    "        return (self.length_ft * ShippingContainer.HEIGHT_FT * ShippingContainer.WIDTH_FT - RefrigeratedShippingContainer.FRIDGE_VOLUME_FT3)"
   ]
  },
  {
   "cell_type": "code",
   "execution_count": 3,
   "metadata": {},
   "outputs": [],
   "source": [
    "r = RefrigeratedShippingContainer.create_empty('YML', length_ft=20, celsius=-10.0)"
   ]
  },
  {
   "cell_type": "code",
   "execution_count": 8,
   "metadata": {},
   "outputs": [],
   "source": [
    "c = ShippingContainer.create_empty('YML', length_ft=20)"
   ]
  },
  {
   "cell_type": "code",
   "execution_count": 9,
   "metadata": {},
   "outputs": [
    {
     "output_type": "execute_result",
     "data": {
      "text/plain": "1260.0"
     },
     "metadata": {},
     "execution_count": 9
    }
   ],
   "source": [
    "r.volume_ft3"
   ]
  },
  {
   "cell_type": "code",
   "execution_count": 10,
   "metadata": {},
   "outputs": [
    {
     "output_type": "execute_result",
     "data": {
      "text/plain": "1360.0"
     },
     "metadata": {},
     "execution_count": 10
    }
   ],
   "source": [
    "c.volume_ft3"
   ]
  },
  {
   "cell_type": "markdown",
   "metadata": {},
   "source": [
    "This now works for the RefrigeratedShippingContainer subclass, however there is now a duplication of the bulk volume calculation between the overridden property and its base class implementation.  This can be addressed by having the derived class version delegate to the base class.  This is done by using super() to retrieve the base-class property:"
   ]
  },
  {
   "cell_type": "code",
   "execution_count": 11,
   "metadata": {},
   "outputs": [],
   "source": [
    "class RefrigeratedShippingContainer(ShippingContainer):\n",
    "\n",
    "    MAX_CELSIUS = 4.0\n",
    "    FRIDGE_VOLUME_FT3 = 100\n",
    "    @staticmethod\n",
    "    def _make_bic_code(owner_code, serial):\n",
    "        return iso6346.create(owner_code=owner_code, serial=str(serial).zfill(6), category='R')\n",
    "\n",
    "    @staticmethod\n",
    "    def _c_to_f(celsius):\n",
    "        return celsius * 9/5 + 32\n",
    "\n",
    "    @staticmethod\n",
    "    def _f_to_c(fahrenheit):\n",
    "        return (fahrenheit - 32) * 5/9\n",
    "\n",
    "    def __init__(self, owner_code, length_ft, contents, celsius):\n",
    "        super().__init__(owner_code, length_ft, contents)\n",
    "        self.celsius = celsius\n",
    "\n",
    "    @property\n",
    "    def celsius(self):\n",
    "        return self._celsius \n",
    "\n",
    "    @celsius.setter\n",
    "    def celsius(self, value):\n",
    "        if value > RefrigeratedShippingContainer.MAX_CELSIUS:\n",
    "            raise ValueError(\"Temperature too hot!\")\n",
    "        self._celsius = value\n",
    "    \n",
    "    @property\n",
    "    def fahrenheit(self):\n",
    "        return RefrigeratedShippingContainer._c_to_f(self.celsius)\n",
    "\n",
    "    @fahrenheit.setter\n",
    "    def fahrenheit(self, value):\n",
    "        self.celsius = RefrigeratedShippingContainer._f_to_c(value)\n",
    "\n",
    "    @property\n",
    "    def volume_ft3(self):\n",
    "        return (super().volume_ft3 - RefrigeratedShippingContainer.FRIDGE_VOLUME_FT3)"
   ]
  },
  {
   "cell_type": "code",
   "execution_count": 13,
   "metadata": {},
   "outputs": [],
   "source": [
    "r2 =  RefrigeratedShippingContainer.create_empty('YML', length_ft=20, celsius=-10.0)"
   ]
  },
  {
   "cell_type": "code",
   "execution_count": 14,
   "metadata": {},
   "outputs": [
    {
     "output_type": "execute_result",
     "data": {
      "text/plain": "1260.0"
     },
     "metadata": {},
     "execution_count": 14
    }
   ],
   "source": [
    "r2.volume_ft3"
   ]
  },
  {
   "cell_type": "markdown",
   "metadata": {},
   "source": [
    "The property has been successfully redefined in the derived class, and delegation to the base class is possible if necessary"
   ]
  }
 ]
}