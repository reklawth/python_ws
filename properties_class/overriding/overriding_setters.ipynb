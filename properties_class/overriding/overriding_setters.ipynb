{
 "nbformat": 4,
 "nbformat_minor": 2,
 "metadata": {
  "language_info": {
   "name": "python",
   "codemirror_mode": {
    "name": "ipython",
    "version": 3
   },
   "version": "3.6.9-final"
  },
  "orig_nbformat": 2,
  "file_extension": ".py",
  "mimetype": "text/x-python",
  "name": "python",
  "npconvert_exporter": "python",
  "pygments_lexer": "ipython3",
  "version": 3,
  "kernelspec": {
   "name": "python36864biteda7a6cd0ab44de38791a255296f192b",
   "display_name": "Python 3.6.8 64-bit"
  }
 },
 "cells": [
  {
   "cell_type": "code",
   "execution_count": null,
   "metadata": {},
   "outputs": [],
   "source": [
    "from RefrigeratedShippingContainer import *"
   ]
  },
  {
   "cell_type": "markdown",
   "metadata": {},
   "source": [
    "We will introduce a third class to our class heirarchy to create a propery fo which it makes sense to override the setter."
   ],
   "execution_count": null,
   "outputs": []
  },
  {
   "cell_type": "code",
   "execution_count": null,
   "metadata": {},
   "outputs": [],
   "source": [
    "class HeatedRefrigeratedShippingContainer(RefrigeratedShippingContainer):\n",
    "\n",
    "    MIN_CELSIUS = -20.0\n",
    "\n",
    "    @celsius.setter\n",
    "    def celsius(self, value):\n",
    "        if not (HeatedRefrigeratedShippingContainer.MIN_CELSIUS \n",
    "                <= value\n",
    "                <= RefrigeratedShippingContainer.MAX_CELSIUS):\n",
    "            raise ValueError(\"Temperature out of range\")\n",
    "        self._celsius = value"
   ]
  },
  {
   "cell_type": "markdown",
   "metadata": {},
   "source": [
    "Unfortunately the celsius object from which which we retrieve the setter decorator is not visible in the scope of the derived class.  We can solve this by fully qualifying thename of the celsius object with the base class name:"
   ],
   "execution_count": null,
   "outputs": []
  },
  {
   "cell_type": "code",
   "execution_count": null,
   "metadata": {},
   "outputs": [],
   "source": [
    "class HeatedRefrigeratedShippingContainer(RefrigeratedShippingContainer):\n",
    "\n",
    "    MIN_CELSIUS = -20.0\n",
    "\n",
    "    @RefrigeratedShippingContainer.celsius.setter\n",
    "    def celsius(self, value):\n",
    "        if not (HeatedRefrigeratedShippingContainer.MIN_CELSIUS \n",
    "                <= value\n",
    "                <= RefrigeratedShippingContainer.MAX_CELSIUS):\n",
    "            raise ValueError(\"Temperature out of range\")\n",
    "        self._celsius = value"
   ]
  },
  {
   "cell_type": "code",
   "execution_count": null,
   "metadata": {},
   "outputs": [],
   "source": [
    "h1 = HeatedRefrigeratedShippingContainer.create_empty('YML', length_ft=40, celsius=-18.0)"
   ]
  },
  {
   "cell_type": "code",
   "execution_count": null,
   "metadata": {},
   "outputs": [],
   "source": [
    "h1"
   ]
  },
  {
   "cell_type": "markdown",
   "metadata": {},
   "source": [
    "An attempt to set a temperature belwo the minimum via the overriden property causes the ValueError to be raised:"
   ],
   "execution_count": null,
   "outputs": []
  },
  {
   "cell_type": "code",
   "execution_count": null,
   "metadata": {},
   "outputs": [],
   "source": [
    "h1.celsius = -21.0"
   ]
  },
  {
   "cell_type": "markdown",
   "metadata": {},
   "source": [
    "Similarly attempting to construct an instance with on out-of-range temperature fails as well even though we haven't even defined an __init__() method for the new class."
   ],
   "execution_count": null,
   "outputs": []
  },
  {
   "cell_type": "code",
   "execution_count": null,
   "metadata": {},
   "outputs": [],
   "source": [
    "h2 = HeatedRefrigeratedShippingContainer.create_empty('YML', length_ft=40, celsius=-25.0)"
   ]
  },
  {
   "cell_type": "markdown",
   "metadata": {},
   "source": [
    "Recall that the initializer assigns to the underlying _celsius atribute through the celsius property, so our overriden property validator is invoked during construction too, due to polymorphic dispatch"
   ],
   "execution_count": null,
   "outputs": []
  },
  {
   "cell_type": "markdown",
   "metadata": {},
   "source": [
    "We could ry to eliminate the duplication by delegating the test to the superclass, via super() like this:"
   ],
   "execution_count": null,
   "outputs": []
  },
  {
   "cell_type": "code",
   "execution_count": null,
   "metadata": {},
   "outputs": [],
   "source": [
    "class HeatedRefrigeratedShippingContainer(RefrigeratedShippingContainer):\n",
    "\n",
    "    MIN_CELSIUS = -20.0\n",
    "\n",
    "    @RefrigeratedShippingContainer.celsius.setter\n",
    "    def celsius(self, value):\n",
    "        if value < HeatedRefrigeratedShippingContainer.MIN_CELSIUS:\n",
    "            raise ValueError(\"Temperature too cold!\")\n",
    "        super().celsius = value"
   ]
  },
  {
   "cell_type": "code",
   "execution_count": null,
   "metadata": {},
   "outputs": [],
   "source": [
    "h3 = HeatedRefrigeratedShippingContainer.create_empty('ESC', length_ft=40, celsius=5.0)"
   ]
  },
  {
   "cell_type": "markdown",
   "metadata": {},
   "source": [
    "For now this is solvable by retrieving the base class property setter function, fset(), from the base class property and calling it directly, remembering to explicitly pass self:"
   ],
   "execution_count": null,
   "outputs": []
  },
  {
   "cell_type": "code",
   "execution_count": null,
   "metadata": {},
   "outputs": [],
   "source": [
    "class HeatedRefrigeratedShippingContainer(RefrigeratedShippingContainer):\n",
    "\n",
    "    MIN_CELSIUS = -20.0\n",
    "\n",
    "    @RefrigeratedShippingContainer.celsius.setter\n",
    "    def celsius(self, value):\n",
    "        if value < HeatedRefrigeratedShippingContainer.MIN_CELSIUS:\n",
    "            raise ValueError(\"Temperature too cold!\")\n",
    "        RefrigeratedShippingContainer.celsius.fset(self, value)"
   ]
  },
  {
   "cell_type": "markdown",
   "metadata": {},
   "source": [
    "A bonus of implementing this way is that the error messages are slightly more informative, indicating wheter the requested termperature is \"too hot\" or \"too cold\", rather than just \"out of range\""
   ],
   "execution_count": null,
   "outputs": []
  },
  {
   "cell_type": "code",
   "execution_count": null,
   "metadata": {},
   "outputs": [],
   "source": [
    "h4 = HeatedRefrigeratedShippingContainer.create_empty('ESC', length_ft=40, celsius=-18.0)"
   ]
  },
  {
   "cell_type": "code",
   "execution_count": null,
   "metadata": {},
   "outputs": [],
   "source": [
    "h4.celsius = 10.0"
   ]
  },
  {
   "cell_type": "code",
   "execution_count": null,
   "metadata": {},
   "outputs": [],
   "source": [
    "h4.celsius = -26.0"
   ]
  },
  {
   "cell_type": "markdown",
   "metadata": {},
   "source": [
    "None of the other code in the class which needs to respect the constraints needs to be modified.  For example, the fahrenheit setter, although not itself overriden, now respects the lower temperature limit:"
   ]
  },
  {
   "cell_type": "code",
   "execution_count": null,
   "metadata": {},
   "outputs": [],
   "source": [
    "h4.fahrenheit = -14.0"
   ]
  }
 ]
}