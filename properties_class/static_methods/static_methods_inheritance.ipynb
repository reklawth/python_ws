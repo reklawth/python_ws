{
 "nbformat": 4,
 "nbformat_minor": 2,
 "metadata": {
  "language_info": {
   "name": "python",
   "codemirror_mode": {
    "name": "ipython",
    "version": 3
   },
   "version": "3.6.9-final"
  },
  "orig_nbformat": 2,
  "file_extension": ".py",
  "mimetype": "text/x-python",
  "name": "python",
  "npconvert_exporter": "python",
  "pygments_lexer": "ipython3",
  "version": 3,
  "kernelspec": {
   "name": "python36864biteda7a6cd0ab44de38791a255296f192b",
   "display_name": "Python 3.6.8 64-bit"
  }
 },
 "cells": [
  {
   "cell_type": "markdown",
   "metadata": {},
   "source": [
    "Let's introduce a subclass of ShippingContainer called RefrigeratedShippingContainer"
   ]
  },
  {
   "cell_type": "code",
   "execution_count": 9,
   "metadata": {},
   "outputs": [],
   "source": [
    "from shipping import *"
   ]
  },
  {
   "cell_type": "code",
   "execution_count": 10,
   "metadata": {},
   "outputs": [],
   "source": [
    "class RefrigeratedShippingContainer(ShippingContainer):\n",
    "\n",
    "    @staticmethod\n",
    "    def _make_bic_code(owner_code, serial):\n",
    "        return iso6346.create(owner_code=owner_code, serial=str(serial).zfill(6), category='R')"
   ]
  },
  {
   "cell_type": "code",
   "execution_count": 11,
   "metadata": {},
   "outputs": [],
   "source": [
    "r1 = RefrigeratedShippingContainer(\"MAE\", 'fish')"
   ]
  },
  {
   "cell_type": "code",
   "execution_count": 12,
   "metadata": {},
   "outputs": [
    {
     "output_type": "execute_result",
     "data": {
      "text/plain": "'MAEU0013371'"
     },
     "metadata": {},
     "execution_count": 12
    }
   ],
   "source": [
    "r1.bic"
   ]
  },
  {
   "cell_type": "markdown",
   "metadata": {},
   "source": [
    "'MAEU0013371' was not the desired result.  The fourth character in the BIC code is still 'U', we were expecting 'R'.  This is because in ShippingContainer.__init__() we have called _make_bic_code() through a specific class which currently takes owner_code and serial.  To get polymorpyic override behavior we need to call the static method on an instance."
   ]
  },
  {
   "cell_type": "markdown",
   "metadata": {},
   "source": [
    "First test the static method by calling _make_bic_code() directly on the base (default) class:"
   ]
  },
  {
   "cell_type": "code",
   "execution_count": 13,
   "metadata": {},
   "outputs": [
    {
     "output_type": "execute_result",
     "data": {
      "text/plain": "'MAEU0012349'"
     },
     "metadata": {},
     "execution_count": 13
    }
   ],
   "source": [
    "ShippingContainer._make_bic_code('MAE', 1234)"
   ]
  },
  {
   "cell_type": "markdown",
   "metadata": {},
   "source": [
    "Then directly on the derived class:"
   ]
  },
  {
   "cell_type": "code",
   "execution_count": 14,
   "metadata": {},
   "outputs": [
    {
     "output_type": "execute_result",
     "data": {
      "text/plain": "'MAER0012347'"
     },
     "metadata": {},
     "execution_count": 14
    }
   ],
   "source": [
    "RefrigeratedShippingContainer._make_bic_code('MAE', 1234)"
   ]
  },
  {
   "cell_type": "markdown",
   "metadata": {},
   "source": [
    "Now there is an 'R' for refrigeration for the fourth character.  \n",
    "\n",
    "There are class-specific version of the static methods that have been called.  Now to create some instances.  First off, ShippingContainer or the base class:"
   ]
  },
  {
   "cell_type": "code",
   "execution_count": 15,
   "metadata": {},
   "outputs": [],
   "source": [
    "c = ShippingContainer('ESC', 'textiles')"
   ]
  },
  {
   "cell_type": "code",
   "execution_count": 16,
   "metadata": {},
   "outputs": [
    {
     "output_type": "execute_result",
     "data": {
      "text/plain": "'MAEU0012349'"
     },
     "metadata": {},
     "execution_count": 16
    }
   ],
   "source": [
    "c ._make_bic_code('MAE', 1234)"
   ]
  },
  {
   "cell_type": "markdown",
   "metadata": {},
   "source": [
    "The fourth character of the result is the default 'U', indicating that the base version (i.e. ShippingContainer) was called. Although an instance has been created, any instance attribue date is being ignored when the static method is invoked directly in this way."
   ]
  },
  {
   "cell_type": "markdown",
   "metadata": {},
   "source": [
    "Now instantiate the derived class (i.e. RefrigeratedShippingContainer):"
   ]
  },
  {
   "cell_type": "code",
   "execution_count": 17,
   "metadata": {},
   "outputs": [],
   "source": [
    "r = RefrigeratedShippingContainer('ESC', 'peas')"
   ]
  },
  {
   "cell_type": "code",
   "execution_count": 18,
   "metadata": {},
   "outputs": [
    {
     "output_type": "execute_result",
     "data": {
      "text/plain": "'MAER0012347'"
     },
     "metadata": {},
     "execution_count": 18
    }
   ],
   "source": [
    "r._make_bic_code('MAE', 1234)"
   ]
  },
  {
   "cell_type": "markdown",
   "metadata": {},
   "source": [
    "'R' is now the fourth character, indicating that hte derived class implementation is called. So we can get polymorphic dispatch of static methods only when we call the method through and instance not when we call the method through the class.  The desired result is attained by modifying __init__() in the base class to use polymorphic dispatch of the static method by calling through the instance, self:"
   ]
  },
  {
   "cell_type": "code",
   "execution_count": 19,
   "metadata": {},
   "outputs": [],
   "source": [
    "#See mdofied_inheritance.ipynb & modified_shipping.py"
   ]
  }
 ]
}