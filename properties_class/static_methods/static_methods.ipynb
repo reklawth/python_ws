{
 "nbformat": 4,
 "nbformat_minor": 2,
 "metadata": {
  "language_info": {
   "name": "python",
   "codemirror_mode": {
    "name": "ipython",
    "version": 3
   },
   "version": "3.6.9-final"
  },
  "orig_nbformat": 2,
  "file_extension": ".py",
  "mimetype": "text/x-python",
  "name": "python",
  "npconvert_exporter": "python",
  "pygments_lexer": "ipython3",
  "version": 3,
  "kernelspec": {
   "name": "python36864biteda7a6cd0ab44de38791a255296f192b",
   "display_name": "Python 3.6.8 64-bit"
  }
 },
 "cells": [
  {
   "cell_type": "markdown",
   "metadata": {},
   "source": [
    "The next serial number will be moved into the method _get_next_serial() which as indicated by the leading underscore is an implementation detail of this class:"
   ]
  },
  {
   "cell_type": "code",
   "execution_count": 1,
   "metadata": {},
   "outputs": [],
   "source": [
    "class ShippingContainer:\n",
    "\n",
    "    next_serial = 1337\n",
    "\n",
    "    def _get_next_serial(self):\n",
    "        result = ShippingContainer.next_serial\n",
    "        ShippingContainer.next_serial += 1\n",
    "        return result\n",
    "\n",
    "    def _init__(self, owner_code, contents):\n",
    "        self.owner_code = owner_code\n",
    "        self.contents = contents\n",
    "        self.serial = self._get_next_serial()"
   ]
  },
  {
   "cell_type": "markdown",
   "metadata": {},
   "source": [
    "Noice the first argument to _get_next_serial() is self which is the instance on which the method will operate.  However, although we much accept the self instance argument, nowhere in the method do we actually refer to self, so it seems redundant.  We will associate _get_next_serial() with the class rather than with instances of the class.  Python gives us two mechanisms to achieve this, the first of which is the @staticmethod decorator.\n",
    "\n",
    "The @staticmethod decorator\n",
    "\n",
    "To convert our method to a static method, we decorate it with @staticmethod and remove the unused self argument:"
   ]
  },
  {
   "cell_type": "code",
   "execution_count": 2,
   "metadata": {},
   "outputs": [],
   "source": [
    "class ShippingContainer:\n",
    "\n",
    "    nexxt_serial = 1337\n",
    "\n",
    "    @staticmethod\n",
    "    def _get_next_serial():\n",
    "        result = ShippingContainer.nexxt_serial\n",
    "        ShippingContainer.nexxt_serial += 1\n",
    "        return result\n",
    "\n",
    "    def __init__(self, owner_code, contents):\n",
    "        self.owner_code = owner_code\n",
    "        self.contents = contents\n",
    "        self.serial = ShippingContainer._get_next_serial()"
   ]
  },
  {
   "cell_type": "markdown",
   "metadata": {},
   "source": [
    "Although no strictly necessary we can also modify the call site to call through the class rater than through the instance, by replacing self._get_next_serial() with ShippingContainer._get_next_serial().\n",
    "\n",
    "This code has the same behavior as before"
   ]
  },
  {
   "cell_type": "code",
   "execution_count": 3,
   "metadata": {},
   "outputs": [],
   "source": [
    "c6 = ShippingContainer(\"YML\", \"coffee\")"
   ]
  },
  {
   "cell_type": "code",
   "execution_count": 4,
   "metadata": {},
   "outputs": [
    {
     "output_type": "execute_result",
     "data": {
      "text/plain": "1337"
     },
     "metadata": {},
     "execution_count": 4
    }
   ],
   "source": [
    "c6.serial"
   ]
  },
  {
   "cell_type": "code",
   "execution_count": 5,
   "metadata": {},
   "outputs": [
    {
     "output_type": "execute_result",
     "data": {
      "text/plain": "1338"
     },
     "metadata": {},
     "execution_count": 5
    }
   ],
   "source": [
    "ShippingContainer.nexxt_serial"
   ]
  },
  {
   "cell_type": "markdown",
   "metadata": {},
   "source": [
    "In practice, most static methods will be internal implementation details of the class, and they will be marked as such with a leading underscore.  Having no access to either the class object or the instance object, they rarely form a useful part of the class interface.\n",
    "\n",
    "In principle, it would also be possible to implement any @staticmethod completely outside of the class at module scope without any loss of functionality - carefully consider whether a particular function should be a module scope function or a staic method.  The @static method decorator merely facilitates a particular organization of the code allow the placement of what could be free functions within classes."
   ]
  }
 ]
}