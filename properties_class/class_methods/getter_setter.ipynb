{
 "nbformat": 4,
 "nbformat_minor": 2,
 "metadata": {
  "language_info": {
   "name": "python",
   "codemirror_mode": {
    "name": "ipython",
    "version": 3
   },
   "version": "3.6.9-final"
  },
  "orig_nbformat": 2,
  "file_extension": ".py",
  "mimetype": "text/x-python",
  "name": "python",
  "npconvert_exporter": "python",
  "pygments_lexer": "ipython3",
  "version": 3,
  "kernelspec": {
   "name": "python36864biteda7a6cd0ab44de38791a255296f192b",
   "display_name": "Python 3.6.8 64-bit"
  }
 },
 "cells": [
  {
   "cell_type": "code",
   "execution_count": 1,
   "metadata": {},
   "outputs": [],
   "source": [
    "from modified_shipping import *"
   ]
  },
  {
   "cell_type": "markdown",
   "metadata": {},
   "source": [
    "Below is the RefrigeratedShippingContainer subclass from modified_inheritance.ipynb.  Additions to the class are the setter functions with the associated setter property decorators, and additionas static methods for conversions between Fahrenheit and Celsius:"
   ]
  },
  {
   "cell_type": "code",
   "execution_count": 2,
   "metadata": {},
   "outputs": [],
   "source": [
    "class RefrigeratedShippingContainer(ShippingContainer):\n",
    "\n",
    "    MAX_CELSIUS = 4.0\n",
    "    @staticmethod\n",
    "    def _make_bic_code(owner_code, serial):\n",
    "        return iso6346.create(owner_code=owner_code, serial=str(serial).zfill(6), category='R')\n",
    "\n",
    "    @staticmethod\n",
    "    def _c_to_f(celsius):\n",
    "        return celsius * 9/5 + 32\n",
    "\n",
    "    @staticmethod\n",
    "    def _f_to_c(fahrenheit):\n",
    "        return (fahrenheit - 32) * 5/9\n",
    "\n",
    "    def __init__(self, owner_code, contents, celsius):\n",
    "        super().__init__(owner_code, contents)\n",
    "        if celsius > RefrigeratedShippingContainer.MAX_CELSIUS:\n",
    "            raise ValueError(\"Temperature too hot!\")\n",
    "        self.celsius = celsius\n",
    "\n",
    "    @property\n",
    "    def celsius(self):\n",
    "        return self._celsius \n",
    "\n",
    "    @celsius.setter\n",
    "    def celsius(self, value):\n",
    "        if value > RefrigeratedShippingContainer.MAX_CELSIUS:\n",
    "            raise ValueError(\"Temperature too hot!\")\n",
    "        self._celsius = value\n",
    "    \n",
    "    @property\n",
    "    def fahrenheit(self):\n",
    "        return RefrigeratedShippingContainer._c_to_f(self.celsius)\n",
    "\n",
    "    @fahrenheit.setter\n",
    "    def fahrenheit(self, value):\n",
    "        self.celsius = RefrigeratedShippingContainer._f_to_c(value)"
   ]
  },
  {
   "cell_type": "markdown",
   "metadata": {},
   "source": [
    "Notice that _c_to_f() and _f_to_c() are good candidates for static methods since they do not depend on the instance or class objecs but do not belong at global scope in a module of shipping container classes either.  The getter and setter methods for the new fahrenheit property are implemented in terms of the new temperature conversion static methods. Rather than going directly to the sotred _celsius attribute, these new methods are also implemented in therms of the existing celsius property.  This is to allow the validation logic in the existing property to be reused."
   ]
  },
  {
   "cell_type": "code",
   "execution_count": 3,
   "metadata": {},
   "outputs": [],
   "source": [
    "r6 = RefrigeratedShippingContainer.create_empty('YML', celsius=-20)"
   ]
  },
  {
   "cell_type": "code",
   "execution_count": 4,
   "metadata": {},
   "outputs": [
    {
     "output_type": "execute_result",
     "data": {
      "text/plain": "-20"
     },
     "metadata": {},
     "execution_count": 4
    }
   ],
   "source": [
    "r6.celsius"
   ]
  },
  {
   "cell_type": "code",
   "execution_count": 5,
   "metadata": {},
   "outputs": [
    {
     "output_type": "execute_result",
     "data": {
      "text/plain": "-4.0"
     },
     "metadata": {},
     "execution_count": 5
    }
   ],
   "source": [
    "r6.fahrenheit"
   ]
  },
  {
   "cell_type": "code",
   "execution_count": 6,
   "metadata": {},
   "outputs": [],
   "source": [
    "r6.fahrenheit = - 10.0"
   ]
  },
  {
   "cell_type": "code",
   "execution_count": 7,
   "metadata": {},
   "outputs": [
    {
     "output_type": "execute_result",
     "data": {
      "text/plain": "-23.333333333333332"
     },
     "metadata": {},
     "execution_count": 7
    }
   ],
   "source": [
    "r6.celsius"
   ]
  },
  {
   "cell_type": "code",
   "execution_count": 8,
   "metadata": {},
   "outputs": [
    {
     "output_type": "error",
     "ename": "ValueError",
     "evalue": "Temperature too hot!",
     "traceback": [
      "\u001b[0;31m---------------------------------------------------------------------------\u001b[0m",
      "\u001b[0;31mValueError\u001b[0m                                Traceback (most recent call last)",
      "\u001b[0;32m<ipython-input-8-4a07bfa8dcbe>\u001b[0m in \u001b[0;36m<module>\u001b[0;34m\u001b[0m\n\u001b[0;32m----> 1\u001b[0;31m \u001b[0mr7\u001b[0m \u001b[0;34m=\u001b[0m \u001b[0mRefrigeratedShippingContainer\u001b[0m\u001b[0;34m.\u001b[0m\u001b[0mcreate_empty\u001b[0m\u001b[0;34m(\u001b[0m\u001b[0;34m'MAE'\u001b[0m\u001b[0;34m,\u001b[0m \u001b[0mcelsius\u001b[0m\u001b[0;34m=\u001b[0m\u001b[0;36m7.0\u001b[0m\u001b[0;34m)\u001b[0m\u001b[0;34m\u001b[0m\u001b[0;34m\u001b[0m\u001b[0m\n\u001b[0m",
      "\u001b[0;32m~/code/python_ws/properties_class/class_methods/modified_shipping.py\u001b[0m in \u001b[0;36mcreate_empty\u001b[0;34m(cls, owner_code, *args, **kwargs)\u001b[0m\n\u001b[1;32m     17\u001b[0m     \u001b[0;34m@\u001b[0m\u001b[0mclassmethod\u001b[0m\u001b[0;34m\u001b[0m\u001b[0;34m\u001b[0m\u001b[0m\n\u001b[1;32m     18\u001b[0m     \u001b[0;32mdef\u001b[0m \u001b[0mcreate_empty\u001b[0m\u001b[0;34m(\u001b[0m\u001b[0mcls\u001b[0m\u001b[0;34m,\u001b[0m \u001b[0mowner_code\u001b[0m\u001b[0;34m,\u001b[0m \u001b[0;34m*\u001b[0m\u001b[0margs\u001b[0m\u001b[0;34m,\u001b[0m \u001b[0;34m**\u001b[0m\u001b[0mkwargs\u001b[0m\u001b[0;34m)\u001b[0m\u001b[0;34m:\u001b[0m\u001b[0;34m\u001b[0m\u001b[0;34m\u001b[0m\u001b[0m\n\u001b[0;32m---> 19\u001b[0;31m         \u001b[0;32mreturn\u001b[0m \u001b[0mcls\u001b[0m\u001b[0;34m(\u001b[0m\u001b[0mowner_code\u001b[0m\u001b[0;34m,\u001b[0m \u001b[0mcontents\u001b[0m\u001b[0;34m=\u001b[0m\u001b[0;32mNone\u001b[0m\u001b[0;34m,\u001b[0m \u001b[0;34m*\u001b[0m\u001b[0margs\u001b[0m\u001b[0;34m,\u001b[0m \u001b[0;34m**\u001b[0m\u001b[0mkwargs\u001b[0m\u001b[0;34m)\u001b[0m\u001b[0;34m\u001b[0m\u001b[0;34m\u001b[0m\u001b[0m\n\u001b[0m\u001b[1;32m     20\u001b[0m \u001b[0;34m\u001b[0m\u001b[0m\n\u001b[1;32m     21\u001b[0m     \u001b[0;34m@\u001b[0m\u001b[0mclassmethod\u001b[0m\u001b[0;34m\u001b[0m\u001b[0;34m\u001b[0m\u001b[0m\n",
      "\u001b[0;32m<ipython-input-2-adaee26aea33>\u001b[0m in \u001b[0;36m__init__\u001b[0;34m(self, owner_code, contents, celsius)\u001b[0m\n\u001b[1;32m     17\u001b[0m         \u001b[0msuper\u001b[0m\u001b[0;34m(\u001b[0m\u001b[0;34m)\u001b[0m\u001b[0;34m.\u001b[0m\u001b[0m__init__\u001b[0m\u001b[0;34m(\u001b[0m\u001b[0mowner_code\u001b[0m\u001b[0;34m,\u001b[0m \u001b[0mcontents\u001b[0m\u001b[0;34m)\u001b[0m\u001b[0;34m\u001b[0m\u001b[0;34m\u001b[0m\u001b[0m\n\u001b[1;32m     18\u001b[0m         \u001b[0;32mif\u001b[0m \u001b[0mcelsius\u001b[0m \u001b[0;34m>\u001b[0m \u001b[0mRefrigeratedShippingContainer\u001b[0m\u001b[0;34m.\u001b[0m\u001b[0mMAX_CELSIUS\u001b[0m\u001b[0;34m:\u001b[0m\u001b[0;34m\u001b[0m\u001b[0;34m\u001b[0m\u001b[0m\n\u001b[0;32m---> 19\u001b[0;31m             \u001b[0;32mraise\u001b[0m \u001b[0mValueError\u001b[0m\u001b[0;34m(\u001b[0m\u001b[0;34m\"Temperature too hot!\"\u001b[0m\u001b[0;34m)\u001b[0m\u001b[0;34m\u001b[0m\u001b[0;34m\u001b[0m\u001b[0m\n\u001b[0m\u001b[1;32m     20\u001b[0m         \u001b[0mself\u001b[0m\u001b[0;34m.\u001b[0m\u001b[0mcelsius\u001b[0m \u001b[0;34m=\u001b[0m \u001b[0mcelsius\u001b[0m\u001b[0;34m\u001b[0m\u001b[0;34m\u001b[0m\u001b[0m\n\u001b[1;32m     21\u001b[0m \u001b[0;34m\u001b[0m\u001b[0m\n",
      "\u001b[0;31mValueError\u001b[0m: Temperature too hot!"
     ]
    }
   ],
   "source": [
    "r7 = RefrigeratedShippingContainer.create_empty('MAE', celsius=7.0)"
   ]
  }
 ]
}