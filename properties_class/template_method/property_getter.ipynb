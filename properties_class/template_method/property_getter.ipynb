{
 "nbformat": 4,
 "nbformat_minor": 2,
 "metadata": {
  "language_info": {
   "name": "python",
   "codemirror_mode": {
    "name": "ipython",
    "version": 3
   },
   "version": "3.6.9-final"
  },
  "orig_nbformat": 2,
  "file_extension": ".py",
  "mimetype": "text/x-python",
  "name": "python",
  "npconvert_exporter": "python",
  "pygments_lexer": "ipython3",
  "version": 3,
  "kernelspec": {
   "name": "python36964bit347f991c209d479fb0aaa0907fb23c61",
   "display_name": "Python 3.6.9 64-bit"
  }
 },
 "cells": [
  {
   "cell_type": "markdown",
   "metadata": {},
   "source": [
    "The volume_ft3 property in shipping.py is now in a template method.  It does not do anything itself except delegate to a regular method, which can be supplied or overriden in a derived class such as HeatedRefrigeratedShippingContainer."
   ],
   "execution_count": null,
   "outputs": []
  },
  {
   "cell_type": "code",
   "execution_count": 1,
   "metadata": {},
   "outputs": [],
   "source": [
    "from shipping import *"
   ]
  },
  {
   "cell_type": "code",
   "execution_count": 2,
   "metadata": {},
   "outputs": [],
   "source": [
    "from RefrigeratedShippingContainer import *"
   ]
  },
  {
   "cell_type": "markdown",
   "metadata": {},
   "source": [
    "The regular method in the base class will now be overriden in the derived class by converting the existing overriden property into a regular undecorated method."
   ],
   "execution_count": null,
   "outputs": []
  },
  {
   "cell_type": "code",
   "execution_count": 3,
   "metadata": {},
   "outputs": [],
   "source": [
    "class HeatedRefrigeratedShippingContainer(RefrigeratedShippingContainer):\n",
    "\n",
    "    MIN_CELSIUS = -20.0\n",
    "\n",
    "    @RefrigeratedShippingContainer.celsius.setter\n",
    "    def celsius(self, value):\n",
    "        if value < HeatedRefrigeratedShippingContainer.MIN_CELSIUS:\n",
    "            raise ValueError(\"Temperature too cold!\")\n",
    "        RefrigeratedShippingContainer.celsius.fset(self, value)\n",
    "\n",
    "    def _calc_volume(self):\n",
    "        return super()._calc_volume() - RefrigeratedShippingContainer.FRIDGE_VOLUME_FT3"
   ]
  },
  {
   "cell_type": "markdown",
   "metadata": {},
   "source": [
    "This updated _calc_volume() method in the derived class HeatedRefrigeratedShippingContainer leans on the base class implementation by using a call to super()."
   ],
   "execution_count": null,
   "outputs": []
  },
  {
   "cell_type": "code",
   "execution_count": 4,
   "metadata": {},
   "outputs": [],
   "source": [
    "c = ShippingContainer.create_empty('ESC', length_ft=20)"
   ]
  },
  {
   "cell_type": "code",
   "execution_count": 5,
   "metadata": {},
   "outputs": [
    {
     "output_type": "execute_result",
     "data": {
      "text/plain": "1360.0"
     },
     "metadata": {},
     "execution_count": 5
    }
   ],
   "source": [
    "c.volume_ft3"
   ]
  },
  {
   "cell_type": "code",
   "execution_count": 7,
   "metadata": {},
   "outputs": [],
   "source": [
    "r = RefrigeratedShippingContainer.create_empty('ESC', length_ft=20, celsius=-18.0)"
   ]
  },
  {
   "cell_type": "code",
   "execution_count": 8,
   "metadata": {},
   "outputs": [
    {
     "output_type": "execute_result",
     "data": {
      "text/plain": "1260.0"
     },
     "metadata": {},
     "execution_count": 8
    }
   ],
   "source": [
    "r.volume_ft3"
   ]
  }
 ]
}