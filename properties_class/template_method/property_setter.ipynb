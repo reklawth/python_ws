{
 "nbformat": 4,
 "nbformat_minor": 2,
 "metadata": {
  "language_info": {
   "name": "python",
   "codemirror_mode": {
    "name": "ipython",
    "version": 3
   },
   "version": "3.6.9-final"
  },
  "orig_nbformat": 2,
  "file_extension": ".py",
  "mimetype": "text/x-python",
  "name": "python",
  "npconvert_exporter": "python",
  "pygments_lexer": "ipython3",
  "version": 3,
  "kernelspec": {
   "name": "python36864biteda7a6cd0ab44de38791a255296f192b",
   "display_name": "Python 3.6.8 64-bit"
  }
 },
 "cells": [
  {
   "cell_type": "markdown",
   "metadata": {},
   "source": [
    "The celsius setter in RefrigeratedShippingContainer.py has been turned into a template method, which delegates to an undecorated _set_celsius() method."
   ],
   "execution_count": null,
   "outputs": []
  },
  {
   "cell_type": "code",
   "execution_count": null,
   "metadata": {},
   "outputs": [],
   "source": [
    "from RefrigeratedShippingContainer import *"
   ]
  },
  {
   "cell_type": "markdown",
   "metadata": {},
   "source": [
    "The property override construct will now be removed and the _set_celsius() method will now be overridden."
   ],
   "execution_count": null,
   "outputs": []
  },
  {
   "cell_type": "code",
   "execution_count": null,
   "metadata": {},
   "outputs": [],
   "source": [
    "class HeatedRefrigeratedShippingContainer(RefrigeratedShippingContainer):\n",
    "\n",
    "    MIN_CELSIUS = -20.0\n",
    "\n",
    "    def _set_celsius(self,value):\n",
    "        if value < HeatedRefrigeratedShippingContainer.MIN_CELSIUS:\n",
    "            raise ValueError(\"Temperature too cold!\")\n",
    "        super()._set_celsius(value)\n",
    "\n",
    "    def _calc_volume(self):\n",
    "        return super()._calc_volume() - RefrigeratedShippingContainer.FRIDGE_VOLUME_FT3\n",
    "\n",
    "    "
   ]
  },
  {
   "cell_type": "markdown",
   "metadata": {},
   "source": [
    "super() is being used to call the base class implementation."
   ],
   "execution_count": null,
   "outputs": []
  },
  {
   "cell_type": "code",
   "execution_count": null,
   "metadata": {},
   "outputs": [],
   "source": [
    "h = HeatedRefrigeratedShippingContainer.create_empty('YML', length_ft=40, celsius=-18.0)"
   ]
  },
  {
   "cell_type": "code",
   "execution_count": null,
   "metadata": {},
   "outputs": [],
   "source": [
    "h.celsius"
   ]
  },
  {
   "cell_type": "code",
   "execution_count": null,
   "metadata": {},
   "outputs": [],
   "source": [
    "h.celsius = -30"
   ]
  },
  {
   "cell_type": "code",
   "execution_count": null,
   "metadata": {},
   "outputs": [],
   "source": [
    "h.celsius = 5"
   ]
  }
 ]
}