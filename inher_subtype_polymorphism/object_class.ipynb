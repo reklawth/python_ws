{
 "cells": [
  {
   "cell_type": "markdown",
   "metadata": {},
   "source": [
    "## `object`\n",
    "\n",
    "The core of the Python object model is a class called `object`, which is the ultimate base-calss for every class in Pythoon.  It is at the root of every inheritance graph, and it shows up in every MRO.  If a class is defined with no base-class `object` is the base automatically. Example:"
   ]
  },
  {
   "cell_type": "code",
   "execution_count": null,
   "metadata": {},
   "outputs": [],
   "source": [
    "class NoBaseClass: pass"
   ]
  },
  {
   "cell_type": "code",
   "execution_count": null,
   "metadata": {},
   "outputs": [],
   "source": [
    "NoBaseClass.__bases__"
   ]
  },
  {
   "cell_type": "markdown",
   "metadata": {},
   "source": [
    "See the attributes of object:"
   ]
  },
  {
   "cell_type": "code",
   "execution_count": null,
   "metadata": {},
   "outputs": [],
   "source": [
    "dir(object)"
   ]
  },
  {
   "cell_type": "markdown",
   "metadata": {},
   "source": [
    "The results of the preceding are all special attributes or functions.  That means that object is doing significant work to tie into the implementation details of Python.  For example, `__eq__`, `__ge__`, `__le__` and `__lt__` methods are some of the hooks into the comparison operators of Python.  The `__str__` and `__repr__` methods tie into the str() and repr() functions. "
   ]
  },
  {
   "cell_type": "markdown",
   "metadata": {},
   "source": [
    "`object` provides the mechanisms for basic atribute lookup and management.  Methods such as `__getattribute__`, `__setattr__`, and `__delattr__` form the foundation on which Python objects expose attributes to callers."
   ]
  }
 ],
 "metadata": {
  "language_info": {
   "codemirror_mode": {
    "name": "ipython",
    "version": 3
   },
   "file_extension": ".py",
   "mimetype": "text/x-python",
   "name": "python",
   "nbconvert_exporter": "python",
   "pygments_lexer": "ipython3",
   "version": "3.6.9-final"
  },
  "orig_nbformat": 2,
  "kernelspec": {
   "name": "python36964bit347f991c209d479fb0aaa0907fb23c61",
   "display_name": "Python 3.6.9 64-bit"
  }
 },
 "nbformat": 4,
 "nbformat_minor": 2
}