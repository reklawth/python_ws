{
 "nbformat": 4,
 "nbformat_minor": 2,
 "metadata": {
  "language_info": {
   "name": "python",
   "codemirror_mode": {
    "name": "ipython",
    "version": 3
   },
   "version": "3.6.9-final"
  },
  "orig_nbformat": 2,
  "file_extension": ".py",
  "mimetype": "text/x-python",
  "name": "python",
  "npconvert_exporter": "python",
  "pygments_lexer": "ipython3",
  "version": 3,
  "kernelspec": {
   "name": "python36864biteda7a6cd0ab44de38791a255296f192b",
   "display_name": "Python 3.6.8 64-bit"
  }
 },
 "cells": [
  {
   "cell_type": "markdown",
   "metadata": {},
   "source": [
    "In Point2D we could implement __format__() to reverse x and y if r is passed in as the format string:"
   ]
  },
  {
   "cell_type": "code",
   "execution_count": 1,
   "metadata": {},
   "outputs": [],
   "source": [
    "class Point2D:\n",
    "\n",
    "    def __init__(self, x, y):\n",
    "        self.x = x\n",
    "        self.y = y\n",
    "    \n",
    "    def __str__(self):\n",
    "        return '({}, {})'.format(self.x, self.y)\n",
    "\n",
    "    def __repr__(self):\n",
    "        return 'Point2D(x={}, y={})'.format(self.x, self.y)\n",
    "\n",
    "    def __format__(self, f):\n",
    "        if f == 'r':\n",
    "            return '{}, {}'.format(self.y, self.x)\n",
    "        else:\n",
    "            return '{}, {}'.format(self.x, self.y)"
   ]
  },
  {
   "cell_type": "markdown",
   "metadata": {},
   "source": [
    "Now use {:r} insttead of the standard {} placeholder, and see that x and y are swapped in the output:"
   ]
  },
  {
   "cell_type": "code",
   "execution_count": 2,
   "metadata": {},
   "outputs": [
    {
     "output_type": "execute_result",
     "data": {
      "text/plain": "'1, 2'"
     },
     "metadata": {},
     "execution_count": 2
    }
   ],
   "source": [
    "'{}'.format(Point2D(1,2))"
   ]
  },
  {
   "cell_type": "code",
   "execution_count": 3,
   "metadata": {},
   "outputs": [
    {
     "output_type": "execute_result",
     "data": {
      "text/plain": "'2, 1'"
     },
     "metadata": {},
     "execution_count": 3
    }
   ],
   "source": [
    "'{:r}'.format(Point2D(1,2))"
   ]
  },
  {
   "cell_type": "code",
   "execution_count": 4,
   "metadata": {},
   "outputs": [
    {
     "output_type": "execute_result",
     "data": {
      "text/plain": "'Lel, 1'"
     },
     "metadata": {},
     "execution_count": 4
    }
   ],
   "source": [
    "'{:r}'.format(Point2D(1,'Lel'))"
   ]
  },
  {
   "cell_type": "markdown",
   "metadata": {},
   "source": [
    "Most classes rely on the default behavior which is to call __str__(). This is why string's format() function seems at first to just call __str__()."
   ]
  },
  {
   "cell_type": "markdown",
   "metadata": {},
   "source": [
    "In some cases there is a need to force format() to use __repr__() directly rather than having it call __format__().  You can do this by putting !r in the formatting placeholder:"
   ]
  },
  {
   "cell_type": "code",
   "execution_count": 5,
   "metadata": {},
   "outputs": [
    {
     "output_type": "execute_result",
     "data": {
      "text/plain": "'Point2D(x=1, y=2)'"
     },
     "metadata": {},
     "execution_count": 5
    }
   ],
   "source": [
    "'{!r}'.format(Point2D(1,2))"
   ]
  },
  {
   "cell_type": "markdown",
   "metadata": {},
   "source": [
    "You can bypass __format__()and use __str__() directly by putting !s in the formatting placeholder:"
   ]
  },
  {
   "cell_type": "code",
   "execution_count": 6,
   "metadata": {},
   "outputs": [
    {
     "output_type": "execute_result",
     "data": {
      "text/plain": "'(1, 2)'"
     },
     "metadata": {},
     "execution_count": 6
    }
   ],
   "source": [
    "'{!s}'.format(Point2D(1,2))"
   ]
  }
 ]
}