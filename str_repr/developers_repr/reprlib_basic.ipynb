{
 "nbformat": 4,
 "nbformat_minor": 2,
 "metadata": {
  "language_info": {
   "name": "python",
   "codemirror_mode": {
    "name": "ipython",
    "version": 3
   },
   "version": "3.6.9-final"
  },
  "orig_nbformat": 2,
  "file_extension": ".py",
  "mimetype": "text/x-python",
  "name": "python",
  "npconvert_exporter": "python",
  "pygments_lexer": "ipython3",
  "version": 3,
  "kernelspec": {
   "name": "python36964bit347f991c209d479fb0aaa0907fb23c61",
   "display_name": "Python 3.6.9 64-bit"
  }
 },
 "cells": [
  {
   "cell_type": "markdown",
   "metadata": {},
   "source": [
    "The basic usage of reprlib involves using reprlib.repr().  This function is a drop-in replacement for the built-in repr.  For example it can be used to print a huge list of Point2D objects:"
   ]
  },
  {
   "cell_type": "code",
   "execution_count": 2,
   "metadata": {},
   "outputs": [],
   "source": [
    "import reprlib"
   ]
  },
  {
   "cell_type": "code",
   "execution_count": 1,
   "metadata": {},
   "outputs": [],
   "source": [
    "class Point2D:\n",
    "\n",
    "    def __init__(self, x, y):\n",
    "        self.x = x\n",
    "        self.y = y\n",
    "    \n",
    "    def __str__(self):\n",
    "        return '({}, {})'.format(self.x, self.y)\n",
    "\n",
    "    def __repr__(self):\n",
    "        return 'Point2D(x={}, y={})'.format(self.x, self.y)\n",
    "\n",
    "    def __format__(self, f):\n",
    "        if f == 'r':\n",
    "            return '{}, {}'.format(self.y, self.x)\n",
    "        else:\n",
    "            return '{}, {}'.format(self.x, self.y)"
   ]
  },
  {
   "cell_type": "code",
   "execution_count": 3,
   "metadata": {},
   "outputs": [],
   "source": [
    "points = [Point2D(x, y) for x in range(1000) for y in range (1000)]"
   ]
  },
  {
   "cell_type": "code",
   "execution_count": 4,
   "metadata": {},
   "outputs": [
    {
     "output_type": "execute_result",
     "data": {
      "text/plain": "1000000"
     },
     "metadata": {},
     "execution_count": 4
    }
   ],
   "source": [
    "len(points)"
   ]
  },
  {
   "cell_type": "code",
   "execution_count": 5,
   "metadata": {},
   "outputs": [
    {
     "output_type": "execute_result",
     "data": {
      "text/plain": "'[Point2D(x=0, y=0), Point2D(x=0, y=1), Point2D(x=0, y=2), Point2D(x=0, y=3), Point2D(x=0, y=4), Point2D(x=0, y=5), ...]'"
     },
     "metadata": {},
     "execution_count": 5
    }
   ],
   "source": [
    "reprlib.repr(points)"
   ]
  },
  {
   "cell_type": "markdown",
   "metadata": {},
   "source": [
    "We made a list of one million points (1000 * 1000), if we had used the built-in repr() to print we would have had to print all one million entries.  Inseat reprlib.repr() just printed out the first few elements followed by an ellipsis to indicate that there were more elements."
   ]
  }
 ]
}