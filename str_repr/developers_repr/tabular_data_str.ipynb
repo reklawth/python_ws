{
 "cells": [
  {
   "cell_type": "markdown",
   "metadata": {},
   "source": [
    "There are times when it makes sense for a repr to be smaller than a str.  Consider the following simple class for rendering tabular data. It comprises a list of header srings and a collection of lists of data for the table's columns:"
   ]
  },
  {
   "cell_type": "code",
   "execution_count": null,
   "metadata": {},
   "outputs": [],
   "source": [
    "class Table:\n",
    "    def __init__(self, header, *data):\n",
    "        self.header = list(header)\n",
    "        self.data = data\n",
    "        assert len(header) == len(data)\n",
    "\n",
    "    def _column_width(self, i):\n",
    "        rslt = max(len(str(x)) for x in self.data[i])\n",
    "\n",
    "        return max(len(self.header[i]), rslt)\n",
    "\n",
    "    def __str__(self):\n",
    "        col_count = len(self.header)\n",
    "        col_widths = [self._column_width(i) for i in range(col_count)]\n",
    "\n",
    "        format_specs = ['{{:{}}}'.format(col_widths[i]) \n",
    "                        for i in range(col_count)]\n",
    "\n",
    "        rslt = []\n",
    "\n",
    "        rslt.append(\n",
    "            format_specs[i].format(self.header[i])\n",
    "            for i in range(col_count))\n",
    "\n",
    "        rslt.append(\n",
    "            ('=' * col_widths[i]\n",
    "               for i in range(col_count)))\n",
    "\n",
    "        for row in zip(*self.data):\n",
    "            rslt.append(\n",
    "                [format_specs[i].format(row[i]) for i in range(col_count)])\n",
    "\n",
    "        print(rslt)\n",
    "\n",
    "        rslt = (' '.join(r) for r in rslt)\n",
    "        return '\\n'.join(rslt)\n",
    "\n",
    "    def __repr__(self):\n",
    "        return 'Table(header={})'.format(self.header)"
   ]
  },
  {
   "cell_type": "code",
   "execution_count": null,
   "metadata": {},
   "outputs": [],
   "source": [
    "t = Table(['First name', 'Last name'], \n",
    "   ['Fred', 'George', 'Scooby'],\n",
    "   ['Flintstone', 'Jetson', 'Doo'])"
   ]
  },
  {
   "cell_type": "code",
   "execution_count": null,
   "metadata": {},
   "outputs": [],
   "source": [
    "print(str(t))"
   ]
  },
  {
   "cell_type": "markdown",
   "metadata": {},
   "source": [
    "In the case of a table class like the above, a good repr should probably just include the column headers; the actual data is not nearly as important.  This is not only shorter to implement, but the string it produces is shorter as well:"
   ]
  },
  {
   "cell_type": "code",
   "execution_count": null,
   "metadata": {},
   "outputs": [],
   "source": [
    "print(repr(t))"
   ]
  }
 ],
 "metadata": {
  "language_info": {
   "codemirror_mode": {
    "name": "ipython",
    "version": 3
   },
   "file_extension": ".py",
   "mimetype": "text/x-python",
   "name": "python",
   "nbconvert_exporter": "python",
   "pygments_lexer": "ipython3",
   "version": "3.6.9-final"
  },
  "orig_nbformat": 2,
  "kernelspec": {
   "name": "python36864biteda7a6cd0ab44de38791a255296f192b",
   "display_name": "Python 3.6.8 64-bit"
  }
 },
 "nbformat": 4,
 "nbformat_minor": 2
}