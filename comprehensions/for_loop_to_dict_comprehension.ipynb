{
 "metadata": {
  "language_info": {
   "codemirror_mode": {
    "name": "ipython",
    "version": 3
   },
   "file_extension": ".py",
   "mimetype": "text/x-python",
   "name": "python",
   "nbconvert_exporter": "python",
   "pygments_lexer": "ipython3",
   "version": "3.8.5-final"
  },
  "orig_nbformat": 2,
  "kernelspec": {
   "name": "Python 3.8.5 64-bit",
   "display_name": "Python 3.8.5 64-bit",
   "metadata": {
    "interpreter": {
     "hash": "31f2aee4e71d21fbe5cf8b01ff0e069b9275f58929596ceb00d14d90e3e16cd6"
    }
   }
  }
 },
 "nbformat": 4,
 "nbformat_minor": 2,
 "cells": [
  {
   "source": [
    "# Substitute a `for` Loop with a `dict` Comprehension"
   ],
   "cell_type": "markdown",
   "metadata": {}
  },
  {
   "source": [
    "## Comparison of `for` Loop and Dictionary Comprehension"
   ],
   "cell_type": "markdown",
   "metadata": {}
  },
  {
   "source": [
    "### Example 1:"
   ],
   "cell_type": "markdown",
   "metadata": {}
  },
  {
   "source": [
    "The `for` loop requires three lines of code: "
   ],
   "cell_type": "markdown",
   "metadata": {}
  },
  {
   "cell_type": "code",
   "execution_count": 9,
   "metadata": {},
   "outputs": [],
   "source": [
    "# for loop\n",
    "\n",
    "float_dict = {}\n",
    "\n",
    "for i in range(10):\n",
    "    float_dict[i] = i * 100.0"
   ]
  },
  {
   "source": [
    "The comprehension requires a single line of code.  As a result, the code is more readable.  Note that in the `i:i*100.0` statement, the first `i` represents the key, the `i*100.0` represents the value:"
   ],
   "cell_type": "markdown",
   "metadata": {}
  },
  {
   "cell_type": "code",
   "execution_count": 10,
   "metadata": {},
   "outputs": [],
   "source": [
    "# dictionary comprehension\n",
    "float_dict = {i:i*100.0 for i in range(10)}"
   ]
  },
  {
   "source": [
    "### Example 2:"
   ],
   "cell_type": "markdown",
   "metadata": {}
  },
  {
   "source": [
    "if you use `.items` it returns the key value pairs as a list of tuples"
   ],
   "cell_type": "markdown",
   "metadata": {}
  },
  {
   "cell_type": "code",
   "execution_count": 11,
   "metadata": {},
   "outputs": [],
   "source": [
    "def old_saturation_levels(data_dict):\n",
    "    temp = {}\n",
    "    for key, value in data_dict.items():\n",
    "        temp[key] = (value**3)/(2**value)\n",
    "    return temp"
   ]
  },
  {
   "cell_type": "code",
   "execution_count": 12,
   "metadata": {},
   "outputs": [],
   "source": [
    "def saturation_levels(data_dict):\n",
    "    return {k:v**3/2**v for k,v in data_dict.items()}"
   ]
  },
  {
   "source": [
    "Check that identical values are returned by each:"
   ],
   "cell_type": "markdown",
   "metadata": {}
  },
  {
   "cell_type": "code",
   "execution_count": 13,
   "metadata": {},
   "outputs": [
    {
     "output_type": "stream",
     "name": "stdout",
     "text": [
      "True\n"
     ]
    }
   ],
   "source": [
    "if __name__ == \"__main__\":\n",
    "    hydration_levels = {\"arc1\": 23, \"arc2\": 64, \"arc3\": 104}\n",
    "\n",
    "    print(old_saturation_levels(hydration_levels) == saturation_levels(hydration_levels))"
   ]
  }
 ]
}