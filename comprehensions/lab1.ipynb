{
 "metadata": {
  "language_info": {
   "codemirror_mode": {
    "name": "ipython",
    "version": 3
   },
   "file_extension": ".py",
   "mimetype": "text/x-python",
   "name": "python",
   "nbconvert_exporter": "python",
   "pygments_lexer": "ipython3",
   "version": "3.8.5-final"
  },
  "orig_nbformat": 2,
  "kernelspec": {
   "name": "Python 3.8.5 64-bit",
   "display_name": "Python 3.8.5 64-bit",
   "metadata": {
    "interpreter": {
     "hash": "31f2aee4e71d21fbe5cf8b01ff0e069b9275f58929596ceb00d14d90e3e16cd6"
    }
   }
  }
 },
 "nbformat": 4,
 "nbformat_minor": 2,
 "cells": [
  {
   "source": [
    "# Exchange the Given `for` Loop for a Comprehension"
   ],
   "cell_type": "markdown",
   "metadata": {}
  },
  {
   "cell_type": "code",
   "execution_count": null,
   "metadata": {},
   "outputs": [],
   "source": [
    "from math import cos, radians\n"
   ]
  },
  {
   "cell_type": "code",
   "execution_count": null,
   "metadata": {},
   "outputs": [],
   "source": [
    "def cos_correction(value, angle):\n",
    "    return value * cos(radians(angle))"
   ]
  },
  {
   "cell_type": "code",
   "execution_count": null,
   "metadata": {},
   "outputs": [],
   "source": [
    "def old_adjust_for_angle(data_list):\n",
    "    temp = []\n",
    "    for datum in data_list:\n",
    "        for j in [0, 15, 30, 45, 60, 90]:\n",
    "            temp.append(cos_correction(datum, j))\n",
    "    return temp"
   ]
  },
  {
   "source": [
    "### Write the code comprehension that will replace the cosign function.:"
   ],
   "cell_type": "markdown",
   "metadata": {}
  },
  {
   "cell_type": "code",
   "execution_count": null,
   "metadata": {},
   "outputs": [],
   "source": [
    "def adjust_for_angle(data_list):\n",
    "    return [cos_correction(datum, j) for datum in data_list for j in [0, 15, 30, 45, 60, 90] ]"
   ]
  },
  {
   "source": [
    "### Test that the cosign function and the nested comprehension function return the same results.:"
   ],
   "cell_type": "markdown",
   "metadata": {}
  },
  {
   "cell_type": "code",
   "execution_count": null,
   "metadata": {},
   "outputs": [],
   "source": [
    "data_list = [1, 2, 3, 4, 5]\n",
    "print(adjust_for_angle(data_list) == old_adjust_for_angle(data_list))"
   ]
  },
  {
   "source": [
    "## Instructor Example:"
   ],
   "cell_type": "markdown",
   "metadata": {}
  },
  {
   "cell_type": "code",
   "execution_count": null,
   "metadata": {},
   "outputs": [],
   "source": [
    "def adjust_for_angle(data_list):\n",
    "    return [datum * cos(radians(angle)) for datum in data_list for angle in [0, 15, 30, 45, 60, 90] ]"
   ]
  },
  {
   "cell_type": "code",
   "execution_count": null,
   "metadata": {},
   "outputs": [],
   "source": [
    "if __name__ == \"__main__\":\n",
    "    data_list = [5, 10, 15]\n",
    "    print(old_adjust_for_angle(data_list) == adjust_for_angle(data_list))"
   ]
  }
 ]
}