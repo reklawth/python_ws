{
 "metadata": {
  "language_info": {
   "codemirror_mode": {
    "name": "ipython",
    "version": 3
   },
   "file_extension": ".py",
   "mimetype": "text/x-python",
   "name": "python",
   "nbconvert_exporter": "python",
   "pygments_lexer": "ipython3",
   "version": "3.8.5-final"
  },
  "orig_nbformat": 2,
  "kernelspec": {
   "name": "Python 3.8.5 64-bit",
   "display_name": "Python 3.8.5 64-bit",
   "metadata": {
    "interpreter": {
     "hash": "31f2aee4e71d21fbe5cf8b01ff0e069b9275f58929596ceb00d14d90e3e16cd6"
    }
   }
  }
 },
 "nbformat": 4,
 "nbformat_minor": 2,
 "cells": [
  {
   "source": [
    "# Add Conditionals to Comprehensions"
   ],
   "cell_type": "markdown",
   "metadata": {}
  },
  {
   "cell_type": "code",
   "execution_count": null,
   "metadata": {},
   "outputs": [],
   "source": []
  },
  {
   "source": [
    "## Comparison of `for` Loop and `list` Comprehension"
   ],
   "cell_type": "markdown",
   "metadata": {}
  },
  {
   "source": [
    "### Example 1:"
   ],
   "cell_type": "markdown",
   "metadata": {}
  },
  {
   "cell_type": "code",
   "execution_count": 2,
   "metadata": {},
   "outputs": [],
   "source": [
    "float_list = []\n",
    "# for loop\n",
    "for i in range(100):\n",
    "    if i % 2 == 0:\n",
    "        float_list.append(i*100.0)\n",
    "    else:\n",
    "        float_list.append(-1)"
   ]
  },
  {
   "cell_type": "code",
   "execution_count": null,
   "metadata": {},
   "outputs": [],
   "source": [
    "# list comprehension\n",
    "float_list = [i*100.0 if i % 2 == 0 else -1 for i in range(100)]"
   ]
  },
  {
   "source": [
    "Remember in the above `list` comprehension that everything before the word `for` is part of the value"
   ],
   "cell_type": "markdown",
   "metadata": {}
  },
  {
   "source": [
    "### Example 2:"
   ],
   "cell_type": "markdown",
   "metadata": {}
  },
  {
   "cell_type": "code",
   "execution_count": 7,
   "metadata": {},
   "outputs": [],
   "source": [
    "def old_find_usable_data(data_list):\n",
    "    temp = []\n",
    "    for datum in data_list:\n",
    "        if datum > 90 and datum % 2 == 0:\n",
    "            temp.append(datum)\n",
    "        else:\n",
    "            temp.append(-100)\n",
    "    return temp"
   ]
  },
  {
   "cell_type": "code",
   "execution_count": 8,
   "metadata": {},
   "outputs": [],
   "source": [
    "def find_usable_data(data_list):\n",
    "    return [datum if datum > 90 and datum % 2 == 0 else -100 for datum in data_list]"
   ]
  },
  {
   "cell_type": "code",
   "execution_count": 9,
   "metadata": {},
   "outputs": [
    {
     "output_type": "stream",
     "name": "stdout",
     "text": [
      "True\n"
     ]
    }
   ],
   "source": [
    "if __name__ == \"__main__\":\n",
    "    data_list = [1, 2, 90, 91, 92, 93, 94]\n",
    "    print(find_usable_data(data_list) == old_find_usable_data(data_list))"
   ]
  },
  {
   "source": [
    "If the conditional of the comprehension determines if the value is added or not it goes at the end of the statement, if the conditional changes the value then it goes before the `for`"
   ],
   "cell_type": "markdown",
   "metadata": {}
  }
 ]
}