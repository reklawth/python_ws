{
 "metadata": {
  "language_info": {
   "codemirror_mode": {
    "name": "ipython",
    "version": 3
   },
   "file_extension": ".py",
   "mimetype": "text/x-python",
   "name": "python",
   "nbconvert_exporter": "python",
   "pygments_lexer": "ipython3",
   "version": "3.8.5-final"
  },
  "orig_nbformat": 2,
  "kernelspec": {
   "name": "Python 3.8.5 64-bit",
   "display_name": "Python 3.8.5 64-bit",
   "metadata": {
    "interpreter": {
     "hash": "31f2aee4e71d21fbe5cf8b01ff0e069b9275f58929596ceb00d14d90e3e16cd6"
    }
   }
  }
 },
 "nbformat": 4,
 "nbformat_minor": 2,
 "cells": [
  {
   "source": [
    "# Substitute a `for` Loop with a `list` Comprehension"
   ],
   "cell_type": "markdown",
   "metadata": {}
  },
  {
   "cell_type": "code",
   "execution_count": null,
   "metadata": {},
   "outputs": [],
   "source": []
  },
  {
   "source": [
    "Inside the square brackets of the comprehension, the first thing to add to a comprehension is the value of the variable to be added to the comprehension (that will be everything before the `for` statement)"
   ],
   "cell_type": "markdown",
   "metadata": {}
  },
  {
   "source": [
    "## Comparison of `for` Loop and `list` Comprehension"
   ],
   "cell_type": "markdown",
   "metadata": {}
  },
  {
   "source": [
    "### Example 1:"
   ],
   "cell_type": "markdown",
   "metadata": {}
  },
  {
   "source": [
    "The `for` loop requires three lines of code"
   ],
   "cell_type": "markdown",
   "metadata": {}
  },
  {
   "cell_type": "code",
   "execution_count": 3,
   "metadata": {},
   "outputs": [],
   "source": [
    "# for loop\n",
    "float_list = []\n",
    "\n",
    "for i in range(100):\n",
    "    float_list.append(i*100.0)"
   ]
  },
  {
   "source": [
    "The comprehension requires a single line of code.  As a result, the code is more readable"
   ],
   "cell_type": "markdown",
   "metadata": {}
  },
  {
   "cell_type": "code",
   "execution_count": 2,
   "metadata": {},
   "outputs": [],
   "source": [
    "# list comprehensions\n",
    "float_list = [i*100.0 for i in range(100)]"
   ]
  },
  {
   "source": [
    "### Example 2:"
   ],
   "cell_type": "markdown",
   "metadata": {}
  },
  {
   "source": [
    "`for` loop:"
   ],
   "cell_type": "markdown",
   "metadata": {}
  },
  {
   "cell_type": "code",
   "execution_count": 11,
   "metadata": {},
   "outputs": [],
   "source": [
    "def old_process_incoming_data(data_list):\n",
    "    temp = []\n",
    "    for datum in data_list:\n",
    "        temp.append(datum//2*67 - 5)\n",
    "    return temp"
   ]
  },
  {
   "source": [
    "`list` comprehension:"
   ],
   "cell_type": "markdown",
   "metadata": {}
  },
  {
   "cell_type": "code",
   "execution_count": 12,
   "metadata": {},
   "outputs": [],
   "source": [
    "def process_incoming_data(data_list):\n",
    "    return [datum//2*67 - 5 for datum in data_list]"
   ]
  },
  {
   "source": [
    "Check that identical values are returned by each:"
   ],
   "cell_type": "markdown",
   "metadata": {}
  },
  {
   "cell_type": "code",
   "execution_count": 13,
   "metadata": {},
   "outputs": [
    {
     "output_type": "stream",
     "name": "stdout",
     "text": [
      "True\n"
     ]
    }
   ],
   "source": [
    "data_list = [0, 5, 10, 15]\n",
    "print(process_incoming_data(data_list) == old_process_incoming_data(data_list))"
   ]
  }
 ]
}