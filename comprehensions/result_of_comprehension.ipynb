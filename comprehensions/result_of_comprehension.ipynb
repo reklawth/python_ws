{
 "metadata": {
  "language_info": {
   "codemirror_mode": {
    "name": "ipython",
    "version": 3
   },
   "file_extension": ".py",
   "mimetype": "text/x-python",
   "name": "python",
   "nbconvert_exporter": "python",
   "pygments_lexer": "ipython3",
   "version": "3.8.5-final"
  },
  "orig_nbformat": 2,
  "kernelspec": {
   "name": "Python 3.8.5 64-bit",
   "display_name": "Python 3.8.5 64-bit",
   "metadata": {
    "interpreter": {
     "hash": "31f2aee4e71d21fbe5cf8b01ff0e069b9275f58929596ceb00d14d90e3e16cd6"
    }
   }
  }
 },
 "nbformat": 4,
 "nbformat_minor": 2,
 "cells": [
  {
   "source": [
    "# Use a Function for the Result of a Comprehension Introducing Map"
   ],
   "cell_type": "markdown",
   "metadata": {}
  },
  {
   "source": [
    "## Example 1:"
   ],
   "cell_type": "markdown",
   "metadata": {}
  },
  {
   "source": [
    "### `map` function returns an `iterable` and needs to by type cast to a `list`"
   ],
   "cell_type": "markdown",
   "metadata": {}
  },
  {
   "cell_type": "code",
   "execution_count": null,
   "metadata": {},
   "outputs": [],
   "source": [
    "numbers = [1.0, 2.0, 3.0, 4.0]\n",
    "\n",
    "def my_operation(i):\n",
    "    return i *2"
   ]
  },
  {
   "source": [
    "For the `map` function below we create a `doubled_list` equal to the `map` which is give the `my_operation` function that it will apply and the list or iterable that it is supposed to work on in this example the `numbers` list object.  What is returned is a `map` object, which can then be used as a iterable to get the correct result."
   ],
   "cell_type": "markdown",
   "metadata": {}
  },
  {
   "cell_type": "code",
   "execution_count": null,
   "metadata": {},
   "outputs": [],
   "source": [
    "# map function\n",
    "doubled_list = map(my_operation, numbers)\n",
    "list(doubled_list)"
   ]
  },
  {
   "source": [
    "### The comprehension requires a single line of code.  As a result, the code is more readable and type casting to a `list` is not necessary"
   ],
   "cell_type": "markdown",
   "metadata": {}
  },
  {
   "cell_type": "code",
   "execution_count": null,
   "metadata": {},
   "outputs": [],
   "source": [
    "# list comprehension\n",
    "doubled_list = [my_operation(i) for i in numbers]"
   ]
  },
  {
   "cell_type": "code",
   "execution_count": null,
   "metadata": {},
   "outputs": [],
   "source": []
  },
  {
   "source": [
    "## Example 2:"
   ],
   "cell_type": "markdown",
   "metadata": {}
  },
  {
   "cell_type": "code",
   "execution_count": null,
   "metadata": {},
   "outputs": [],
   "source": [
    "def corrected_value(value):\n",
    "    return value * 32"
   ]
  },
  {
   "source": [
    "Start with [dunder main](https://docs.python.org/3/library/__main__.html)"
   ],
   "cell_type": "markdown",
   "metadata": {}
  },
  {
   "cell_type": "code",
   "execution_count": null,
   "metadata": {},
   "outputs": [],
   "source": [
    "# if __name__ == \"__main__\":\n",
    "#     data_list = [1, 2, 3]\n",
    "#     old_results = map(corrected_value, data_list)\n",
    "    # print(results)\n",
    "    # print(list(old_results))\n",
    "#     for i in old_results:\n",
    "#         print(i)"
   ]
  },
  {
   "cell_type": "code",
   "execution_count": null,
   "metadata": {},
   "outputs": [],
   "source": [
    "def corrected_value(value):\n",
    "    return value * 32\n",
    "\n",
    "data_list = [1, 2, 3]\n",
    "old_results = map(corrected_value, data_list)\n",
    "print(list(old_results))\n",
    "results = [corrected_value(datum) for datum in data_list]\n",
    "print(data_list)\n",
    "print(list(old_results))\n",
    "print(results)\n",
    "print(list(old_results) == results)"
   ]
  },
  {
   "cell_type": "code",
   "execution_count": null,
   "metadata": {},
   "outputs": [],
   "source": [
    "print(list(old_results) == results)"
   ]
  },
  {
   "cell_type": "code",
   "execution_count": null,
   "metadata": {},
   "outputs": [],
   "source": []
  }
 ]
}