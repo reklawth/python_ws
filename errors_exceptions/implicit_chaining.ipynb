{
 "cells": [
  {
   "cell_type": "markdown",
   "metadata": {},
   "source": [
    "# Implicit Chaining"
   ]
  },
  {
   "cell_type": "markdown",
   "metadata": {},
   "source": [
    "Implicit chaining occurs when one exception occurs whilst another is being processed.  The Python runtime amchinery associates the original exception with the new exception by setting the special `__context__` attribute of the most recent exception.  Demonstrate this by adding a main() function which contains two bugs to the triangle area program.  The first bug is the attempt to evaluate the area of a non-triangle with sides 3, 4, and 10.  The second bug is that in the process of handling the resulting `TriangleException` an `io.UnsupportedOperation` exception occurs by trying to print to the read-only `stdin` stream instead of the `stderr` stream."
   ]
  },
  {
   "cell_type": "code",
   "execution_count": null,
   "metadata": {},
   "outputs": [],
   "source": [
    "import sys\n",
    "from heron import TriangleError\n",
    "from heron import triangle_area\n",
    "\n",
    "def main():\n",
    "    try:\n",
    "        a = triangle_area(3, 4, 10)\n",
    "        print(a)\n",
    "    except TriangleError as e:\n",
    "        print(e, file=sys.stdin)\n",
    "\n",
    "if __name__ == '__main__':\n",
    "    main()"
   ]
  },
  {
   "cell_type": "markdown",
   "metadata": {},
   "source": [
    "Notice in the above that although the `TriangleError` was handled by the `except` block, it is still reported in the trace with the message \"During handling of the above exception, another exception occurred:\".  Pyton is able to give such a detailed report because the `TriangleError` has been attached ot the __context__ attribute of the `UnsupportedOperation` exception object.  Add some temporary code to demonstrate this:"
   ]
  },
  {
   "cell_type": "code",
   "execution_count": null,
   "metadata": {},
   "outputs": [],
   "source": [
    "#! usr/bin/python3\n",
    "\n",
    "def main():\n",
    "    try:\n",
    "        a = triangle_area(3, 4, 10)\n",
    "        print(a)\n",
    "    except TriangleError as e:\n",
    "        try:\n",
    "            print(e, file=sys.stdin)\n",
    "        except IOError as f:\n",
    "            print(e)\n",
    "            print(f)\n",
    "            print(f.__context__ is e)\n",
    "\n",
    "if __name__ == '__main__':\n",
    "    main()"
   ]
  },
  {
   "cell_type": "markdown",
   "metadata": {},
   "source": [
    "In the above another exception handler around the faulty print statement has been added also e, f, and the result of evaluating whether `f.__context__` _is_ e has been added.  Because nothing needs to be done differently to associate the above exceptions this chaining is called implicit."
   ]
  }
 ],
 "metadata": {
  "language_info": {
   "codemirror_mode": {
    "name": "ipython",
    "version": 3
   },
   "file_extension": ".py",
   "mimetype": "text/x-python",
   "name": "python",
   "nbconvert_exporter": "python",
   "pygments_lexer": "ipython3",
   "version": "3.6.9-final"
  },
  "orig_nbformat": 2,
  "kernelspec": {
   "name": "python36964bit347f991c209d479fb0aaa0907fb23c61",
   "display_name": "Python 3.6.9 64-bit"
  }
 },
 "nbformat": 4,
 "nbformat_minor": 2
}