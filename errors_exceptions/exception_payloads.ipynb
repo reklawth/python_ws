{
 "cells": [
  {
   "cell_type": "markdown",
   "metadata": {},
   "source": [
    "# Exception payloads"
   ]
  },
  {
   "cell_type": "markdown",
   "metadata": {},
   "source": [
    "Consider this function for determining the median value of an iterable series:"
   ]
  },
  {
   "cell_type": "code",
   "execution_count": null,
   "metadata": {},
   "outputs": [],
   "source": [
    "def median(iterable):\n",
    "    \"\"\"Obtain the central value of a series.\n",
    "    Sorts the iterable and returns the middle valu if there is an even number of elements, or the arithmetic mean of the middle two elements\n",
    "    if there is an even number of elements.\n",
    "\n",
    "    Args:\n",
    "        iterable: A series of orderable items.\n",
    "\n",
    "    Returns:\n",
    "        The median value.\n",
    "    \"\"\"\n",
    "    items = sorted(iterable)\n",
    "    median_index = (len(items) - 1) // 2\n",
    "    if len(items) % 2 != 0:\n",
    "        return items[median_index]\n",
    "    return (items[median_index] + items[median_index + 1]) / 2.0"
   ]
  },
  {
   "cell_type": "code",
   "execution_count": null,
   "metadata": {},
   "outputs": [],
   "source": [
    "median([5, 2, 1, 4, 3])"
   ]
  },
  {
   "cell_type": "code",
   "execution_count": null,
   "metadata": {},
   "outputs": [],
   "source": [
    "median([5, 2, 1, 4, 3, 6])"
   ]
  },
  {
   "cell_type": "markdown",
   "metadata": {},
   "source": [
    "See what happens when an empty list is supplied:"
   ]
  },
  {
   "cell_type": "code",
   "execution_count": null,
   "metadata": {},
   "outputs": [],
   "source": [
    "median([])"
   ]
  },
  {
   "cell_type": "markdown",
   "metadata": {},
   "source": [
    "The above produces an `IndexError` containing a message payload displayed in the stacktrace \"list index out of range\".  This leaks an implementation detail of the function, namely that internally it uses a sequence lookup to perform the computation.\n",
    "\n",
    "Add a guard clause which checks that the supplied series is non-empty:"
   ]
  },
  {
   "cell_type": "code",
   "execution_count": null,
   "metadata": {},
   "outputs": [],
   "source": [
    "def median(iterable):\n",
    "    \"\"\"Obtain the central value of a series.\n",
    "    Sorts the iterable and returns the middle valu if there is an even number of elements, or the arithmetic mean of the middle two elements\n",
    "    if there is an even number of elements.\n",
    "\n",
    "    Args:\n",
    "        iterable: A series of orderable items.\n",
    "\n",
    "    Returns:\n",
    "        The median value.\n",
    "    \"\"\"\n",
    "    items = sorted(iterable)\n",
    "    if len(items) == 0:\n",
    "        raise ValueError(\"median() arg is an empty series\")\n",
    "\n",
    "    median_index = (len(items) - 1) // 2\n",
    "    if len(items) % 2 != 0:\n",
    "        return items[median_index]\n",
    "    return (items[median_index] + items[median_index + 1]) / 2"
   ]
  },
  {
   "cell_type": "code",
   "execution_count": null,
   "metadata": {},
   "outputs": [],
   "source": [
    "median([])"
   ]
  },
  {
   "cell_type": "markdown",
   "metadata": {},
   "source": [
    "Usually exception payloads are strings and are passed as a single argument to the exception constructor.  The string should contain as helpful a message as possible."
   ]
  },
  {
   "cell_type": "markdown",
   "metadata": {},
   "source": [
    "## Accessing payloads through `args`"
   ]
  },
  {
   "cell_type": "markdown",
   "metadata": {},
   "source": [
    "Messages can be programmatically retrieved using the `args` exception attribute.  Add a function to exercise the `median()` function with faulty input, catch the `ValueError`, and print the payload sored in its `args` attribute:"
   ]
  },
  {
   "cell_type": "code",
   "execution_count": null,
   "metadata": {},
   "outputs": [],
   "source": [
    "def main():\n",
    "    try:\n",
    "        median([])\n",
    "    except ValueError as e:\n",
    "        print(\"Payload\", e.args)\n",
    "\n",
    "if __name__ == '__main__':\n",
    "    main()"
   ]
  },
  {
   "cell_type": "markdown",
   "metadata": {},
   "source": [
    "When the above is run, notice that `args` is a single element tuple containing the message that was passed to the constructor.  Another way to retrieve the payload in string form is to convert the exception object to a string using the `str()` or `repr()` functions."
   ]
  },
  {
   "cell_type": "markdown",
   "metadata": {},
   "source": [
    "PEP 352 suggests to only pass a single tring argument to exception constructors.  Expect the `args` atrribute to contain a single string value, which in any case can be retrieved by converting the exception object to a string rather than retrieving `args[0]`."
   ]
  },
  {
   "cell_type": "markdown",
   "metadata": {},
   "source": [
    "That said, specific exception classes may provide additional specific named attributes which contain further information about the cause; `UnicodeError` is one such example, it has five additional named attributes:"
   ]
  },
  {
   "cell_type": "code",
   "execution_count": null,
   "metadata": {},
   "outputs": [],
   "source": [
    "try:\n",
    "    b'\\x81'.decode('utf-8')\n",
    "except UnicodeError as e:\n",
    "    print(e)\n",
    "    print('encoding:', e.encoding)\n",
    "    print('reason:', e.reason)\n",
    "    print('object:', e.object)\n",
    "    print('start:', e.start)\n",
    "    print('end:', e.end)"
   ]
  }
 ],
 "metadata": {
  "language_info": {
   "codemirror_mode": {
    "name": "ipython",
    "version": 3
   },
   "file_extension": ".py",
   "mimetype": "text/x-python",
   "name": "python",
   "nbconvert_exporter": "python",
   "pygments_lexer": "ipython3",
   "version": "3.6.9-final"
  },
  "orig_nbformat": 2,
  "kernelspec": {
   "name": "python36964bit347f991c209d479fb0aaa0907fb23c61",
   "display_name": "Python 3.6.9 64-bit"
  }
 },
 "nbformat": 4,
 "nbformat_minor": 2
}