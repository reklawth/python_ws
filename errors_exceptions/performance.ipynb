{
 "cells": [
  {
   "cell_type": "markdown",
   "metadata": {},
   "source": [
    "# Performance"
   ]
  },
  {
   "cell_type": "markdown",
   "metadata": {},
   "source": [
    "The precondition assertions performed to test the sorted set assumptions are relatively expensive.  In the case that the class is working as expected, each tet walks through the whole collection.  Worse from a performance standpoint is that sometimes the test is performed more than once.  There is the option to run Python programs with all assertions disabled, using the `-O` flag on the command line:"
   ]
  },
  {
   "cell_type": "code",
   "execution_count": 2,
   "metadata": {},
   "outputs": [],
   "source": [
    "from timeit import timeit"
   ]
  },
  {
   "cell_type": "code",
   "execution_count": 6,
   "metadata": {},
   "outputs": [
    {
     "output_type": "error",
     "ename": "SyntaxError",
     "evalue": "invalid syntax (<ipython-input-6-5fe4d024cdd0>, line 1)",
     "traceback": [
      "\u001b[0;36m  File \u001b[0;32m\"<ipython-input-6-5fe4d024cdd0>\"\u001b[0;36m, line \u001b[0;32m1\u001b[0m\n\u001b[0;31m    timeit -n 1 -s \"from random import randrange; from sorted_set import SortedSet; s = SortedSet(randrange(1000) for _ in range(2000))\" \"[s.count(i) for i in range(1000)]\"\u001b[0m\n\u001b[0m              ^\u001b[0m\n\u001b[0;31mSyntaxError\u001b[0m\u001b[0;31m:\u001b[0m invalid syntax\n"
     ]
    }
   ],
   "source": [
    "timeit -n 1 -s \"from random import randrange; from sorted_set import SortedSet; s = SortedSet(randrange(1000) for _ in range(2000))\" \"[s.count(i) for i in range(1000)]\""
   ]
  },
  {
   "cell_type": "code",
   "execution_count": 7,
   "metadata": {},
   "outputs": [
    {
     "output_type": "error",
     "ename": "SyntaxError",
     "evalue": "invalid syntax (<ipython-input-7-7acbc956f83d>, line 1)",
     "traceback": [
      "\u001b[0;36m  File \u001b[0;32m\"<ipython-input-7-7acbc956f83d>\"\u001b[0;36m, line \u001b[0;32m1\u001b[0m\n\u001b[0;31m    python3 -m timeit -n 1 -s \"from random import randrange; from sorted_set import SortedSet; s = SortedSet(randrange(1000) for _ in range(2000))\" \"[s.count(i) for i in range(1000)]\"\u001b[0m\n\u001b[0m                    ^\u001b[0m\n\u001b[0;31mSyntaxError\u001b[0m\u001b[0;31m:\u001b[0m invalid syntax\n"
     ]
    }
   ],
   "source": [
    "python3 -m timeit -n 1 -s \"from random import randrange; from sorted_set import SortedSet; s = SortedSet(randrange(1000) for _ in range(2000))\" \"[s.count(i) for i in range(1000)]\""
   ]
  },
  {
   "cell_type": "code",
   "execution_count": null,
   "metadata": {},
   "outputs": [],
   "source": [
    "python3 -O -m timeit -n 1 -s \"from random import randrange; from sorted_set import SortedSet; s = SortedSet(randrange(1000) for _ in range(2000))\" \"[s.count(i) for i in range(1000)]\""
   ]
  }
 ],
 "metadata": {
  "language_info": {
   "codemirror_mode": {
    "name": "ipython",
    "version": 3
   },
   "file_extension": ".py",
   "mimetype": "text/x-python",
   "name": "python",
   "nbconvert_exporter": "python",
   "pygments_lexer": "ipython3",
   "version": "3.6.9-final"
  },
  "orig_nbformat": 2,
  "kernelspec": {
   "name": "python36864biteda7a6cd0ab44de38791a255296f192b",
   "display_name": "Python 3.6.8 64-bit"
  }
 },
 "nbformat": 4,
 "nbformat_minor": 2
}