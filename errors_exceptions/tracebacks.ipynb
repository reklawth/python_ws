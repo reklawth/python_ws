{
 "cells": [
  {
   "cell_type": "markdown",
   "metadata": {},
   "source": [
    "# Tracebacks"
   ]
  },
  {
   "cell_type": "markdown",
   "metadata": {},
   "source": [
    "Everything in Python is an object, adn this extends to tracebacks - those records of the function call stack which are printed by the interpreter when an exception is unhandled and the program exits.\n",
    "\n",
    "In Python 3, each exception object has a `__traceback__` attribute which contains a reference to the `traceback` object associated with that exception.  The below `main()` function will  be added to the `chaining.py` example to illustrate the traceback object:"
   ]
  },
  {
   "cell_type": "code",
   "execution_count": 1,
   "metadata": {},
   "outputs": [],
   "source": [
    "from chaining import *"
   ]
  },
  {
   "cell_type": "code",
   "execution_count": 4,
   "metadata": {},
   "outputs": [
    {
     "output_type": "stream",
     "name": "stdout",
     "text": "<traceback object at 0x7f5495a2d248>\nFinished\n"
    }
   ],
   "source": [
    "def main():\n",
    "    try:\n",
    "        inclination(0,5)\n",
    "    except InclinationError as e:\n",
    "        print(e.__traceback__)\n",
    "\n",
    "if __name__ == '__main__':\n",
    "    main()\n",
    "    print(\"Finished\")"
   ]
  },
  {
   "cell_type": "markdown",
   "metadata": {},
   "source": [
    "## The `traceback` module"
   ]
  },
  {
   "cell_type": "markdown",
   "metadata": {},
   "source": [
    "To do anything useful with the traceback object use the Python Standard Library `traceback` module.  It contains functions for interrogating traceback objects.  To display a traceback, use the `print_tb()` function:"
   ]
  },
  {
   "cell_type": "code",
   "execution_count": 12,
   "metadata": {},
   "outputs": [],
   "source": [
    "import traceback"
   ]
  },
  {
   "cell_type": "code",
   "execution_count": 13,
   "metadata": {},
   "outputs": [
    {
     "output_type": "stream",
     "name": "stdout",
     "text": "<traceback object at 0x7f5495a157c8>\nFinished\n"
    }
   ],
   "source": [
    "def main():\n",
    "    try:\n",
    "        inclination(0,5)\n",
    "    except InclinationError as e:\n",
    "        print(e.__traceback__)\n",
    "        traceback.print_tb\n",
    "\n",
    "if __name__ == '__main__':\n",
    "    main()\n",
    "    print(\"Finished\")"
   ]
  },
  {
   "cell_type": "markdown",
   "metadata": {},
   "source": [
    "After executing the above, notice that the program continues running after the traceback has been printed.  The exception is being handled and the program has exited normally.   The ability to get hold of `traceback` objects in this way is invaluable for logging diagnostic output.  To render the `traceback` object into a string, rather than printing it directly, use the `format_tb()` function instead of `print_tb()`. "
   ]
  },
  {
   "cell_type": "markdown",
   "metadata": {},
   "source": [
    "Caution, when keeping references to the `traceback` object: always render the output needed from a traceback object within the dynamic scope of the `except` block.  That is, do not sotre a `traceback` - or indeed exception - object for later use.  This is because the `traceback` object contains regerences to all the stack frame objects which comprise the call stack, and each stack frame contains references to all of its local varia bles.  As such, the size of the transitive closure of objects reachable form tthe `traceback` object can be very large, and if you maintain that regerence these objects will not be garbage collected.  Prefer to render tracebacks into another form for even short-term storage in memory."
   ]
  }
 ],
 "metadata": {
  "language_info": {
   "codemirror_mode": {
    "name": "ipython",
    "version": 3
   },
   "file_extension": ".py",
   "mimetype": "text/x-python",
   "name": "python",
   "nbconvert_exporter": "python",
   "pygments_lexer": "ipython3",
   "version": "3.6.9-final"
  },
  "orig_nbformat": 2,
  "kernelspec": {
   "name": "python36964bit347f991c209d479fb0aaa0907fb23c61",
   "display_name": "Python 3.6.9 64-bit"
  }
 },
 "nbformat": 4,
 "nbformat_minor": 2
}