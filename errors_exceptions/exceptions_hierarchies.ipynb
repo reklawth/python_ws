{
 "cells": [
  {
   "cell_type": "markdown",
   "metadata": {},
   "source": [
    "# Exceptions hierarchies"
   ]
  },
  {
   "cell_type": "markdown",
   "metadata": {},
   "source": [
    "The many built-in exception classes are arranged into a class hierarchy using inheritance.  When specifying an exception class in an except statement, any class which is a subclass of the specified class will be caught, in addition to the specified class itself.\n",
    "\n",
    "Example, an `IndexError` is raised whenever there is an attept at an out-of-range lookup in the a sequence type such as a list:"
   ]
  },
  {
   "cell_type": "code",
   "execution_count": 2,
   "metadata": {},
   "outputs": [],
   "source": [
    "s = [1, 3, 6]"
   ]
  },
  {
   "cell_type": "code",
   "execution_count": 3,
   "metadata": {},
   "outputs": [
    {
     "output_type": "error",
     "ename": "IndexError",
     "evalue": "list index out of range",
     "traceback": [
      "\u001b[0;31m---------------------------------------------------------------------------\u001b[0m",
      "\u001b[0;31mIndexError\u001b[0m                                Traceback (most recent call last)",
      "\u001b[0;32m<ipython-input-3-b5dece75d686>\u001b[0m in \u001b[0;36m<module>\u001b[0;34m\u001b[0m\n\u001b[0;32m----> 1\u001b[0;31m \u001b[0ms\u001b[0m\u001b[0;34m[\u001b[0m\u001b[0;36m5\u001b[0m\u001b[0;34m]\u001b[0m\u001b[0;34m\u001b[0m\u001b[0;34m\u001b[0m\u001b[0m\n\u001b[0m",
      "\u001b[0;31mIndexError\u001b[0m: list index out of range"
     ]
    }
   ],
   "source": [
    "s[5]"
   ]
  },
  {
   "cell_type": "markdown",
   "metadata": {},
   "source": [
    "A `KeyError` is raised when looking up a missing key in a mappaing type such as a dictionary:"
   ]
  },
  {
   "cell_type": "code",
   "execution_count": 4,
   "metadata": {},
   "outputs": [],
   "source": [
    "d = dict(a=65, b=66, c=67)"
   ]
  },
  {
   "cell_type": "code",
   "execution_count": 5,
   "metadata": {},
   "outputs": [
    {
     "output_type": "error",
     "ename": "KeyError",
     "evalue": "'x'",
     "traceback": [
      "\u001b[0;31m---------------------------------------------------------------------------\u001b[0m",
      "\u001b[0;31mKeyError\u001b[0m                                  Traceback (most recent call last)",
      "\u001b[0;32m<ipython-input-5-7657742692bd>\u001b[0m in \u001b[0;36m<module>\u001b[0;34m\u001b[0m\n\u001b[0;32m----> 1\u001b[0;31m \u001b[0md\u001b[0m\u001b[0;34m[\u001b[0m\u001b[0;34m'x'\u001b[0m\u001b[0;34m]\u001b[0m\u001b[0;34m\u001b[0m\u001b[0;34m\u001b[0m\u001b[0m\n\u001b[0m",
      "\u001b[0;31mKeyError\u001b[0m: 'x'"
     ]
    }
   ],
   "source": [
    "d['x']"
   ]
  },
  {
   "cell_type": "markdown",
   "metadata": {},
   "source": [
    "Investigate the inheritance heirarchy of these two exception types.  Retrieve transitive base classes from a class object using the `__mro__` attribute which contains the method resolution order of `class` object as a tuple.  Try it on `IndexError`:"
   ]
  },
  {
   "cell_type": "code",
   "execution_count": 7,
   "metadata": {},
   "outputs": [
    {
     "output_type": "execute_result",
     "data": {
      "text/plain": "(IndexError, LookupError, Exception, BaseException, object)"
     },
     "metadata": {},
     "execution_count": 7
    }
   ],
   "source": [
    "IndexError.__mro__"
   ]
  },
  {
   "cell_type": "markdown",
   "metadata": {},
   "source": [
    "The above shows the full exception class hierarchy from `object` (the root of all class hierarchies) down through `BaseException` (the root of all exceptions), a class called `Exception` to `LookupError` and finally `IndexError`.\n",
    "\n",
    "Try the same for `KeyError`:"
   ]
  },
  {
   "cell_type": "code",
   "execution_count": 8,
   "metadata": {},
   "outputs": [
    {
     "output_type": "execute_result",
     "data": {
      "text/plain": "(KeyError, LookupError, Exception, BaseException, object)"
     },
     "metadata": {},
     "execution_count": 8
    }
   ],
   "source": [
    "KeyError.__mro__"
   ]
  },
  {
   "cell_type": "markdown",
   "metadata": {},
   "source": [
    "`KeyError` is also an immediate subclass of LookupError, and so `IndexError` and `KeyError` are siblings in the class hierarchy.  In practice this means it is possible to catch both `IndexError` and `KeyError` exceptions by catching `LookupError`.\n",
    "\n",
    "Example of a short program which raises and handles one `IndexError` and one `KeyError`:"
   ]
  },
  {
   "cell_type": "code",
   "execution_count": 10,
   "metadata": {},
   "outputs": [
    {
     "output_type": "stream",
     "name": "stdout",
     "text": "Handled IndexError\nHandled KeyError\n"
    }
   ],
   "source": [
    "def lookups():\n",
    "    s = [1, 4, 6]\n",
    "    try:\n",
    "        item = s[5]\n",
    "    except IndexError:\n",
    "        print(\"Handled IndexError\")\n",
    "    d = dict(a=65, b=66, c=67)\n",
    "    try:\n",
    "        value = d['x']\n",
    "    except KeyError:\n",
    "        print(\"Handled KeyError\")\n",
    "\n",
    "if __name__ == '__main__':\n",
    "    lookups()"
   ]
  },
  {
   "cell_type": "markdown",
   "metadata": {},
   "source": [
    "The above behaves as expected when run.  Now modify the program to handle `LookupErrors` instead of the more specific exception classes:"
   ]
  },
  {
   "cell_type": "code",
   "execution_count": 11,
   "metadata": {},
   "outputs": [
    {
     "output_type": "stream",
     "name": "stdout",
     "text": "Handled IndexError\nHandled KeyError\n"
    }
   ],
   "source": [
    "def lookups():\n",
    "    s = [1, 4, 6]\n",
    "    try:\n",
    "        item = s[5]\n",
    "    except LookupError:\n",
    "        print(\"Handled IndexError\")\n",
    "    d = dict(a=65, b=66, c=67)\n",
    "    try:\n",
    "        value = d['x']\n",
    "    except LookupError:\n",
    "        print(\"Handled KeyError\")\n",
    "\n",
    "if __name__ == '__main__':\n",
    "    lookups()"
   ]
  },
  {
   "cell_type": "code",
   "execution_count": null,
   "metadata": {},
   "outputs": [],
   "source": [
    "The above behaves identically to it predecessor."
   ]
  }
 ],
 "metadata": {
  "language_info": {
   "codemirror_mode": {
    "name": "ipython",
    "version": 3
   },
   "file_extension": ".py",
   "mimetype": "text/x-python",
   "name": "python",
   "nbconvert_exporter": "python",
   "pygments_lexer": "ipython3",
   "version": "3.6.9-final"
  },
  "orig_nbformat": 2,
  "kernelspec": {
   "name": "python36964bit347f991c209d479fb0aaa0907fb23c61",
   "display_name": "Python 3.6.9 64-bit"
  }
 },
 "nbformat": 4,
 "nbformat_minor": 2
}