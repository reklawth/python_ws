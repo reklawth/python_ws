{
 "cells": [
  {
   "cell_type": "markdown",
   "metadata": {},
   "source": [
    "# Preconditions, postconditions and assertions"
   ]
  },
  {
   "cell_type": "markdown",
   "metadata": {},
   "source": [
    "Assertions can be used to enforce function post-conditions.  They can assure that a function is returning what it is assumed to be returning.  For example define some text:"
   ]
  },
  {
   "cell_type": "code",
   "execution_count": 1,
   "metadata": {},
   "outputs": [],
   "source": [
    "wealth_of_nations = \"The annual labour of every nation is the fund which orginially supplies it with all the necessaries and conveniences of life which it annually consumes, and which consist always eith in the immediate produce of that labour, or in what is purchased with that prodduce from other nations.  According, therefore, as this produce, or what is purchased with it, bears a greater or smaller proportion to the number of those who are to consume it, the namtion will be better or worse supplied with all the necessaries and conveniences for which it has occassion.\""
   ]
  },
  {
   "cell_type": "code",
   "execution_count": 2,
   "metadata": {},
   "outputs": [],
   "source": [
    "from wrapper import *"
   ]
  },
  {
   "cell_type": "code",
   "execution_count": 3,
   "metadata": {},
   "outputs": [
    {
     "output_type": "execute_result",
     "data": {
      "text/plain": "'The annual labour of every\\nnation is the fund which\\norginially supplies it with\\nall the necessaries and\\nconveniences of life which it\\nannually consumes, and which\\nconsist always eith in the\\nimmediate produce of that\\nlabour, or in what is\\npurchased with that prodduce\\nfrom other nations.\\nAccording, therefore, as\\nthis produce, or what is\\npurchased with it, bears a\\ngreater or smaller\\nproportion to the number of\\nthose who are to consume it,\\nthe namtion will be better or\\nworse supplied with all the\\nnecessaries and\\nconveniences for which it has\\noccassion.'"
     },
     "metadata": {},
     "execution_count": 3
    }
   ],
   "source": [
    "wrap(wealth_of_nations, 25)"
   ]
  },
  {
   "cell_type": "markdown",
   "metadata": {},
   "source": [
    "The above appears to have returned a single string with embedded line endings.  Print that string to get the result rendered in a more helpful way:"
   ]
  },
  {
   "cell_type": "code",
   "execution_count": 4,
   "metadata": {
    "tags": []
   },
   "outputs": [
    {
     "output_type": "stream",
     "name": "stdout",
     "text": "The annual labour of every\nnation is the fund which\norginially supplies it with\nall the necessaries and\nconveniences of life which it\nannually consumes, and which\nconsist always eith in the\nimmediate produce of that\nlabour, or in what is\npurchased with that prodduce\nfrom other nations.\nAccording, therefore, as\nthis produce, or what is\npurchased with it, bears a\ngreater or smaller\nproportion to the number of\nthose who are to consume it,\nthe namtion will be better or\nworse supplied with all the\nnecessaries and\nconveniences for which it has\noccassion.\n"
    }
   ],
   "source": [
    "print(_)"
   ]
  },
  {
   "cell_type": "markdown",
   "metadata": {},
   "source": [
    "In a script, `_` is just another variable. However, in the interactive interpreter it is special: it is bound to the result of the last unassigned expression. Eg, if you do 1+2<Enter> 3 gets printed, and if you then do `_<Enter>` 3 gets printed again, and if you then do `_+5<Enter>` 8 will be printed"
   ]
  }
 ],
 "metadata": {
  "language_info": {
   "codemirror_mode": {
    "name": "ipython",
    "version": 3
   },
   "file_extension": ".py",
   "mimetype": "text/x-python",
   "name": "python",
   "nbconvert_exporter": "python",
   "pygments_lexer": "ipython3",
   "version": "3.6.9-final"
  },
  "orig_nbformat": 2,
  "kernelspec": {
   "name": "python36864biteda7a6cd0ab44de38791a255296f192b",
   "display_name": "Python 3.6.8 64-bit"
  }
 },
 "nbformat": 4,
 "nbformat_minor": 2
}