{
 "cells": [
  {
   "cell_type": "markdown",
   "metadata": {},
   "source": [
    "# User-defined Exceptions"
   ]
  },
  {
   "cell_type": "markdown",
   "metadata": {},
   "source": [
    "If the built-in exceptions are insufficient, create a user-defined exception.  Consider the following function which uses Heron's formula to compute the area of a triangle given the length of three sides:"
   ]
  },
  {
   "cell_type": "code",
   "execution_count": null,
   "metadata": {},
   "outputs": [],
   "source": [
    "import math\n",
    "\n",
    "def triangle_area(a, b, c):\n",
    "    p = (a + b + c) / 2\n",
    "    a = math.sqrt(p * (p - a) * (p - b) * (p - c))\n",
    "    return a"
   ]
  },
  {
   "cell_type": "code",
   "execution_count": null,
   "metadata": {},
   "outputs": [],
   "source": [
    "triangle_area(3, 4, 5)"
   ]
  },
  {
   "cell_type": "markdown",
   "metadata": {},
   "source": [
    "If no such trinagle with these side lengths exists, a `ValueError` is raised from the attempt to find a real square root of a negative number:"
   ]
  },
  {
   "cell_type": "code",
   "execution_count": null,
   "metadata": {},
   "outputs": [],
   "source": [
    "triangle_area(3, 4, 10)"
   ]
  },
  {
   "cell_type": "markdown",
   "metadata": {},
   "source": [
    "Rather than the obscure math domain error message raised from the above, raise a more specific exception here which can carry more useful infromation in its payload.  A good start is to define a new exception class `TriangleError`"
   ]
  },
  {
   "cell_type": "markdown",
   "metadata": {},
   "source": [
    "## A basic exception implementation"
   ]
  },
  {
   "cell_type": "markdown",
   "metadata": {},
   "source": [
    "When creating a user-defined exception, subclass `Exception` rather than `BaseException`.  For a distinct exception type with basic facilities which can be raised and handled separately from other exception types, the most basic definition can suffice:"
   ]
  },
  {
   "cell_type": "code",
   "execution_count": null,
   "metadata": {},
   "outputs": [],
   "source": [
    "class TriangleError(Exception):\n",
    "    pass"
   ]
  },
  {
   "cell_type": "markdown",
   "metadata": {},
   "source": [
    "The above is a fully functioning exception since it inherits complete implementations of `__init__()`, `__str__()` and `__repr__()`.  Modify the `triangle_area` function to identify illegal triangles:"
   ]
  },
  {
   "cell_type": "code",
   "execution_count": null,
   "metadata": {},
   "outputs": [],
   "source": [
    "import math\n",
    "\n",
    "class TriangleError(Exception):\n",
    "    pass\n",
    "\n",
    "def triangle_area(a, b, c):\n",
    "    sides = sorted((a, b, c))\n",
    "    if sides[2] > sides[0] + sides[1]:\n",
    "        raise TriangleError(\"Illegal triangle\")\n",
    "    \n",
    "    p = (a + b + c) / 2\n",
    "    a = math.sqrt(p * (p - a) * (p - b) * (p -c))\n",
    "    return a"
   ]
  },
  {
   "cell_type": "code",
   "execution_count": null,
   "metadata": {},
   "outputs": [],
   "source": [
    "triangle_area(3, 4, 10)"
   ]
  },
  {
   "cell_type": "markdown",
   "metadata": {},
   "source": [
    "## Enriching the payload"
   ]
  },
  {
   "cell_type": "markdown",
   "metadata": {},
   "source": [
    "Modify the exception to accept more data about the putative triangle:"
   ]
  },
  {
   "cell_type": "code",
   "execution_count": null,
   "metadata": {},
   "outputs": [],
   "source": [
    "import math\n",
    "\n",
    "class TriangleError(Exception):\n",
    "\n",
    "    def __init__(self, text, sides):\n",
    "        super().__init__(text) # <- Message forwared to base class constructor\n",
    "        self._sides = tuple(sides) # <- side lengths are stored in an instance attribute in the derived class\n",
    "\n",
    "    @property\n",
    "    def sides(self):\n",
    "        return self._sides\n",
    "\n",
    "    def __str__(self):\n",
    "        return \"'{}' for sides {}\".format(self.args[0], self._sides)\n",
    "\n",
    "    def __repr__(self):\n",
    "        return \"TriangleError({!r}, {!r}\".format(self.args[0], self._sides)"
   ]
  },
  {
   "cell_type": "markdown",
   "metadata": {},
   "source": [
    "The above exception now overrides `__init__()` and provides a construcotr which accepts a message and collecction of side lengths.  The message is forwarded to the base-class constructor for storage, and the side lengths are stored in an instance attribute in the derived class.\n",
    "\n",
    "Side lengths are stored ina a tupe to prevent modification, and a read-only attribute is provided to access them.  `__str__()` and `__repr__()` methods are overriden using the `args` attribute from the base-class to retrieve the message string.\n",
    "\n",
    "Remember to modify the constructor call for the exception:"
   ]
  },
  {
   "cell_type": "code",
   "execution_count": null,
   "metadata": {},
   "outputs": [],
   "source": [
    "def triangle_area(a, b, c):\n",
    "    sides = sorted((a, b, c))\n",
    "    if sides[2] > sides[0] + sides[1]:\n",
    "        raise TriangleError(\"Illegal triangle\", sides)\n",
    "    \n",
    "    p = (a + b + c) / 2\n",
    "    a = math.sqrt(p * (p - a) * (p - b) * (p -c))\n",
    "    return a"
   ]
  },
  {
   "cell_type": "markdown",
   "metadata": {},
   "source": [
    "Providing an illegal triangle into the function now produces a better error report:"
   ]
  },
  {
   "cell_type": "code",
   "execution_count": null,
   "metadata": {},
   "outputs": [],
   "source": [
    "triangle_area(4, 10, 4)"
   ]
  },
  {
   "cell_type": "markdown",
   "metadata": {},
   "source": [
    "With an appropriate handler in place, it is now possible to get access to the side lengths which caused the problem:"
   ]
  },
  {
   "cell_type": "code",
   "execution_count": null,
   "metadata": {},
   "outputs": [],
   "source": [
    "try:\n",
    "    triangle_area(3, 4, 10)\n",
    "except TriangleError as e:\n",
    "    print(e.sides)"
   ]
  }
 ],
 "metadata": {
  "language_info": {
   "codemirror_mode": {
    "name": "ipython",
    "version": 3
   },
   "file_extension": ".py",
   "mimetype": "text/x-python",
   "name": "python",
   "nbconvert_exporter": "python",
   "pygments_lexer": "ipython3",
   "version": "3.6.9-final"
  },
  "orig_nbformat": 2,
  "kernelspec": {
   "name": "python36964bit347f991c209d479fb0aaa0907fb23c61",
   "display_name": "Python 3.6.9 64-bit"
  }
 },
 "nbformat": 4,
 "nbformat_minor": 2
}