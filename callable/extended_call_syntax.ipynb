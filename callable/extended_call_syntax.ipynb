{
 "nbformat": 4,
 "nbformat_minor": 2,
 "metadata": {
  "language_info": {
   "name": "python",
   "codemirror_mode": {
    "name": "ipython",
    "version": 3
   },
   "version": "3.6.9"
  },
  "orig_nbformat": 2,
  "file_extension": ".py",
  "mimetype": "text/x-python",
  "name": "python",
  "npconvert_exporter": "python",
  "pygments_lexer": "ipython3",
  "version": 3
 },
 "cells": [
  {
   "cell_type": "markdown",
   "execution_count": null,
   "metadata": {},
   "outputs": [],
   "source": [
    "Extended call syntax allows us to use any iterable series such as a tuple, to populate positional arguments, and any mapping type with string keys, such as a dictionary, to populate keyword arguments."
   ]
  },
  {
   "cell_type": "code",
   "execution_count": 1,
   "metadata": {},
   "outputs": [],
   "source": [
    "def print_args(arg1, arg2, *args):\n",
    "    print(arg1)\n",
    "    print(arg2)\n",
    "    print(*args)"
   ]
  },
  {
   "cell_type": "markdown",
   "execution_count": null,
   "metadata": {},
   "outputs": [],
   "source": [
    "Now create an iterable series (i.e. tuple), though other conforming types are possible and apply it a tthe call-site for print_args() using the asterisk prefix:"
   ]
  },
  {
   "cell_type": "code",
   "execution_count": 4,
   "metadata": {},
   "outputs": [
    {
     "name": "stdout",
     "output_type": "stream",
     "text": "11\n12\n13 14\n"
    }
   ],
   "source": [
    "t = (11,12,13,14)\n",
    "print_args(*t)"
   ]
  },
  {
   "cell_type": "markdown",
   "execution_count": null,
   "metadata": {},
   "outputs": [],
   "source": [
    "Similarly, we can use the double-asterisk prefix at the call site to unpack a mapping type, such as a dictionary into the keyword parameters, mandatory or optional:"
   ]
  },
  {
   "cell_type": "code",
   "execution_count": 9,
   "metadata": {},
   "outputs": [],
   "source": [
    "def color(red, green, blue, **kwargs):\n",
    "    print(\"r =\", red)\n",
    "    print(\"g =\", green)\n",
    "    print(\"b =\", blue)\n",
    "    print(kwargs)"
   ]
  },
  {
   "cell_type": "markdown",
   "execution_count": null,
   "metadata": {},
   "outputs": [],
   "source": [
    "Now create a dictionary to serve as our mapping type of keyword arguments and apply it at the function call-site using the ** prefix"
   ]
  },
  {
   "cell_type": "code",
   "execution_count": 10,
   "metadata": {},
   "outputs": [
    {
     "name": "stdout",
     "output_type": "stream",
     "text": "r = 21\ng = 68\nb = 120\n{'alpha': 52}\n"
    }
   ],
   "source": [
    "k = {'red': 21, 'green':68, 'blue': 120, 'alpha':52}\n",
    "color(**k)"
   ]
  },
  {
   "cell_type": "markdown",
   "execution_count": null,
   "metadata": {},
   "outputs": [],
   "source": [
    "Reminder - the dict() constructor uses the **kwargs technique to permit the creation of dictionaries directly from keyword arguments.  We could have used the technique to construct the dictionary k in the previous example.  We could have constructed k as:"
   ]
  },
  {
   "cell_type": "code",
   "execution_count": 11,
   "metadata": {},
   "outputs": [
    {
     "name": "stdout",
     "output_type": "stream",
     "text": "r = 21\ng = 68\nb = 120\n{'alpha': 52}\n"
    }
   ],
   "source": [
    "k = dict(red=21, green=68, blue=120, alpha=52)\n",
    "color(**k)"
   ]
  }
 ]
}