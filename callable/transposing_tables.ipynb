{
 "nbformat": 4,
 "nbformat_minor": 2,
 "metadata": {
  "language_info": {
   "name": "python",
   "codemirror_mode": {
    "name": "ipython",
    "version": 3
   },
   "version": "3.6.9"
  },
  "orig_nbformat": 2,
  "file_extension": ".py",
  "mimetype": "text/x-python",
  "name": "python",
  "npconvert_exporter": "python",
  "pygments_lexer": "ipython3",
  "version": 3
 },
 "cells": [
  {
   "cell_type": "markdown",
   "execution_count": null,
   "metadata": {},
   "outputs": [],
   "source": [
    "Remember that the zip() function can be used to combine two iterable series elementwise into one series.  This new series contains tuples whose elements are corresponding elements from the two series passed to zip()"
   ]
  },
  {
   "cell_type": "code",
   "execution_count": 1,
   "metadata": {},
   "outputs": [
    {
     "name": "stdout",
     "output_type": "stream",
     "text": "(12, 13)\n(14, 14)\n(15, 14)\n(15, 14)\n(17, 16)\n(21, 20)\n(22, 21)\n(22, 22)\n(23, 22)\n(22, 21)\n(20, 19)\n(18, 17)\n"
    }
   ],
   "source": [
    "sunday = [12, 14, 15, 15, 17, 21, 22, 22, 23, 22, 20, 18]\n",
    "monday = [13, 14, 14, 14, 16, 20, 21, 22, 22, 21, 19, 17]\n",
    "for item in zip(sunday, monday):\n",
    "    print(item)\n",
    "    "
   ]
  },
  {
   "cell_type": "code",
   "execution_count": 2,
   "metadata": {},
   "outputs": [
    {
     "data": {
      "text/plain": "tuple"
     },
     "execution_count": 2,
     "metadata": {},
     "output_type": "execute_result"
    }
   ],
   "source": [
    "type(item)"
   ]
  },
  {
   "cell_type": "code",
   "execution_count": 3,
   "metadata": {},
   "outputs": [
    {
     "data": {
      "text/plain": "list"
     },
     "execution_count": 3,
     "metadata": {},
     "output_type": "execute_result"
    }
   ],
   "source": [
    "type(sunday)"
   ]
  },
  {
   "cell_type": "code",
   "execution_count": 4,
   "metadata": {},
   "outputs": [
    {
     "data": {
      "text/plain": "list"
     },
     "execution_count": 4,
     "metadata": {},
     "output_type": "execute_result"
    }
   ],
   "source": [
    "type(monday)"
   ]
  },
  {
   "cell_type": "code",
   "execution_count": 8,
   "metadata": {},
   "outputs": [
    {
     "name": "stdout",
     "output_type": "stream",
     "text": "(12, 13, 2)\n(14, 14, 2)\n(15, 14, 3)\n(15, 14, 7)\n(17, 16, 9)\n(21, 20, 10)\n(22, 21, 11)\n(22, 22, 12)\n(23, 22, 10)\n(22, 21, 9)\n(20, 19, 8)\n(18, 17, 8)\n"
    }
   ],
   "source": [
    "tuesday = [2, 2, 3, 7, 9, 10, 11, 12, 10, 9, 8, 8]\n",
    "for item in zip(sunday, monday, tuesday):\n",
    "    print(item)"
   ]
  },
  {
   "cell_type": "code",
   "execution_count": 9,
   "metadata": {},
   "outputs": [
    {
     "data": {
      "text/plain": "list"
     },
     "execution_count": 9,
     "metadata": {},
     "output_type": "execute_result"
    }
   ],
   "source": [
    "daily = [sunday, monday, tuesday]\n",
    "type(daily)"
   ]
  },
  {
   "cell_type": "code",
   "execution_count": 11,
   "metadata": {},
   "outputs": [
    {
     "name": "stdout",
     "output_type": "stream",
     "text": "[[12, 14, 15, 15, 17, 21, 22, 22, 23, 22, 20, 18],\n [13, 14, 14, 14, 16, 20, 21, 22, 22, 21, 19, 17],\n [2, 2, 3, 7, 9, 10, 11, 12, 10, 9, 8, 8]]\n"
    }
   ],
   "source": [
    "from pprint import pprint as pp\n",
    "pp(daily)"
   ]
  },
  {
   "cell_type": "code",
   "execution_count": 12,
   "metadata": {},
   "outputs": [
    {
     "name": "stdout",
     "output_type": "stream",
     "text": "[[12, 14, 15, 15, 17, 21, 22, 22, 23, 22, 20, 18], [13, 14, 14, 14, 16, 20, 21, 22, 22, 21, 19, 17], [2, 2, 3, 7, 9, 10, 11, 12, 10, 9, 8, 8]]\n"
    }
   ],
   "source": [
    "print(daily)"
   ]
  },
  {
   "cell_type": "markdown",
   "execution_count": null,
   "metadata": {},
   "outputs": [],
   "source": [
    "Now our loop over the output of zip() could be rendered as:"
   ]
  },
  {
   "cell_type": "code",
   "execution_count": 13,
   "metadata": {},
   "outputs": [
    {
     "name": "stdout",
     "output_type": "stream",
     "text": "(12, 13, 2)\n(14, 14, 2)\n(15, 14, 3)\n(15, 14, 7)\n(17, 16, 9)\n(21, 20, 10)\n(22, 21, 11)\n(22, 22, 12)\n(23, 22, 10)\n(22, 21, 9)\n(20, 19, 8)\n(18, 17, 8)\n"
    }
   ],
   "source": [
    "for item in zip(daily[0], daily[1], daily[2]):\n",
    "    print(item)"
   ]
  },
  {
   "cell_type": "markdown",
   "execution_count": null,
   "metadata": {},
   "outputs": [],
   "source": [
    "Or to produce the result as a single data structure, we can wrap the result in a call to list:"
   ]
  },
  {
   "cell_type": "code",
   "execution_count": 14,
   "metadata": {},
   "outputs": [],
   "source": [
    "t = list(zip(*daily))"
   ]
  },
  {
   "cell_type": "markdown",
   "execution_count": null,
   "metadata": {},
   "outputs": [],
   "source": [
    "Now the former horizontal pprint(t) structure looks like this:"
   ]
  },
  {
   "cell_type": "code",
   "execution_count": 15,
   "metadata": {},
   "outputs": [
    {
     "name": "stdout",
     "output_type": "stream",
     "text": "[(12, 13, 2),\n (14, 14, 2),\n (15, 14, 3),\n (15, 14, 7),\n (17, 16, 9),\n (21, 20, 10),\n (22, 21, 11),\n (22, 22, 12),\n (23, 22, 10),\n (22, 21, 9),\n (20, 19, 8),\n (18, 17, 8)]\n"
    }
   ],
   "source": [
    "pp(t)"
   ]
  },
  {
   "cell_type": "markdown",
   "execution_count": 16,
   "metadata": {},
   "outputs": [
    {
     "ename": "SyntaxError",
     "evalue": "invalid syntax (<ipython-input-16-dd92275261f1>, line 1)",
     "output_type": "error",
     "traceback": [
      "\u001b[0;36m  File \u001b[0;32m\"<ipython-input-16-dd92275261f1>\"\u001b[0;36m, line \u001b[0;32m1\u001b[0m\n\u001b[0;31m    Converting columns into rows and rows into columns is an operation known as transposition.  This is an important technique to learn.\u001b[0m\n\u001b[0m                     ^\u001b[0m\n\u001b[0;31mSyntaxError\u001b[0m\u001b[0;31m:\u001b[0m invalid syntax\n"
     ]
    }
   ],
   "source": [
    "Converting columns into rows and rows into columns is an operation known as transposition.  This is an important technique to learn."
   ]
  }
 ]
}