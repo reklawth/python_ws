{
 "nbformat": 4,
 "nbformat_minor": 2,
 "metadata": {
  "language_info": {
   "name": "python",
   "codemirror_mode": {
    "name": "ipython",
    "version": 3
   },
   "version": "3.6.9"
  },
  "orig_nbformat": 2,
  "file_extension": ".py",
  "mimetype": "text/x-python",
  "name": "python",
  "npconvert_exporter": "python",
  "pygments_lexer": "ipython3",
  "version": 3
 },
 "cells": [
  {
   "cell_type": "markdown",
   "execution_count": null,
   "metadata": {},
   "outputs": [],
   "source": [
    "A lambda is an expression which returns a function object.  While regular functions must be given a name, lambdas are anonymous. First, create a list of names in strings that we wish to sort  by last name."
   ]
  },
  {
   "cell_type": "code",
   "execution_count": 1,
   "metadata": {},
   "outputs": [],
   "source": [
    "scientists = ['Marie Curie', 'Albert Einstein', 'Niels Bohr',\n",
    "               'Isaac Newton', 'Dmitri Mendeleev', 'Antoine Lavoisier',\n",
    "               'Carl Linnaeus', 'Alfred Wegener', 'Charles Darwin']"
   ]
  },
  {
   "cell_type": "markdown",
   "execution_count": null,
   "metadata": {},
   "outputs": [],
   "source": [
    "Use lambda to produce a function to sort them by last name and pass a callable as the key argument of sorted() which will extract the second name (i.e. last name).  The argument list for labmdas is terminated by a colon and separated by commas.  Lambda arguments are without enclosing parentheses.  Since Python 3 there are never any parenteses between the lambda keyword and the colon after the argument list. No need to think up a name for the function since a lambda is being used:"
   ]
  },
  {
   "cell_type": "code",
   "execution_count": 2,
   "metadata": {},
   "outputs": [
    {
     "data": {
      "text/plain": "['Niels Bohr',\n 'Marie Curie',\n 'Charles Darwin',\n 'Albert Einstein',\n 'Antoine Lavoisier',\n 'Carl Linnaeus',\n 'Dmitri Mendeleev',\n 'Isaac Newton',\n 'Alfred Wegener']"
     },
     "execution_count": 2,
     "metadata": {},
     "output_type": "execute_result"
    }
   ],
   "source": [
    "sorted(scientists, key=lambda name: name.split()[-1])"
   ]
  },
  {
   "cell_type": "markdown",
   "execution_count": null,
   "metadata": {},
   "outputs": [],
   "source": [
    "Here our lambda will accept a single argument (i.e. name) and the body of the lambda follows the colon.  It will call str.split() and return the last element of the resulting sequence using negative indexing"
   ]
  },
  {
   "cell_type": "code",
   "execution_count": 3,
   "metadata": {},
   "outputs": [],
   "source": [
    "last_name = lambda name: name.split()[-1]"
   ]
  },
  {
   "cell_type": "markdown",
   "execution_count": null,
   "metadata": {},
   "outputs": [],
   "source": [
    "You can verify that the resulting object is a function.  When run in REPL it will show the memory location"
   ]
  },
  {
   "cell_type": "code",
   "execution_count": 4,
   "metadata": {},
   "outputs": [
    {
     "data": {
      "text/plain": "<function __main__.<lambda>(name)>"
     },
     "execution_count": 4,
     "metadata": {},
     "output_type": "execute_result"
    }
   ],
   "source": [
    "last_name"
   ]
  },
  {
   "cell_type": "markdown",
   "execution_count": null,
   "metadata": {},
   "outputs": [],
   "source": [
    "The object (i.e. last_name) is callable like a function:"
   ]
  },
  {
   "cell_type": "code",
   "execution_count": 5,
   "metadata": {},
   "outputs": [
    {
     "data": {
      "text/plain": "'Tesla'"
     },
     "execution_count": 5,
     "metadata": {},
     "output_type": "execute_result"
    }
   ],
   "source": [
    "last_name(\"Nikola Tesla\")"
   ]
  },
  {
   "cell_type": "markdown",
   "execution_count": null,
   "metadata": {},
   "outputs": [],
   "source": [
    "While any return value from a regular function must be explicitly returned using the return statement, no return statement is needed or allowed in the lambda body.  The return value will be the value of the supplied expression.  Creating callable functions this way - using a lambda and binding to a name through assignment - is equavalent to defining a regualar fuction using def, like this:"
   ]
  },
  {
   "cell_type": "code",
   "execution_count": 6,
   "metadata": {},
   "outputs": [],
   "source": [
    "def first_name(name):\n",
    "    return name.split()[0]"
   ]
  },
  {
   "cell_type": "code",
   "execution_count": 7,
   "metadata": {},
   "outputs": [
    {
     "data": {
      "text/plain": "'Albert'"
     },
     "execution_count": 7,
     "metadata": {},
     "output_type": "execute_result"
    }
   ],
   "source": [
    "first_name(\"Albert Einstein\")"
   ]
  },
  {
   "cell_type": "markdown",
   "execution_count": null,
   "metadata": {},
   "outputs": [],
   "source": [
    "Warning!  Regular functions can easily be tested using external testing tools, because they can be fetched by name.  However most lambdas cannot be tested this way because they are anonymous and cannot be retrieved.  Therefore keep lambdas simple enough that they are obviously correct by visual inspection."
   ]
  }
 ]
}