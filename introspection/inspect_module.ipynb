{
 "cells": [
  {
   "cell_type": "markdown",
   "metadata": {},
   "source": [
    "# The `inspect` module"
   ]
  },
  {
   "cell_type": "markdown",
   "metadata": {},
   "source": [
    "Verify that `sorted_set` is a module:"
   ]
  },
  {
   "cell_type": "code",
   "execution_count": null,
   "metadata": {},
   "outputs": [],
   "source": [
    "import inspect\n",
    "import sorted_set\n",
    "inspect.ismodule(sorted_set)"
   ]
  },
  {
   "cell_type": "markdown",
   "metadata": {},
   "source": [
    "## `inspect.getmembers()`"
   ]
  },
  {
   "cell_type": "markdown",
   "metadata": {},
   "source": [
    "The `getmembers()` function retrieves members as a `list` of name-value pairs.  When the module object is passed to the `getmembers()` function, it returns a vast output, including everything in the module namespace (which includes all of the built-ins):"
   ]
  },
  {
   "cell_type": "code",
   "execution_count": null,
   "metadata": {},
   "outputs": [],
   "source": [
    "inspect.getmembers(sorted_set)"
   ]
  },
  {
   "cell_type": "markdown",
   "metadata": {},
   "source": [
    "Depending on the exact Python version used, the `inspect` module contains around twenty predicates similar to `ismodule()` for identifying different object types, from `isabstract()` to `istraceback()`.  Use another built-in introspective tool, the `dir()` function in conjunction with a simple list comprehension, to see them:"
   ]
  },
  {
   "cell_type": "code",
   "execution_count": null,
   "metadata": {},
   "outputs": [],
   "source": [
    "[m for m in dir(inspect) if m.startswith('is')]"
   ]
  },
  {
   "cell_type": "markdown",
   "metadata": {},
   "source": [
    "Do something similar with `getmembers()`.  Attenuate the overwhelming output of `getmembers()` by providing a second argument which is a predicate function to filter the list for certain categories of object.\n",
    "\n",
    "Pass the `inspect.isclass` predicate to filter for classes:"
   ]
  },
  {
   "cell_type": "code",
   "execution_count": null,
   "metadata": {},
   "outputs": [],
   "source": [
    "inspect.getmembers(sorted_set, inspect.isclass)"
   ]
  },
  {
   "cell_type": "markdown",
   "metadata": {},
   "source": [
    "While it may be expected that only `SortedSet` was to be returned, since that is the only class explicitly defined in the `sorted_set` module, in fact all of the other calles used - such as `Sequence` and `Set` abstract base classes and even `chain`, which may not have been expected to be a class - are included.  Presumably, since `chain` is called like  a function it is a class which implements that `__call__()` special method.\n",
    "\n",
    "Why are these objects returned? Because any class that ends up in the module namespace will be returned, whether defined or imported.  It is possible to `import` any of these names `from` the `sorted_set` mdoule, because `import` just binds objects in the namespace of another module to names in the current namespace:"
   ]
  },
  {
   "cell_type": "code",
   "execution_count": null,
   "metadata": {},
   "outputs": [],
   "source": [
    "from sorted_set import chain\n",
    "list(chain([1, 2, 3], [4, 5, 6]))"
   ]
  },
  {
   "cell_type": "markdown",
   "metadata": {},
   "source": [
    "It is possible to dig a little deeper into the module, for example, by retrieving all of the functions of the `SortedSet` class:"
   ]
  },
  {
   "cell_type": "code",
   "execution_count": null,
   "metadata": {},
   "outputs": [],
   "source": [
    "inspect.getmembers(sorted_set.SortedSet, inspect.isfunction)"
   ]
  },
  {
   "cell_type": "markdown",
   "metadata": {},
   "source": [
    "## Signatures"
   ]
  },
  {
   "cell_type": "markdown",
   "metadata": {},
   "source": [
    "The inspect module contains tools for interrogating individual functions.  This is done by retrieving a so-called `Signature` object for the function:"
   ]
  },
  {
   "cell_type": "code",
   "execution_count": null,
   "metadata": {},
   "outputs": [],
   "source": [
    "init_sig = inspect.signature(sorted_set.SortedSet.__init__)"
   ]
  },
  {
   "cell_type": "code",
   "execution_count": null,
   "metadata": {},
   "outputs": [],
   "source": [
    "init_sig"
   ]
  },
  {
   "cell_type": "markdown",
   "metadata": {},
   "source": [
    "From this signature object, obtain a list of the parameters:"
   ]
  },
  {
   "cell_type": "code",
   "execution_count": null,
   "metadata": {},
   "outputs": [],
   "source": [
    "init_sig.parameters"
   ]
  },
  {
   "cell_type": "markdown",
   "metadata": {},
   "source": [
    "Query individual parameters for attributes such as their default values:"
   ]
  },
  {
   "cell_type": "code",
   "execution_count": null,
   "metadata": {},
   "outputs": [],
   "source": [
    "repr(init_sig.parameters['items'].default)"
   ]
  },
  {
   "cell_type": "markdown",
   "metadata": {},
   "source": [
    "Converting a `Signature` object to a string provides a nice output:"
   ]
  },
  {
   "cell_type": "code",
   "execution_count": null,
   "metadata": {},
   "outputs": [],
   "source": [
    "str(init_sig)"
   ]
  },
  {
   "cell_type": "markdown",
   "metadata": {},
   "source": [
    "Be aware that `inspect.signature()` does not always work - some built in functions which are implemented in C do not provide sufficient metadata to be introspected this way.  In this case the function fails with a `ValueError`.  Try to retrieve the signature of the built-in `abs()` function:"
   ]
  },
  {
   "cell_type": "code",
   "execution_count": null,
   "metadata": {},
   "outputs": [],
   "source": [
    "inspect.signature(abs)"
   ]
  },
  {
   "cell_type": "markdown",
   "metadata": {},
   "source": [
    "There are amany tools in the `inspect` module which allows programs to introspect themselves in very deep ways."
   ]
  }
 ],
 "metadata": {
  "language_info": {
   "codemirror_mode": {
    "name": "ipython",
    "version": 3
   },
   "file_extension": ".py",
   "mimetype": "text/x-python",
   "name": "python",
   "nbconvert_exporter": "python",
   "pygments_lexer": "ipython3",
   "version": "3.6.9-final"
  },
  "orig_nbformat": 2,
  "kernelspec": {
   "name": "python36964bit347f991c209d479fb0aaa0907fb23c61",
   "display_name": "Python 3.6.9 64-bit"
  }
 },
 "nbformat": 4,
 "nbformat_minor": 2
}