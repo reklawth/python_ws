{
 "cells": [
  {
   "cell_type": "markdown",
   "metadata": {},
   "source": [
    "# Introspecting objects"
   ]
  },
  {
   "cell_type": "markdown",
   "metadata": {},
   "source": [
    "Remember `dir()` is another important introspection function, which returns a list of attribute names for an instance:"
   ]
  },
  {
   "cell_type": "code",
   "execution_count": null,
   "metadata": {},
   "outputs": [],
   "source": [
    "a = 42"
   ]
  },
  {
   "cell_type": "code",
   "execution_count": null,
   "metadata": {},
   "outputs": [],
   "source": [
    "dir(a)"
   ]
  },
  {
   "cell_type": "code",
   "execution_count": null,
   "metadata": {},
   "outputs": [],
   "source": [
    "b = \"Donovan\""
   ]
  },
  {
   "cell_type": "code",
   "execution_count": null,
   "metadata": {},
   "outputs": [],
   "source": [
    "dir(b)"
   ]
  },
  {
   "cell_type": "code",
   "execution_count": null,
   "metadata": {},
   "outputs": [],
   "source": [
    "b.upper()"
   ]
  },
  {
   "cell_type": "markdown",
   "metadata": {},
   "source": [
    "Both attributes and method names are returned in the above lists, because methods _are_ attributes - they are just callable attributes."
   ]
  },
  {
   "cell_type": "markdown",
   "metadata": {},
   "source": [
    "## `getattr()`"
   ]
  },
  {
   "cell_type": "markdown",
   "metadata": {},
   "source": [
    "Given an object and an attribute name, a corresponding attribute object using the built-in `getattr()` function.  See that the `int` object has attributes called `numerator` and `denominator` allowing it to be used like the rational number object modelled by the `Fraction` type, and also `imag`, `real`, and `conjugate` attributes allowing it to be used like a complex number.  Retrieve one of the attributes using `getattr()`:"
   ]
  },
  {
   "cell_type": "code",
   "execution_count": null,
   "metadata": {},
   "outputs": [],
   "source": [
    "getattr(a, 'denominator')"
   ]
  },
  {
   "cell_type": "markdown",
   "metadata": {},
   "source": [
    "The above returns the same value as accessing the denominator directly:"
   ]
  },
  {
   "cell_type": "code",
   "execution_count": null,
   "metadata": {},
   "outputs": [],
   "source": [
    "a.denominator"
   ]
  },
  {
   "cell_type": "markdown",
   "metadata": {},
   "source": [
    "Other attributes return more interesting objects:"
   ]
  },
  {
   "cell_type": "code",
   "execution_count": null,
   "metadata": {},
   "outputs": [],
   "source": [
    "getattr(a, 'conjugate')"
   ]
  },
  {
   "cell_type": "markdown",
   "metadata": {},
   "source": [
    "The `conjugate` attribute is revealed to be a method.  Check that it is a callable object using another introspection tool, the built-in `callable()` function:"
   ]
  },
  {
   "cell_type": "code",
   "execution_count": null,
   "metadata": {},
   "outputs": [],
   "source": [
    "callable(getattr(a, 'conjugate'))"
   ]
  },
  {
   "cell_type": "code",
   "execution_count": null,
   "metadata": {},
   "outputs": [],
   "source": [
    "callable(getattr(b, 'isdecimal'))"
   ]
  },
  {
   "cell_type": "markdown",
   "metadata": {},
   "source": [
    "By navigating around the attributes of an object, and the attributes of those attributes, it is possible to discover almost anything about an object in Python.  Retrieve the type of the `int.conjugate` method through its `__class__` attribute, and then the `__name__` of that class as a string through the `__name__` attribute."
   ]
  },
  {
   "cell_type": "markdown",
   "metadata": {},
   "source": [
    "## `hasattr()`"
   ]
  },
  {
   "cell_type": "markdown",
   "metadata": {},
   "source": [
    "It can be determined whether a particular object has an attribute of a given name using the built-in `hasattr()` function, which returns True if a particular attribute exists:"
   ]
  },
  {
   "cell_type": "code",
   "execution_count": null,
   "metadata": {},
   "outputs": [],
   "source": [
    "hasattr(a, 'bit_length')"
   ]
  },
  {
   "cell_type": "code",
   "execution_count": null,
   "metadata": {},
   "outputs": [],
   "source": [
    "hasattr(a, 'index')"
   ]
  },
  {
   "cell_type": "code",
   "execution_count": null,
   "metadata": {},
   "outputs": [],
   "source": [
    "hasattr(b, 'index')"
   ]
  },
  {
   "cell_type": "markdown",
   "metadata": {},
   "source": [
    "In general, _Easier to Ask for Forgiveness than Permission_ (EAFP) style programming using exception handlers is considered more Pythonic than _Look Before You Leap_ (LBLY) style programs using type test and attribute existence tests.  Optimistic code using `try..except` is faster that LBLY code using `hasattr()`, becuase internally `hasattr()` uses an exception handler anyway."
   ]
  },
  {
   "cell_type": "code",
   "execution_count": null,
   "metadata": {
    "tags": []
   },
   "outputs": [],
   "source": [
    "# The Zen of Python\n",
    "import this"
   ]
  },
  {
   "cell_type": "markdown",
   "metadata": {},
   "source": [
    "Here is a function in a module `numerals.py` which, given an object supporting the `numerator` and `denominator` attributes for rational numbers, returns a so-called mixed-numeral containing the separate whole number and fractional parts:"
   ]
  },
  {
   "cell_type": "code",
   "execution_count": null,
   "metadata": {},
   "outputs": [],
   "source": [
    "# numerals.py\n",
    "\n",
    "from fractions import Fraction\n",
    "\n",
    "def mixed_numeral(vulgar):\n",
    "    if not (hasattr(vulgar, 'numerator') and hasattr(vulgar, 'denominator')):\n",
    "        raise TypeError(\"{} is not a rational number\".format(vulgar))\n",
    "\n",
    "    integer = vulgar.numerator // vulgar.denominator\n",
    "    fraction = Fraction(vulgar.numerator - integer * vulgar.denominator, vulgar.denominator)\n",
    "    return integer, fraction"
   ]
  },
  {
   "cell_type": "markdown",
   "metadata": {},
   "source": [
    "The above version uses `hasattr()` to check whether the supplied object supports the rational number interface.  Call it with a `Fraction`:"
   ]
  },
  {
   "cell_type": "code",
   "execution_count": null,
   "metadata": {},
   "outputs": [],
   "source": [
    "mixed_numeral(Fraction('11/10'))"
   ]
  },
  {
   "cell_type": "markdown",
   "metadata": {},
   "source": [
    "Call it with a float, and see that the type check fails:"
   ]
  },
  {
   "cell_type": "code",
   "execution_count": null,
   "metadata": {},
   "outputs": [],
   "source": [
    "mixed_numeral(1.7)"
   ]
  },
  {
   "cell_type": "markdown",
   "metadata": {},
   "source": [
    "In contrast, here is an alternative version which does not perform the `hasattr()` check:"
   ]
  },
  {
   "cell_type": "code",
   "execution_count": null,
   "metadata": {},
   "outputs": [],
   "source": [
    "def mixed_numeral(vulgar):\n",
    "    integer = vulgar.numerator // vulgar.denominator\n",
    "    fraction = Fraction(vulgar.numerator - integer * vulgar.denominator, vulgar.denominator)\n",
    "    return integer, fraction"
   ]
  },
  {
   "cell_type": "markdown",
   "metadata": {},
   "source": [
    "The only difference in its runtime behavior is that a different exception is raised:"
   ]
  },
  {
   "cell_type": "code",
   "execution_count": null,
   "metadata": {},
   "outputs": [],
   "source": [
    "mixed_numeral(Fraction('11/10'))"
   ]
  },
  {
   "cell_type": "code",
   "execution_count": null,
   "metadata": {},
   "outputs": [],
   "source": [
    "mixed_numeral(1.7)"
   ]
  },
  {
   "cell_type": "markdown",
   "metadata": {},
   "source": [
    "The above exception is more detailed, but certainly less informative.  Of course an exception handler can be used to raise the more appropriate exception type of `TypeError` chaining it to the original `AttributeError` to provide the details:"
   ]
  },
  {
   "cell_type": "code",
   "execution_count": null,
   "metadata": {},
   "outputs": [],
   "source": [
    "def mixed_numeral(vulgar):\n",
    "    try:\n",
    "        integer = vulgar.numerator // vulgar.denominator\n",
    "        fraction = Fraction(vulgar.numerator - integer * vulgar.denominator, vulgar.denominator)\n",
    "        return integer, fraction\n",
    "    except AttributeError as e:\n",
    "        raise TypeError(\"{} is not a rational number\".format(vulgar)) from e"
   ]
  },
  {
   "cell_type": "markdown",
   "metadata": {},
   "source": [
    "The above approach yields the maximum amount of information about what went wrong and why:"
   ]
  },
  {
   "cell_type": "code",
   "execution_count": null,
   "metadata": {},
   "outputs": [],
   "source": [
    "mixed_numeral(Fraction('11/10'))"
   ]
  },
  {
   "cell_type": "code",
   "execution_count": null,
   "metadata": {},
   "outputs": [],
   "source": [
    "mixed_numeral(1.7)"
   ]
  },
  {
   "cell_type": "markdown",
   "metadata": {},
   "source": [
    "The lesson is that if using type introspection in Python it may be better to avoid the checks and just \"let it fail\"."
   ]
  }
 ],
 "metadata": {
  "language_info": {
   "codemirror_mode": {
    "name": "ipython",
    "version": 3
   },
   "file_extension": ".py",
   "mimetype": "text/x-python",
   "name": "python",
   "nbconvert_exporter": "python",
   "pygments_lexer": "ipython3",
   "version": "3.6.9-final"
  },
  "orig_nbformat": 2,
  "kernelspec": {
   "name": "python36964bit347f991c209d479fb0aaa0907fb23c61",
   "display_name": "Python 3.6.9 64-bit"
  }
 },
 "nbformat": 4,
 "nbformat_minor": 2
}