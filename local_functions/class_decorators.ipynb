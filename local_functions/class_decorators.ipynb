{
 "nbformat": 4,
 "nbformat_minor": 2,
 "metadata": {
  "language_info": {
   "name": "python",
   "codemirror_mode": {
    "name": "ipython",
    "version": 3
   },
   "version": "3.6.9-final"
  },
  "orig_nbformat": 2,
  "file_extension": ".py",
  "mimetype": "text/x-python",
  "name": "python",
  "npconvert_exporter": "python",
  "pygments_lexer": "ipython3",
  "version": 3,
  "kernelspec": {
   "name": "python36964bit51d48f7edb0a4cb0866393a6d96a29c5",
   "display_name": "Python 3.6.9 64-bit"
  }
 },
 "cells": [
  {
   "cell_type": "markdown",
   "execution_count": null,
   "metadata": {},
   "outputs": [],
   "source": [
    "Class objects are callable, and calling them produces new instances of that class.  By using a class object as a decorator you replace the decorated function with a new instance of the class.  The decorated function will be passed into the the constructor and thereby to __init__().  The ojbect returned by the decoator must itself be callable, so the decorator class must implement the __call__() method and thereby be callable.\n",
    "\n",
    "We can use class objects as decorators so long as __init__() accepts a single argument (besides self) and the class implements __call__()\n",
    "\n",
    "The following example creates a decorator class CallCount which keeps track of how many times it is called:"
   ]
  },
  {
   "cell_type": "code",
   "execution_count": 4,
   "metadata": {},
   "outputs": [],
   "source": [
    "class CallCount:\n",
    "    def __init__(self, f):\n",
    "        self.f = f\n",
    "        self.count = 0\n",
    "\n",
    "    def __call__(self, *args, **kwargs):\n",
    "        self.count += 1\n",
    "        return self.f(*args, **kwargs)"
   ]
  },
  {
   "cell_type": "markdown",
   "execution_count": null,
   "metadata": {},
   "outputs": [],
   "source": [
    "The initializer for CallCount takes a single function f and keeps it as a member attribute.  It also initializes a count attribute to zero.  The __call__() method in CallCount then increments that count each time it is called and then calls f, returning whatever value f produces.  Now use @CallCount to decorate a function:"
   ]
  },
  {
   "cell_type": "code",
   "execution_count": 5,
   "metadata": {},
   "outputs": [],
   "source": [
    "@CallCount\n",
    "def hello(name):\n",
    "    print('Hello, {}!'.format(name))"
   ]
  },
  {
   "cell_type": "markdown",
   "execution_count": null,
   "metadata": {},
   "outputs": [],
   "source": [
    "Now call hell a few times to check its call count:"
   ]
  },
  {
   "cell_type": "code",
   "execution_count": 6,
   "metadata": {},
   "outputs": [
    {
     "name": "stdout",
     "output_type": "stream",
     "text": "Hello, Fred!\n"
    }
   ],
   "source": [
    "hello('Fred')"
   ]
  },
  {
   "cell_type": "code",
   "execution_count": 7,
   "metadata": {},
   "outputs": [
    {
     "name": "stdout",
     "output_type": "stream",
     "text": "Hello, Wilma!\n"
    }
   ],
   "source": [
    "hello('Wilma')"
   ]
  },
  {
   "cell_type": "code",
   "execution_count": 8,
   "metadata": {},
   "outputs": [
    {
     "name": "stdout",
     "output_type": "stream",
     "text": "Hello, Betty!\nHello, Barney!\n"
    }
   ],
   "source": [
    "hello('Betty')\n",
    "hello('Barney')"
   ]
  },
  {
   "cell_type": "code",
   "execution_count": 9,
   "metadata": {},
   "outputs": [
    {
     "data": {
      "text/plain": "4"
     },
     "execution_count": 9,
     "metadata": {},
     "output_type": "execute_result"
    }
   ],
   "source": [
    "hello.count"
   ]
  },
  {
   "cell_type": "code",
   "execution_count": null,
   "metadata": {},
   "outputs": [],
   "source": []
  }
 ]
}