{
 "nbformat": 4,
 "nbformat_minor": 2,
 "metadata": {
  "language_info": {
   "name": "python",
   "codemirror_mode": {
    "name": "ipython",
    "version": 3
   },
   "version": "3.6.9-final"
  },
  "orig_nbformat": 2,
  "file_extension": ".py",
  "mimetype": "text/x-python",
  "name": "python",
  "npconvert_exporter": "python",
  "pygments_lexer": "ipython3",
  "version": 3,
  "kernelspec": {
   "name": "python36964bit51d48f7edb0a4cb0866393a6d96a29c5",
   "display_name": "Python 3.6.9 64-bit"
  }
 },
 "cells": [
  {
   "cell_type": "markdown",
   "execution_count": null,
   "metadata": {},
   "outputs": [],
   "source": [
    "LEGB (local, enclosed, global, built-in) functions do not apply when we are making new name bindings"
   ]
  },
  {
   "cell_type": "code",
   "execution_count": 1,
   "metadata": {},
   "outputs": [],
   "source": [
    "message = 'global'\n",
    "\n",
    "def enclosing():\n",
    "    message = 'enclosing'\n",
    "\n",
    "    def local():\n",
    "        message = 'local'"
   ]
  },
  {
   "cell_type": "markdown",
   "execution_count": null,
   "metadata": {},
   "outputs": [],
   "source": [
    "When we assign to message in the function local, we are creating a new name binding in that function's scope from the name message to the string \"local\".  We are not rebinding either of the other two message variables in the code."
   ]
  },
  {
   "cell_type": "code",
   "execution_count": 3,
   "metadata": {},
   "outputs": [
    {
     "name": "stdout",
     "output_type": "stream",
     "text": "global message: global\nenclosing message: enclosing\nenclosing message: enclosing\nglobal message: global\n"
    }
   ],
   "source": [
    "message = 'global'\n",
    "\n",
    "def enclosing():\n",
    "    message = 'enclosing'\n",
    "\n",
    "    def local():\n",
    "        message = 'local'\n",
    "\n",
    "    print('enclosing message:', message)\n",
    "    local()\n",
    "    print('enclosing message:', message)\n",
    "\n",
    "print('global message:', message)\n",
    "enclosing()\n",
    "print('global message:', message)"
   ]
  },
  {
   "cell_type": "markdown",
   "execution_count": null,
   "metadata": {},
   "outputs": [],
   "source": [
    "If we wanted the function local() to odify the global binding for message rather than create a new one, we could use the global keywork to introduce the global message binding into local:"
   ]
  },
  {
   "cell_type": "code",
   "execution_count": 4,
   "metadata": {},
   "outputs": [
    {
     "name": "stdout",
     "output_type": "stream",
     "text": "global message: global\nenclosing message: enclosing\nenclosing message: enclosing\nglobal message: local\n"
    }
   ],
   "source": [
    "message = 'global'\n",
    "\n",
    "def enclosing():\n",
    "    message = 'enclosing'\n",
    "\n",
    "    def local():\n",
    "        global message\n",
    "        message = 'local'\n",
    "\n",
    "    print('enclosing message:', message)\n",
    "    local()\n",
    "    print('enclosing message:', message)\n",
    "\n",
    "print('global message:', message)\n",
    "enclosing()\n",
    "print('global message:', message)"
   ]
  },
  {
   "cell_type": "markdown",
   "execution_count": null,
   "metadata": {},
   "outputs": [],
   "source": [
    "As evidenced from the code above the module-level binding of the message is changed when local is called."
   ]
  },
  {
   "cell_type": "markdown",
   "execution_count": null,
   "metadata": {},
   "outputs": [],
   "source": [
    "So how an we make the function local() modify the binding for message defined in the function enclosing?  Use of the keywork nonloal which inserts a name biding from an enclosing namespace into the local namespace.  In other words, nonlocal searches the enclosing namespaces from innermost to outermost for the name you give it.  Once it finds a match, that binding is introduced into the scope where nonlocal was invoked:"
   ]
  },
  {
   "cell_type": "code",
   "execution_count": 5,
   "metadata": {},
   "outputs": [
    {
     "name": "stdout",
     "output_type": "stream",
     "text": "global message: global\nenclosing message: enclosing\nenclosing message: local\nglobal message: global\n"
    }
   ],
   "source": [
    "message = 'global'\n",
    "\n",
    "def enclosing():\n",
    "    message = 'enclosing'\n",
    "\n",
    "    def local():\n",
    "        nonlocal message\n",
    "        message = 'local'\n",
    "\n",
    "    print('enclosing message:', message)\n",
    "    local()\n",
    "    print('enclosing message:', message)\n",
    "\n",
    "print('global message:', message)\n",
    "enclosing()\n",
    "print('global message:', message)"
   ]
  },
  {
   "cell_type": "markdown",
   "execution_count": null,
   "metadata": {},
   "outputs": [],
   "source": [
    "Note that you can trhow an error when no matching enclosing binding exists.  Python will raise a SyntaxError:"
   ]
  },
  {
   "cell_type": "code",
   "execution_count": 6,
   "metadata": {},
   "outputs": [
    {
     "ename": "SyntaxError",
     "evalue": "no binding for nonlocal 'no_such_name' found (<ipython-input-6-a45d3c44bdb5>, line 7)",
     "output_type": "error",
     "traceback": [
      "\u001b[0;36m  File \u001b[0;32m\"<ipython-input-6-a45d3c44bdb5>\"\u001b[0;36m, line \u001b[0;32m7\u001b[0m\n\u001b[0;31m    nonlocal no_such_name\u001b[0m\n\u001b[0m    ^\u001b[0m\n\u001b[0;31mSyntaxError\u001b[0m\u001b[0;31m:\u001b[0m no binding for nonlocal 'no_such_name' found\n"
     ]
    }
   ],
   "source": [
    "message = 'global'\n",
    "\n",
    "def enclosing():\n",
    "    message = 'enclosing'\n",
    "\n",
    "    def local():\n",
    "        nonlocal no_such_name\n",
    "        message = 'local'\n",
    "\n",
    "    print('enclosing message:', message)\n",
    "    local()\n",
    "    print('enclosing message:', message)\n",
    "\n",
    "print('global message:', message)\n",
    "enclosing()\n",
    "print('global message:', message)"
   ]
  },
  {
   "cell_type": "markdown",
   "execution_count": null,
   "metadata": {},
   "outputs": [],
   "source": [
    "In this example the make_timer() function returns a new function.  Each time you call this new function, it returns the elapsed time since the last time you called it."
   ]
  },
  {
   "cell_type": "code",
   "execution_count": 7,
   "metadata": {},
   "outputs": [],
   "source": [
    "import time\n",
    "\n",
    "def make_timer():\n",
    "    last_called = None # Never\n",
    "\n",
    "    def elasped():\n",
    "        nonlocal last_called\n",
    "        now = time.time()\n",
    "        if last_called is None:\n",
    "            last_called = now\n",
    "            return None\n",
    "        result = now - last_called\n",
    "        last_called = now\n",
    "        return result\n",
    "\n",
    "    return elasped"
   ]
  },
  {
   "cell_type": "code",
   "execution_count": 8,
   "metadata": {},
   "outputs": [],
   "source": [
    "t = make_timer()"
   ]
  },
  {
   "cell_type": "code",
   "execution_count": 9,
   "metadata": {},
   "outputs": [],
   "source": [
    "t()"
   ]
  },
  {
   "cell_type": "code",
   "execution_count": 10,
   "metadata": {},
   "outputs": [
    {
     "data": {
      "text/plain": "4.85308313369751"
     },
     "execution_count": 10,
     "metadata": {},
     "output_type": "execute_result"
    }
   ],
   "source": [
    "t()"
   ]
  },
  {
   "cell_type": "code",
   "execution_count": 17,
   "metadata": {},
   "outputs": [
    {
     "data": {
      "text/plain": "2.7054452896118164"
     },
     "execution_count": 17,
     "metadata": {},
     "output_type": "execute_result"
    }
   ],
   "source": [
    "t()"
   ]
  },
  {
   "cell_type": "code",
   "execution_count": 18,
   "metadata": {},
   "outputs": [
    {
     "data": {
      "text/plain": "9.703350067138672"
     },
     "execution_count": 18,
     "metadata": {},
     "output_type": "execute_result"
    }
   ],
   "source": [
    "t()"
   ]
  },
  {
   "cell_type": "markdown",
   "execution_count": null,
   "metadata": {},
   "outputs": [],
   "source": [
    "As you can see the first time you invoke t it returns nothing.  After that, it returns the amount of time since the last invocation.  Every time you call make_timer(), it creates a new local variable named last_called.  It then defines a local function called elapsed() which uses the nonlocal keyword to insert make_timers()'s binding of last_called into its local scope.  The inner elapsed() elaped function then uses the last_called binding to keep track of the last time it was called.  In other words, elapsed() uses nonlocal to refer to a name binding which will exist across multiple calls to be elapsed().  In this way, elapsed is using nonlocal to create a form of persistent storage."
   ]
  },
  {
   "cell_type": "markdown",
   "execution_count": null,
   "metadata": {},
   "outputs": [],
   "source": [
    "Note that each call to make_timer() creates a new, independent binding of last_called() as well as a new definition of elapsed().  This means that each call to make_timer() creates a new, independent timer object:"
   ]
  },
  {
   "cell_type": "code",
   "execution_count": 19,
   "metadata": {},
   "outputs": [],
   "source": [
    "t1 = make_timer()\n",
    "t2 = make_timer()"
   ]
  },
  {
   "cell_type": "code",
   "execution_count": 20,
   "metadata": {},
   "outputs": [
    {
     "data": {
      "text/plain": "3.147125244140625e-05"
     },
     "execution_count": 20,
     "metadata": {},
     "output_type": "execute_result"
    }
   ],
   "source": [
    "t1()\n",
    "t1()"
   ]
  },
  {
   "cell_type": "code",
   "execution_count": 21,
   "metadata": {},
   "outputs": [
    {
     "data": {
      "text/plain": "3.075599670410156e-05"
     },
     "execution_count": 21,
     "metadata": {},
     "output_type": "execute_result"
    }
   ],
   "source": [
    "t2()\n",
    "t2()"
   ]
  },
  {
   "cell_type": "code",
   "execution_count": 22,
   "metadata": {},
   "outputs": [
    {
     "data": {
      "text/plain": "7.906819820404053"
     },
     "execution_count": 22,
     "metadata": {},
     "output_type": "execute_result"
    }
   ],
   "source": [
    "t2()"
   ]
  },
  {
   "cell_type": "code",
   "execution_count": 23,
   "metadata": {},
   "outputs": [
    {
     "data": {
      "text/plain": "6.852389574050903"
     },
     "execution_count": 23,
     "metadata": {},
     "output_type": "execute_result"
    }
   ],
   "source": [
    "t2()"
   ]
  },
  {
   "cell_type": "code",
   "execution_count": 24,
   "metadata": {},
   "outputs": [
    {
     "data": {
      "text/plain": "47.58114671707153"
     },
     "execution_count": 24,
     "metadata": {},
     "output_type": "execute_result"
    }
   ],
   "source": [
    "t1()"
   ]
  },
  {
   "cell_type": "code",
   "execution_count": 25,
   "metadata": {},
   "outputs": [
    {
     "data": {
      "text/plain": "28.4842689037323"
     },
     "execution_count": 25,
     "metadata": {},
     "output_type": "execute_result"
    }
   ],
   "source": [
    "t2()"
   ]
  },
  {
   "cell_type": "code",
   "execution_count": null,
   "metadata": {},
   "outputs": [],
   "source": []
  }
 ]
}