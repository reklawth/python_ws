{
 "nbformat": 4,
 "nbformat_minor": 2,
 "metadata": {
  "language_info": {
   "name": "python",
   "codemirror_mode": {
    "name": "ipython",
    "version": 3
   },
   "version": "3.6.9-final"
  },
  "orig_nbformat": 2,
  "file_extension": ".py",
  "mimetype": "text/x-python",
  "name": "python",
  "npconvert_exporter": "python",
  "pygments_lexer": "ipython3",
  "version": 3,
  "kernelspec": {
   "name": "python36964bit51d48f7edb0a4cb0866393a6d96a29c5",
   "display_name": "Python 3.6.9 64-bit"
  }
 },
 "cells": [
  {
   "cell_type": "markdown",
   "execution_count": null,
   "metadata": {},
   "outputs": [],
   "source": [
    "At a high level, decorators are a way to modify or enhance existing functions in a non-intrusive and maintainable way.\n",
    "\n",
    "In Python, a decorator is a callable object that takes in a callable and returns a callable.  Decorators can be generally be thought of as functions that take a function as an argument and return another function.\n",
    "\n",
    "In the example below, we can use the built-in ascii() function to convert all non-ASCII character to escape sequences:"
   ]
  },
  {
   "cell_type": "code",
   "execution_count": 3,
   "metadata": {},
   "outputs": [],
   "source": [
    "def escape_unicode(f):\n",
    "    def wrap(*args, **kwargs):\n",
    "        x = f(*args, **kwargs)\n",
    "        return ascii(x)\n",
    "\n",
    "    return wrap"
   ]
  },
  {
   "cell_type": "markdown",
   "execution_count": 1,
   "metadata": {},
   "outputs": [
    {
     "ename": "SyntaxError",
     "evalue": "invalid syntax (<ipython-input-1-d234d731bf5e>, line 1)",
     "output_type": "error",
     "traceback": [
      "\u001b[0;36m  File \u001b[0;32m\"<ipython-input-1-d234d731bf5e>\"\u001b[0;36m, line \u001b[0;32m1\u001b[0m\n\u001b[0;31m    In the above, the decorator, escape_unicode, is just a normal function.  Its only argument f, is the function to be decorated.\u001b[0m\n\u001b[0m         ^\u001b[0m\n\u001b[0;31mSyntaxError\u001b[0m\u001b[0;31m:\u001b[0m invalid syntax\n"
     ]
    }
   ],
   "source": [
    "In the above, the decorator, escape_unicode, is just a normal function.  Its only argument f, is the function to be decorated.  \n",
    "\n",
    "It is important to notice that escape_unicode returns wrap.  Remember that  a decorator takes a a callable as its argument and returns a new callable.  In this case, the new callable is wrap.  By using closures, wrap is able to use the parameter f even after escape_unicode has returned.\n",
    "\n",
    "Now that we have a decorator, create a function that will benefit from it:"
   ]
  },
  {
   "cell_type": "code",
   "execution_count": 5,
   "metadata": {},
   "outputs": [],
   "source": [
    "def northern_city():\n",
    "    return 'Tromsø'"
   ]
  },
  {
   "cell_type": "code",
   "execution_count": 6,
   "metadata": {},
   "outputs": [
    {
     "name": "stdout",
     "output_type": "stream",
     "text": "Tromsø\n"
    }
   ],
   "source": [
    "print(northern_city())"
   ]
  },
  {
   "cell_type": "markdown",
   "execution_count": null,
   "metadata": {},
   "outputs": [],
   "source": [
    "To add unicode escaping to the function, simply decorate northern_city with the escape_unicode decorator:"
   ]
  },
  {
   "cell_type": "code",
   "execution_count": 7,
   "metadata": {},
   "outputs": [],
   "source": [
    "@escape_unicode\n",
    "def northern_city():\n",
    "    return 'Tromsø'"
   ]
  },
  {
   "cell_type": "markdown",
   "execution_count": null,
   "metadata": {},
   "outputs": [],
   "source": [
    "Now when calling northern_city non-ASCII characters are converted to escape sequences"
   ]
  },
  {
   "cell_type": "code",
   "execution_count": 8,
   "metadata": {},
   "outputs": [
    {
     "name": "stdout",
     "output_type": "stream",
     "text": "'Troms\\xf8'\n"
    }
   ],
   "source": [
    "print(northern_city())"
   ]
  }
 ]
}