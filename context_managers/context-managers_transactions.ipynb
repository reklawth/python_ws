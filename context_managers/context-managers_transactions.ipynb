{
 "cells": [
  {
   "cell_type": "markdown",
   "metadata": {},
   "source": [
    "# Context managers for transactions"
   ]
  },
  {
   "cell_type": "markdown",
   "metadata": {},
   "source": [
    "Create a realistic example of a context manager.  This example will involve a `Connection` class which represents some sort of database connection, along with a `Transaction` class which manages transactions in the database.  Users of the system can creat `Connections` and then create `Transaction` objects to start transactions.  To commit or rollback transactions, users can call methods on the `Transaction` instances.\n",
    "\n",
    "`Connection` class:"
   ]
  },
  {
   "cell_type": "code",
   "execution_count": 6,
   "metadata": {},
   "outputs": [],
   "source": [
    "class Connection:\n",
    "    def __init__(self):\n",
    "        self.xid = 0\n",
    "\n",
    "    def _start_transaction(self):\n",
    "        print('starting transaction', self.xid)\n",
    "        rslt = self.xid\n",
    "        self.xid = self.xid + 1\n",
    "        return rslt\n",
    "\n",
    "    def _commit_transaction(self, xid):\n",
    "        print('committing transaction', xid)\n",
    "\n",
    "    def _rollback_transaction(self, xid):\n",
    "        print('rolling back transaction', xid)"
   ]
  },
  {
   "cell_type": "markdown",
   "metadata": {},
   "source": [
    "Note that the above does not do _real_ database work.  All that it really does is increment a transaction-id whenever a new transaction is started.  It also prints out what it is doing as transactions are processed.  Now for the `Transaction` class:"
   ]
  },
  {
   "cell_type": "code",
   "execution_count": 10,
   "metadata": {},
   "outputs": [],
   "source": [
    "class Transaction:\n",
    "    def __init__(self, conn):\n",
    "        self.conn = conn\n",
    "        self.xid = conn._start_transaction()\n",
    "\n",
    "    def commit(self):\n",
    "        self.conn._commit_transaction(self.xid)\n",
    "\n",
    "    def rollback(self):\n",
    "        self.conn._rollback_transaction(self.xid)"
   ]
  },
  {
   "cell_type": "markdown",
   "metadata": {},
   "source": [
    "The above queries the `Connection` for a new transaction-id and then calls into the `Connection` to commit or rollback transactions.  Below is how someone may use these classes without context-managers:"
   ]
  },
  {
   "cell_type": "code",
   "execution_count": 11,
   "metadata": {
    "tags": []
   },
   "outputs": [
    {
     "output_type": "stream",
     "name": "stdout",
     "text": "starting transaction 0\n"
    }
   ],
   "source": [
    "conn = Connection()\n",
    "xact = Transaction(conn)"
   ]
  },
  {
   "cell_type": "code",
   "execution_count": 12,
   "metadata": {
    "tags": []
   },
   "outputs": [
    {
     "output_type": "stream",
     "name": "stdout",
     "text": "committing transaction 0\n"
    }
   ],
   "source": [
    "xact.commit()"
   ]
  },
  {
   "cell_type": "markdown",
   "metadata": {},
   "source": [
    "Below is how it may look in a function:"
   ]
  },
  {
   "cell_type": "code",
   "execution_count": 13,
   "metadata": {},
   "outputs": [],
   "source": [
    "def some_important_operation(conn):\n",
    "    xact = Transaction(conn)\n",
    "    # Example of critical stuff:\n",
    "    # Creating lots of business-critical, high-value stuff here.\n",
    "    # These lines will probably open whole new markets.\n",
    "    # Also deliver hiterto unseen levels of shareholder value\n"
   ]
  },
  {
   "cell_type": "markdown",
   "metadata": {},
   "source": [
    "The above example is flawed because the transaction is never committed."
   ]
  }
 ],
 "metadata": {
  "language_info": {
   "codemirror_mode": {
    "name": "ipython",
    "version": 3
   },
   "file_extension": ".py",
   "mimetype": "text/x-python",
   "name": "python",
   "nbconvert_exporter": "python",
   "pygments_lexer": "ipython3",
   "version": "3.6.9-final"
  },
  "orig_nbformat": 2,
  "kernelspec": {
   "name": "python36964bit347f991c209d479fb0aaa0907fb23c61",
   "display_name": "Python 3.6.9 64-bit"
  }
 },
 "nbformat": 4,
 "nbformat_minor": 2
}