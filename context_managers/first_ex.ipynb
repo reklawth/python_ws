{
 "cells": [
  {
   "cell_type": "markdown",
   "metadata": {},
   "source": [
    "# First Simple Context Manager "
   ]
  },
  {
   "cell_type": "code",
   "execution_count": 1,
   "metadata": {},
   "outputs": [],
   "source": [
    "class LoggingContextManager:\n",
    "    def __enter__(self):\n",
    "        return self\n",
    "\n",
    "    def __exit__(self, exc_type, exc_val, exc_tb):\n",
    "        return"
   ]
  },
  {
   "cell_type": "markdown",
   "metadata": {},
   "source": [
    "The above context manager is simple, but not very functional."
   ]
  },
  {
   "cell_type": "code",
   "execution_count": 2,
   "metadata": {
    "tags": []
   },
   "outputs": [
    {
     "output_type": "stream",
     "name": "stdout",
     "text": "<__main__.LoggingContextManager object at 0x7fdbedb02780>\n"
    }
   ],
   "source": [
    "with LoggingContextManager() as x:\n",
    "    print(x)"
   ]
  },
  {
   "cell_type": "markdown",
   "metadata": {},
   "source": [
    "In the with-statement `x` is bound to `LoggingContextManager`.  Now the `__enter__()` method of the context manager will be updated to return something else:"
   ]
  },
  {
   "cell_type": "code",
   "execution_count": 4,
   "metadata": {},
   "outputs": [],
   "source": [
    "class LoggingContextManager:\n",
    "    def __enter__(self):\n",
    "        return \"You are in a with-block!\"\n",
    "\n",
    "    def __exit__(self, exc_type, exc_val, exc_tb):\n",
    "        return"
   ]
  },
  {
   "cell_type": "code",
   "execution_count": 5,
   "metadata": {
    "tags": []
   },
   "outputs": [
    {
     "output_type": "stream",
     "name": "stdout",
     "text": "You are in a with-block!\n"
    }
   ],
   "source": [
    "with LoggingContextManager() as x:\n",
    "    print(x)"
   ]
  },
  {
   "cell_type": "markdown",
   "metadata": {},
   "source": [
    "Now finish the context manager by having it log some text upon entry and exit:"
   ]
  },
  {
   "cell_type": "code",
   "execution_count": 6,
   "metadata": {},
   "outputs": [],
   "source": [
    "class LoggingContextManager:\n",
    "    def __enter__(self):\n",
    "        print('LoggingContextManager.__enter__()')\n",
    "        return \"You are in a with-block!\"\n",
    "\n",
    "    def __exit__(self, exc_type, exc_val, exc_tb):\n",
    "        print('LoggingContextManager.__exit__({}, {}, {})'.format(exc_type, exc_val, exc_tb))\n",
    "        return"
   ]
  },
  {
   "cell_type": "code",
   "execution_count": 7,
   "metadata": {
    "tags": []
   },
   "outputs": [
    {
     "output_type": "stream",
     "name": "stdout",
     "text": "LoggingContextManager.__enter__()\nYou are in a with-block!\nLoggingContextManager.__exit__(None, None, None)\n"
    }
   ],
   "source": [
    "with LoggingContextManager() as x:\n",
    "    print(x)"
   ]
  },
  {
   "cell_type": "markdown",
   "metadata": {},
   "source": [
    "Now raise an exception from the with-block and see that the `__exit__()` method is still called, this time with exception information:"
   ]
  },
  {
   "cell_type": "code",
   "execution_count": 8,
   "metadata": {
    "tags": []
   },
   "outputs": [
    {
     "output_type": "stream",
     "name": "stdout",
     "text": "LoggingContextManager.__enter__()\nLoggingContextManager.__exit__(<class 'ValueError'>, Something has gone wrong, <traceback object at 0x7fdbed34b408>)\n"
    },
    {
     "output_type": "error",
     "ename": "ValueError",
     "evalue": "Something has gone wrong",
     "traceback": [
      "\u001b[0;31m---------------------------------------------------------------------------\u001b[0m",
      "\u001b[0;31mValueError\u001b[0m                                Traceback (most recent call last)",
      "\u001b[0;32m<ipython-input-8-dbc4584bdf17>\u001b[0m in \u001b[0;36m<module>\u001b[0;34m\u001b[0m\n\u001b[1;32m      1\u001b[0m \u001b[0;32mwith\u001b[0m \u001b[0mLoggingContextManager\u001b[0m\u001b[0;34m(\u001b[0m\u001b[0;34m)\u001b[0m \u001b[0;32mas\u001b[0m \u001b[0mx\u001b[0m\u001b[0;34m:\u001b[0m\u001b[0;34m\u001b[0m\u001b[0;34m\u001b[0m\u001b[0m\n\u001b[0;32m----> 2\u001b[0;31m     \u001b[0;32mraise\u001b[0m \u001b[0mValueError\u001b[0m\u001b[0;34m(\u001b[0m\u001b[0;34m\"Something has gone wrong\"\u001b[0m\u001b[0;34m)\u001b[0m\u001b[0;34m\u001b[0m\u001b[0;34m\u001b[0m\u001b[0m\n\u001b[0m\u001b[1;32m      3\u001b[0m     \u001b[0mprint\u001b[0m\u001b[0;34m(\u001b[0m\u001b[0mx\u001b[0m\u001b[0;34m)\u001b[0m\u001b[0;34m\u001b[0m\u001b[0;34m\u001b[0m\u001b[0m\n",
      "\u001b[0;31mValueError\u001b[0m: Something has gone wrong"
     ]
    }
   ],
   "source": [
    "with LoggingContextManager() as x:\n",
    "    raise ValueError(\"Something has gone wrong\")\n",
    "    print(x)"
   ]
  },
  {
   "cell_type": "markdown",
   "metadata": {},
   "source": [
    "Output from the `__enter__()` method is visible, also output from the `__exit_()` method indicates that an exception occured."
   ]
  },
  {
   "cell_type": "markdown",
   "metadata": {},
   "source": [
    "## `__enter__()`"
   ]
  },
  {
   "cell_type": "markdown",
   "metadata": {},
   "source": [
    "The `__enter__()` method is called on the context-manager just before entering the with-block, and its return value is bound to the as-variable of the with-statement.\n",
    "\n",
    "`__enter__()` is allowed to return anything it wants, including `None`, and the with-statement itself does not ever access or use this value.  It is very common, however, for context-managers to simply return themselves from `__enter__()`. Consider statements below:"
   ]
  },
  {
   "cell_type": "code",
   "execution_count": 9,
   "metadata": {},
   "outputs": [],
   "source": [
    "with open('important_data.txt', 'wt') as f:\n",
    "    f.write('The secret password is 12345')"
   ]
  },
  {
   "cell_type": "code",
   "execution_count": 10,
   "metadata": {},
   "outputs": [],
   "source": [
    "with open('important_data.txt', 'r') as f:\n",
    "    data = f.read()"
   ]
  },
  {
   "cell_type": "markdown",
   "metadata": {},
   "source": [
    "In the above, `open()` returns a file object and `f` is expected to be bound to that file object, so the `__enter__()` method of the file must be returning the file object itself.  This can be verified by a simple experiment:"
   ]
  },
  {
   "cell_type": "code",
   "execution_count": 11,
   "metadata": {
    "tags": []
   },
   "outputs": [
    {
     "output_type": "stream",
     "name": "stdout",
     "text": "True\n"
    }
   ],
   "source": [
    "f = open('a_file', 'w')\n",
    "with f as g:\n",
    "    print(f is g)"
   ]
  },
  {
   "cell_type": "markdown",
   "metadata": {},
   "source": [
    "In the above, first a file is opened without using a with-statement, binding the file to the name 'f'.  Then use 'f' as a context-manager in a with-statement, binding the result of `__enter__()` to the name `g` and see that `f` and `g` are the same object."
   ]
  },
  {
   "cell_type": "markdown",
   "metadata": {},
   "source": [
    "## `__exit__()`"
   ]
  },
  {
   "cell_type": "markdown",
   "metadata": {},
   "source": [
    "Update `LoggingContextManger.__exit__()` to behave differently when an exception is raised:"
   ]
  },
  {
   "cell_type": "code",
   "execution_count": 1,
   "metadata": {},
   "outputs": [],
   "source": [
    "class LoggingContextManager:\n",
    "    def __enter__(self):\n",
    "        print('LoggingContextManager.__enter__()')\n",
    "        return \"You are in a with-block!\"\n",
    "\n",
    "    def __exit__(self, exc_type, exc_val, exc_tb):\n",
    "        if exc_type is None:\n",
    "            print('LoggingContextManager.__exit__: '\n",
    "                  'normal exit detected')\n",
    "        else:\n",
    "            print('LoggingContextManager.__exit__: '\n",
    "                  'Exception detected! '\n",
    "                  'type={}, value={}, traceback={}'.format(exc_type, exc_val, exc_tb))\n",
    "        return"
   ]
  },
  {
   "cell_type": "markdown",
   "metadata": {},
   "source": [
    "The above revision of the implementation of `__exit__()` first checks whether `type` is `None`.  If it is, then this means that no exception was raised and a simple message is printed.\n",
    "\n",
    "If `type` is no `None`, however, `__exit__()` prints a longer message that includes the exception information."
   ]
  },
  {
   "cell_type": "code",
   "execution_count": 3,
   "metadata": {
    "tags": []
   },
   "outputs": [
    {
     "output_type": "stream",
     "name": "stdout",
     "text": "LoggingContextManager.__enter__()\nLoggingContextManager.__exit__ normal exit detected\n"
    }
   ],
   "source": [
    "with LoggingContextManager():\n",
    "    pass"
   ]
  },
  {
   "cell_type": "markdown",
   "metadata": {},
   "source": [
    "The above output shows that normal exits are handled properly.  Now raise an exception from the with-block:"
   ]
  },
  {
   "cell_type": "code",
   "execution_count": 5,
   "metadata": {
    "tags": []
   },
   "outputs": [
    {
     "output_type": "stream",
     "name": "stdout",
     "text": "LoggingContextManager.__enter__()\nLoggingContextManager.__exit__: Exception detected! type=<class 'ValueError'>, value=Core meltdown imminent!, traceback=<traceback object at 0x7f8da744e7c8>\n"
    },
    {
     "output_type": "error",
     "ename": "ValueError",
     "evalue": "Core meltdown imminent!",
     "traceback": [
      "\u001b[0;31m---------------------------------------------------------------------------\u001b[0m",
      "\u001b[0;31mValueError\u001b[0m                                Traceback (most recent call last)",
      "\u001b[0;32m<ipython-input-5-46c4ab04d3f6>\u001b[0m in \u001b[0;36m<module>\u001b[0;34m\u001b[0m\n\u001b[1;32m      1\u001b[0m \u001b[0;32mwith\u001b[0m \u001b[0mLoggingContextManager\u001b[0m\u001b[0;34m(\u001b[0m\u001b[0;34m)\u001b[0m\u001b[0;34m:\u001b[0m\u001b[0;34m\u001b[0m\u001b[0;34m\u001b[0m\u001b[0m\n\u001b[0;32m----> 2\u001b[0;31m     \u001b[0;32mraise\u001b[0m \u001b[0mValueError\u001b[0m\u001b[0;34m(\u001b[0m\u001b[0;34m'Core meltdown imminent!'\u001b[0m\u001b[0;34m)\u001b[0m\u001b[0;34m\u001b[0m\u001b[0;34m\u001b[0m\u001b[0m\n\u001b[0m",
      "\u001b[0;31mValueError\u001b[0m: Core meltdown imminent!"
     ]
    }
   ],
   "source": [
    "with LoggingContextManager():\n",
    "    raise ValueError('Core meltdown imminent!')"
   ]
  },
  {
   "cell_type": "markdown",
   "metadata": {},
   "source": [
    "The above outpus shows that `LoggingContextManager` properly detects exceptions."
   ]
  },
  {
   "cell_type": "markdown",
   "metadata": {},
   "source": [
    "## Controlling exception propogation"
   ]
  },
  {
   "cell_type": "markdown",
   "metadata": {},
   "source": [
    "By default, when an exception is raised from a with-block, the `__exit__()` method of the context-manager is executed and afterward the originial exception is re-raised.  Consider the following example:"
   ]
  },
  {
   "cell_type": "code",
   "execution_count": 3,
   "metadata": {
    "tags": []
   },
   "outputs": [
    {
     "output_type": "stream",
     "name": "stdout",
     "text": "LoggingContextManager.__enter__()\nLoggingContextManager.__exit__: Exception detected! type=<class 'ValueError'>, value=The system is down!, traceback=<traceback object at 0x7fe6b2674588>\n*** ValueError detected ***\n"
    }
   ],
   "source": [
    "try:\n",
    "    with LoggingContextManager():\n",
    "        raise ValueError('The system is down!')\n",
    "except ValueError:\n",
    "    print('*** ValueError detected ***') "
   ]
  },
  {
   "cell_type": "markdown",
   "metadata": {},
   "source": [
    "In the above a with-statement is used inside a try-block a ValueError is caught which is then propogated out of the with-statement.  To control the proposation of exceptions out of with-statements `__exit__()` does the following:\n",
    "\n",
    "If `__exit__()` returns a vale which evaluates to `False` in a boolean context, then any exception that came out of the with-block will be re-raised after the `__exit__()` call.  In essence the with-statement is querying `__exit__()` to \"ask\" if the with-statement should suppress the exception.  If `__exit__()` returns `False`, then the with-statement re-raises the exception accordingly.  If `__exit__()` returns `True`, the the with-statement will exit normally, without raising the exception."
   ]
  }
 ],
 "metadata": {
  "language_info": {
   "codemirror_mode": {
    "name": "ipython",
    "version": 3
   },
   "file_extension": ".py",
   "mimetype": "text/x-python",
   "name": "python",
   "nbconvert_exporter": "python",
   "pygments_lexer": "ipython3",
   "version": "3.6.9-final"
  },
  "orig_nbformat": 2,
  "kernelspec": {
   "name": "python36864biteda7a6cd0ab44de38791a255296f192b",
   "display_name": "Python 3.6.8 64-bit"
  }
 },
 "nbformat": 4,
 "nbformat_minor": 2
}