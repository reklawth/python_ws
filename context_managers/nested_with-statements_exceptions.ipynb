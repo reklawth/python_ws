{
 "cells": [
  {
   "cell_type": "markdown",
   "metadata": {},
   "source": [
    "# Nested with-statements & exceptions"
   ]
  },
  {
   "cell_type": "markdown",
   "metadata": {},
   "source": [
    "Any exception propagated from inner context-managers will be seen by outer context-managers.  Likewise if an inner context-manager swallows an exception, then it will not be seen by other ones.  Illustrate by creating a simple context manager that can be configured to either propagate or swallow exceptions:"
   ]
  },
  {
   "cell_type": "code",
   "execution_count": 1,
   "metadata": {},
   "outputs": [],
   "source": [
    "import contextlib\n",
    "\n",
    "@contextlib.contextmanager\n",
    "def propagater(name, propagate):\n",
    "    try:\n",
    "        yield\n",
    "        print(name, 'exited normally.')\n",
    "    except Exception:\n",
    "        print(name, 'received an exception!')\n",
    "        if propagate:\n",
    "            raise"
   ]
  },
  {
   "cell_type": "markdown",
   "metadata": {},
   "source": [
    "IN the above, if the `propagate` argument to `propagater` is `True`, it will propagate any exceptions that come from the body nested beneath it.  Otherwise, it will swallow those exceptions.\n",
    "\n",
    "See how an inner context-manager can swallow exceptions so that an outer one never sees them:"
   ]
  },
  {
   "cell_type": "code",
   "execution_count": 2,
   "metadata": {
    "tags": []
   },
   "outputs": [
    {
     "output_type": "stream",
     "name": "stdout",
     "text": "inner received an exception!\nouter exited normally.\n"
    }
   ],
   "source": [
    "with propagater('outer', True), propagater('inner', False):\n",
    "    raise TypeError('Cannot convert lead into gold.')"
   ]
  },
  {
   "cell_type": "markdown",
   "metadata": {},
   "source": [
    "Likewise, the inner one can propagate them while the outer one swallows them:"
   ]
  },
  {
   "cell_type": "code",
   "execution_count": 3,
   "metadata": {
    "tags": []
   },
   "outputs": [
    {
     "output_type": "stream",
     "name": "stdout",
     "text": "inner received an exception!\nouter received an exception!\n"
    }
   ],
   "source": [
    "with propagater('outer', False), propagater('inner', True):\n",
    "    raise TypeError('Cannot convert lead into gold.')"
   ]
  },
  {
   "cell_type": "markdown",
   "metadata": {},
   "source": [
    "Since there is no report of an exception in this case, be assured that no exception escaped the with-statement."
   ]
  }
 ],
 "metadata": {
  "language_info": {
   "codemirror_mode": {
    "name": "ipython",
    "version": 3
   },
   "file_extension": ".py",
   "mimetype": "text/x-python",
   "name": "python",
   "nbconvert_exporter": "python",
   "pygments_lexer": "ipython3",
   "version": "3.6.9-final"
  },
  "orig_nbformat": 2,
  "kernelspec": {
   "name": "python36964bit347f991c209d479fb0aaa0907fb23c61",
   "display_name": "Python 3.6.9 64-bit"
  }
 },
 "nbformat": 4,
 "nbformat_minor": 2
}