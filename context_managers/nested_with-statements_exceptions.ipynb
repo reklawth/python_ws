{
 "cells": [
  {
   "cell_type": "markdown",
   "metadata": {},
   "source": [
    "# Nested with-statements & exceptions"
   ]
  },
  {
   "cell_type": "markdown",
   "metadata": {},
   "source": [
    "Any exception propagated from inner context-managers will be seen by outer context-managers.  Likewise if an inner context-manager swallows an exception, then it will not be seen by other ones.  Illustrate by creating a simple context manager that can be configured to either propagate or swallow exceptions:"
   ]
  },
  {
   "cell_type": "code",
   "execution_count": null,
   "metadata": {},
   "outputs": [],
   "source": [
    "import contextlib\n",
    "\n",
    "@contextlib.contextmanager\n",
    "def propagater(name, propagate):\n",
    "    try:\n",
    "        yield\n",
    "        print(name, 'exited normally.')\n",
    "    except Exception:\n",
    "        print(name, 'received an exception!')\n",
    "        if propagate:\n",
    "            raise"
   ]
  },
  {
   "cell_type": "markdown",
   "metadata": {},
   "source": [
    "IN the above, if the `propagate` argument to `propagater` is `True`, it will propagate any exceptions that come from the body nested beneath it.  Otherwise, it will swallow those exceptions.\n",
    "\n",
    "See how an inner context-manager can swallow exceptions so that an outer one never sees them:"
   ]
  },
  {
   "cell_type": "code",
   "execution_count": null,
   "metadata": {
    "tags": []
   },
   "outputs": [],
   "source": [
    "with propagater('outer', True), propagater('inner', False):\n",
    "    raise TypeError('Cannot convert lead into gold.')"
   ]
  },
  {
   "cell_type": "markdown",
   "metadata": {},
   "source": [
    "Likewise, the inner one can propagate them while the outer one swallows them:"
   ]
  },
  {
   "cell_type": "code",
   "execution_count": null,
   "metadata": {
    "tags": []
   },
   "outputs": [],
   "source": [
    "with propagater('outer', False), propagater('inner', True):\n",
    "    raise TypeError('Cannot convert lead into gold.')"
   ]
  },
  {
   "cell_type": "markdown",
   "metadata": {},
   "source": [
    "Since there is no report of an exception in this case, be assured that no exception escaped the with-statement."
   ]
  },
  {
   "cell_type": "markdown",
   "metadata": {},
   "source": [
    "## Do not pass a collection!"
   ]
  },
  {
   "cell_type": "markdown",
   "metadata": {},
   "source": [
    "When using multiple context-managers with a single with-statment do not try to use a tuple or some other sequence of context-managers. This could result in a mysterious error message:"
   ]
  },
  {
   "cell_type": "code",
   "execution_count": null,
   "metadata": {},
   "outputs": [],
   "source": [
    "import contextlib\n",
    "\n",
    "@contextlib.contextmanager\n",
    "def nest_test(name):\n",
    "    print('Entering', name)\n",
    "    yield\n",
    "    print('Exiting', name) "
   ]
  },
  {
   "cell_type": "code",
   "execution_count": null,
   "metadata": {
    "tags": []
   },
   "outputs": [],
   "source": [
    "with nest_test('outer'), nest_test('inner'):\n",
    "    print('BODY')"
   ]
  },
  {
   "cell_type": "code",
   "execution_count": null,
   "metadata": {},
   "outputs": [],
   "source": [
    "with(nest_test('a'), \n",
    "     nest_test('b')):\n",
    "    pass"
   ]
  },
  {
   "cell_type": "markdown",
   "metadata": {},
   "source": [
    "While the above errors seems to stat that the context-manager is missing an attribute, that is not the case.  The problem is that there is an attempt to pass a _tuple_ to the with-statement as a context-manager.  The with-statement does not try to unpack sequences; it simply tries to use what it is passed as a context-manager.  So the with-statement is looking for `__enter__()` on a tuple that it is getting passed, of course it fails with an `AttributeError` since tuples do not support the context manager protocol.  To remedy remove the parentheses and put everything back on one line:"
   ]
  },
  {
   "cell_type": "code",
   "execution_count": null,
   "metadata": {
    "tags": []
   },
   "outputs": [],
   "source": [
    "with nest_test('a'), nest_test('b'):\n",
    "    pass"
   ]
  },
  {
   "cell_type": "markdown",
   "metadata": {},
   "source": [
    "If there are several context-managers that need to be split over several lines, a line-continuation backslash must be used to put the statements on one _logical_ split over multiple _physical_ lines.  Example:"
   ]
  },
  {
   "cell_type": "code",
   "execution_count": null,
   "metadata": {
    "tags": []
   },
   "outputs": [],
   "source": [
    "with nest_test('a'), \\\n",
    "     nest_test('b'), \\\n",
    "     nest_test('c'):\n",
    "    pass"
   ]
  }
 ],
 "metadata": {
  "language_info": {
   "codemirror_mode": {
    "name": "ipython",
    "version": 3
   },
   "file_extension": ".py",
   "mimetype": "text/x-python",
   "name": "python",
   "nbconvert_exporter": "python",
   "pygments_lexer": "ipython3",
   "version": "3.6.9-final"
  },
  "orig_nbformat": 2,
  "kernelspec": {
   "name": "python36964bit347f991c209d479fb0aaa0907fb23c61",
   "display_name": "Python 3.6.9 64-bit"
  }
 },
 "nbformat": 4,
 "nbformat_minor": 2
}