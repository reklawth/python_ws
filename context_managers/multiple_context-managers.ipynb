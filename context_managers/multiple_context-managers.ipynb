{
 "cells": [
  {
   "cell_type": "markdown",
   "metadata": {},
   "source": [
    "# Multiple context-managers in a with-statement"
   ]
  },
  {
   "cell_type": "markdown",
   "metadata": {},
   "source": [
    "Define a simple context-manager to test out optional variable binding:"
   ]
  },
  {
   "cell_type": "code",
   "execution_count": 1,
   "metadata": {},
   "outputs": [],
   "source": [
    "import contextlib\n",
    "\n",
    "@contextlib.contextmanager\n",
    "def nest_test(name):\n",
    "    print('Entereing', name)\n",
    "    yield\n",
    "    print('Exiting', name)"
   ]
  },
  {
   "cell_type": "markdown",
   "metadata": {},
   "source": [
    "Passs two of these to a single with-statement:"
   ]
  },
  {
   "cell_type": "code",
   "execution_count": 2,
   "metadata": {
    "tags": []
   },
   "outputs": [
    {
     "output_type": "stream",
     "name": "stdout",
     "text": "Entereing outer\nEntereing inner\nBODY\nExiting inner\nExiting outer\n"
    }
   ],
   "source": [
    "with nest_test('outer'), nest_test('inner'):\n",
    "    print('BODY')"
   ]
  },
  {
   "cell_type": "markdown",
   "metadata": {},
   "source": [
    "This gives the same results as a nested form:"
   ]
  },
  {
   "cell_type": "code",
   "execution_count": 3,
   "metadata": {
    "tags": []
   },
   "outputs": [
    {
     "output_type": "stream",
     "name": "stdout",
     "text": "Entereing outer\nEntereing inner\nBODY\nExiting inner\nExiting outer\n"
    }
   ],
   "source": [
    "with nest_test('outer'):\n",
    "    with nest_test('inner'):\n",
    "            print('BODY')"
   ]
  },
  {
   "cell_type": "markdown",
   "metadata": {},
   "source": [
    "Later context-managers are simply part of the body of their with-block as far as earlier-context managers are concerned.  In fact, names bound in an as-clause in earlier parts of the with-statement can be used when defining later context-managers.  Now modify nest_test to yield a value:"
   ]
  },
  {
   "cell_type": "code",
   "execution_count": 4,
   "metadata": {},
   "outputs": [],
   "source": [
    "import contextlib\n",
    "\n",
    "@contextlib.contextmanager\n",
    "def nest_test(name):\n",
    "    print('Entereing', name)\n",
    "    yield name\n",
    "    print('Exiting', name)"
   ]
  },
  {
   "cell_type": "markdown",
   "metadata": {},
   "source": [
    "Use that yielded value (name) when constructing the second context-manager:"
   ]
  },
  {
   "cell_type": "code",
   "execution_count": 5,
   "metadata": {
    "tags": []
   },
   "outputs": [
    {
     "output_type": "stream",
     "name": "stdout",
     "text": "Entereing outer\nEntereing inner, nested in outer\nBODY\nExiting inner, nested in outer\nExiting outer\n"
    }
   ],
   "source": [
    "with nest_test('outer') as n1, nest_test('inner, nested in ' + n1):\n",
    "    print('BODY')"
   ]
  },
  {
   "cell_type": "markdown",
   "metadata": {},
   "source": [
    "This is hte behavior expected when using nested-with statements."
   ]
  }
 ],
 "metadata": {
  "language_info": {
   "codemirror_mode": {
    "name": "ipython",
    "version": 3
   },
   "file_extension": ".py",
   "mimetype": "text/x-python",
   "name": "python",
   "nbconvert_exporter": "python",
   "pygments_lexer": "ipython3",
   "version": "3.6.9-final"
  },
  "orig_nbformat": 2,
  "kernelspec": {
   "name": "python36864biteda7a6cd0ab44de38791a255296f192b",
   "display_name": "Python 3.6.8 64-bit"
  }
 },
 "nbformat": 4,
 "nbformat_minor": 2
}