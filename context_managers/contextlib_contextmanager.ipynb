{
 "cells": [
  {
   "cell_type": "markdown",
   "metadata": {},
   "source": [
    "# `contextlib.contextmanager`"
   ]
  },
  {
   "cell_type": "markdown",
   "metadata": {},
   "source": [
    "Rewrite the old `LoggingContextManager` using `contextmanager`:"
   ]
  },
  {
   "cell_type": "code",
   "execution_count": null,
   "metadata": {},
   "outputs": [],
   "source": [
    "import contextlib\n",
    "import sys"
   ]
  },
  {
   "cell_type": "code",
   "execution_count": null,
   "metadata": {},
   "outputs": [],
   "source": [
    "@contextlib.contextmanager\n",
    "def logging_context_manager():\n",
    "    print('logging_context_manager: enter')\n",
    "    try:\n",
    "        yield \"You are in a with block!\"\n",
    "        print('logging_context_manager: normal exit')\n",
    "    except Exception:\n",
    "        print('logging_context_manager: exceptional exit', sys.exc_info())"
   ]
  },
  {
   "cell_type": "markdown",
   "metadata": {},
   "source": [
    "Now see if it works:"
   ]
  },
  {
   "cell_type": "code",
   "execution_count": null,
   "metadata": {
    "tags": []
   },
   "outputs": [],
   "source": [
    "with logging_context_manager() as x:\n",
    "    print(x)"
   ]
  },
  {
   "cell_type": "markdown",
   "metadata": {},
   "source": [
    "The above looks good for the case of a normal exit, so how about an exceptional exit:"
   ]
  },
  {
   "cell_type": "code",
   "execution_count": null,
   "metadata": {
    "tags": []
   },
   "outputs": [],
   "source": [
    "with logging_context_manager() as x:\n",
    "        raise ValueError('Something went wrong!')"
   ]
  },
  {
   "cell_type": "markdown",
   "metadata": {},
   "source": [
    "The new context-manager works!"
   ]
  },
  {
   "cell_type": "markdown",
   "metadata": {},
   "source": [
    "##  `contextmanager` and exception propagation"
   ]
  },
  {
   "cell_type": "markdown",
   "metadata": {},
   "source": [
    "Notice that the new context-manager did not propagate the `ValueError` after it completed.  Unlike standard context-managers, those created with the `contextmanager` decorator must use normal exception handling to determine if exceptions are propagated from the with-statement.\n",
    "\n",
    "If the context-manager function propagates the exception, either via re-raising it or by simply not catching it at all, then the exception will propagate out of with-statement.\n",
    "\n",
    "If the context-manager catches and does not re-raise an exception from the with-block, then the exception will not be propagated out of the with-statement.\n",
    "\n",
    "In the above example a `ValueError` was caught and information was printed about it.  Since it was not re-raised, the `ValueError` was not propagated out of the context-manager, and thus it was not propagated out of the with-statement.\n",
    "\n",
    "To make this point explici, update the new context-manager to propagate exceptions.  Simply add a bare `raise` call after logging the exception:"
   ]
  },
  {
   "cell_type": "code",
   "execution_count": null,
   "metadata": {},
   "outputs": [],
   "source": [
    "@contextlib.contextmanager\n",
    "def logging_context_manager():\n",
    "    print('logging_context_manager: enter')\n",
    "    try:\n",
    "        yield \"You are in a with block!\"\n",
    "        print('logging_context_manager: normal exit')\n",
    "    except Exception:\n",
    "        print('logging_context_manager: exceptional exit', sys.exc_info())\n",
    "        raise"
   ]
  },
  {
   "cell_type": "markdown",
   "metadata": {},
   "source": [
    "This works as expected since the `ValueError` is propagated to the REPL:"
   ]
  },
  {
   "cell_type": "code",
   "execution_count": null,
   "metadata": {
    "tags": []
   },
   "outputs": [],
   "source": [
    "with logging_context_manager() as x:\n",
    "        raise ValueError('Something went wrong!')"
   ]
  },
  {
   "cell_type": "markdown",
   "metadata": {},
   "source": [
    "`contextlib.contextmanager` is a very useful tool, and it certainly eases the creation of context managers in many cases.  It is good to know how to create context-managers using the lower-level protocols."
   ]
  }
 ],
 "metadata": {
  "language_info": {
   "codemirror_mode": {
    "name": "ipython",
    "version": 3
   },
   "file_extension": ".py",
   "mimetype": "text/x-python",
   "name": "python",
   "nbconvert_exporter": "python",
   "pygments_lexer": "ipython3",
   "version": "3.6.9-final"
  },
  "orig_nbformat": 2,
  "kernelspec": {
   "name": "python36864biteda7a6cd0ab44de38791a255296f192b",
   "display_name": "Python 3.6.8 64-bit"
  }
 },
 "nbformat": 4,
 "nbformat_minor": 2
}