{
 "cells": [
  {
   "cell_type": "markdown",
   "metadata": {},
   "source": [
    "## map()"
   ]
  },
  {
   "cell_type": "markdown",
   "metadata": {},
   "source": [
    "To find the Unicode codepoint for each character in a string, the map() expression would look like:"
   ]
  },
  {
   "cell_type": "code",
   "execution_count": 1,
   "metadata": {},
   "outputs": [
    {
     "output_type": "execute_result",
     "data": {
      "text/plain": "<map at 0x7fec734552b0>"
     },
     "metadata": {},
     "execution_count": 1
    }
   ],
   "source": [
    "map(ord, 'The quick brown fox')"
   ]
  },
  {
   "cell_type": "markdown",
   "metadata": {},
   "source": [
    "The above statement basically sates that for every element in the string, call the function ord() with that element as an argument.  Generate a new sequence comprising the return values of ord(), in the same order as the input sequence.  However, rather than return a list, the statment produces a map object.  The map() function perfroms lazy evaluation, meaning that it does not produce any output until it is needed."
   ]
  },
  {
   "cell_type": "markdown",
   "metadata": {},
   "source": [
    "map() is typically referred to as a function, however it is in fact a class.  So when map() is called, a function is not called, but rather an instance of map is constructed.  Example:"
   ]
  },
  {
   "cell_type": "code",
   "execution_count": 2,
   "metadata": {},
   "outputs": [
    {
     "output_type": "execute_result",
     "data": {
      "text/plain": "map"
     },
     "metadata": {},
     "execution_count": 2
    }
   ],
   "source": [
    "map"
   ]
  },
  {
   "cell_type": "code",
   "execution_count": 3,
   "metadata": {},
   "outputs": [],
   "source": [
    "m = map(ord, 'turtles all the way down')"
   ]
  },
  {
   "cell_type": "code",
   "execution_count": 4,
   "metadata": {},
   "outputs": [
    {
     "output_type": "execute_result",
     "data": {
      "text/plain": "True"
     },
     "metadata": {},
     "execution_count": 4
    }
   ],
   "source": [
    "isinstance(m, map)"
   ]
  },
  {
   "cell_type": "code",
   "execution_count": 5,
   "metadata": {},
   "outputs": [],
   "source": [
    "class Trace:\n",
    "    def __init__(self):\n",
    "        self.enabled = True\n",
    "\n",
    "    def __call__(self, f):\n",
    "        def wrap(*args, **kwargs):\n",
    "            if self.enabled:\n",
    "                print('Calling{}'.format(f))\n",
    "            return f(*args, **kwargs)\n",
    "        return wrap"
   ]
  },
  {
   "cell_type": "markdown",
   "metadata": {},
   "source": [
    "We can call a Trace instance to get a callable that does tracing for us.  Here is how to use Trace to invoke the ord function as we map over a string:"
   ]
  },
  {
   "cell_type": "code",
   "execution_count": 6,
   "metadata": {},
   "outputs": [],
   "source": [
    "result = map(Trace() (ord), 'The quick brown fox')"
   ]
  },
  {
   "cell_type": "code",
   "execution_count": 7,
   "metadata": {},
   "outputs": [
    {
     "output_type": "execute_result",
     "data": {
      "text/plain": "<map at 0x7fec739b9470>"
     },
     "metadata": {},
     "execution_count": 7
    }
   ],
   "source": [
    "result"
   ]
  },
  {
   "cell_type": "markdown",
   "metadata": {},
   "source": [
    "The function returned by Trace.__call__() will print a bit of text each time it is called so we can see how map() works.  It is not until we start to iterate over result that we see the function executed:"
   ]
  },
  {
   "cell_type": "code",
   "execution_count": 11,
   "metadata": {},
   "outputs": [
    {
     "output_type": "stream",
     "name": "stdout",
     "text": "Calling<built-in function ord>\n"
    },
    {
     "output_type": "execute_result",
     "data": {
      "text/plain": "32"
     },
     "metadata": {},
     "execution_count": 11
    }
   ],
   "source": [
    "next(result)"
   ]
  },
  {
   "cell_type": "markdown",
   "metadata": {},
   "source": [
    "In the preceeding we are manually iterating over the map object returned by map().  Commonly you will not manually drive the map obect, but you will iterate ovver it using some higher-level method.  For example use the list() constructor to read all of the elements produced by map():"
   ]
  },
  {
   "cell_type": "code",
   "execution_count": 12,
   "metadata": {},
   "outputs": [
    {
     "output_type": "execute_result",
     "data": {
      "text/plain": "[84,\n 104,\n 101,\n 32,\n 113,\n 117,\n 105,\n 99,\n 107,\n 32,\n 98,\n 114,\n 111,\n 119,\n 110,\n 32,\n 102,\n 111,\n 120]"
     },
     "metadata": {},
     "execution_count": 12
    }
   ],
   "source": [
    "list(map(ord, 'The quick brown fox'))"
   ]
  },
  {
   "cell_type": "markdown",
   "metadata": {},
   "source": [
    "Or use a for-loop:"
   ]
  },
  {
   "cell_type": "code",
   "execution_count": 13,
   "metadata": {},
   "outputs": [
    {
     "output_type": "stream",
     "name": "stdout",
     "text": "84\n104\n101\n32\n113\n117\n105\n99\n107\n32\n98\n114\n111\n119\n110\n32\n102\n111\n120\n"
    }
   ],
   "source": [
    "for o in map(ord, 'The quick brown fox'):\n",
    "    print(o)\n",
    "    "
   ]
  },
  {
   "cell_type": "markdown",
   "metadata": {},
   "source": [
    "The lazy evaluation of map() requires you to iterate over its return value in order to actually produce the input sequence.  Until you access the values in the sequence, they are not evaluated."
   ]
  }
 ],
 "metadata": {
  "language_info": {
   "codemirror_mode": {
    "name": "ipython",
    "version": 3
   },
   "file_extension": ".py",
   "mimetype": "text/x-python",
   "name": "python",
   "nbconvert_exporter": "python",
   "pygments_lexer": "ipython3",
   "version": "3.6.9-final"
  },
  "orig_nbformat": 2,
  "kernelspec": {
   "name": "python36964bit347f991c209d479fb0aaa0907fb23c61",
   "display_name": "Python 3.6.9 64-bit"
  }
 },
 "nbformat": 4,
 "nbformat_minor": 2
}