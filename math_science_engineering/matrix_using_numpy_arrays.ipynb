{
 "metadata": {
  "language_info": {
   "codemirror_mode": {
    "name": "ipython",
    "version": 3
   },
   "file_extension": ".py",
   "mimetype": "text/x-python",
   "name": "python",
   "nbconvert_exporter": "python",
   "pygments_lexer": "ipython3",
   "version": "3.8.5-final"
  },
  "orig_nbformat": 2,
  "kernelspec": {
   "name": "Python 3.8.5 64-bit",
   "display_name": "Python 3.8.5 64-bit",
   "metadata": {
    "interpreter": {
     "hash": "31f2aee4e71d21fbe5cf8b01ff0e069b9275f58929596ceb00d14d90e3e16cd6"
    }
   }
  }
 },
 "nbformat": 4,
 "nbformat_minor": 2,
 "cells": [
  {
   "source": [
    "# Creating a Matrix Using NumPy Arrays "
   ],
   "cell_type": "markdown",
   "metadata": {}
  },
  {
   "source": [
    "We are writing a small script that can calculate the revenue numbers for a chain of stores in our local area. Each store sells the same 4 products at the same price. We keep track of the number of sales of each product from each store, and we would like to use those sales numbers to calculate the total revenue of the business for the month. Thankfully, we can use multi-dimensional arrays and matrices to calculate our values.\n",
    "\n",
    "Here are the four products and the number of sales for each:\n",
    "<table> <thead> <tr> <td>Store Name</td> <td>Pen</td> <td>Notebook</td> <td>Stapler</td> <td>Backpack</td> </tr> </thead> <tbody> <tr> <td>North Store</td> <td>14</td> <td>12</td> <td>3</td> <td>20</td> </tr> <tr> <td>East Store</td> <td>9</td> <td>5</td> <td>23</td> <td>10</td> </tr> <tr> <td>South Store</td> <td>60</td> <td>42</td> <td>36</td> <td>90</td> </tr> <tr> <td>West Store</td> <td>23</td> <td>28</td> <td>91</td> <td>73</td> </tr> </tbody> </table>\n",
    "\n",
    "Here are the prices for each item that is sold in the stores:\n",
    "<table> <thead> <tr> <td>Item Name</td> <td>Item Price</td> </tr> </thead> <tbody> <tr> <td>Pen</td> <td>1.50</td> </tr> <tr> <td>Notebook</td> <td>4.25</td> </tr> <tr> <td>Stapler</td> <td>6.00</td> </tr> <tr> <td>Backpack</td> <td>25.99</td> </tr> </tbody> </table>"
   ],
   "cell_type": "markdown",
   "metadata": {}
  },
  {
   "source": [
    "## Creating NumPy Arrays for Each Store's Sales and Item Prices"
   ],
   "cell_type": "markdown",
   "metadata": {}
  },
  {
   "source": [
    "Since we have the sales numbers for each item from each store, we can create an array for each store's sales that can later be used to make calculations. We need to make sure that we're putting the sales numbers for each item in the same position for each of our stores' arrays. Create a 4 item array for each store, placing the number of sales for each item in the order of pens, notebooks, staplers, and backpacks."
   ],
   "cell_type": "markdown",
   "metadata": {}
  },
  {
   "cell_type": "code",
   "execution_count": 1,
   "metadata": {},
   "outputs": [],
   "source": [
    "import numpy as np"
   ]
  },
  {
   "cell_type": "code",
   "execution_count": 3,
   "metadata": {},
   "outputs": [],
   "source": [
    "# Item Positions: Pen, Notebook, Stapler, Backpack\n",
    "north_sales = np.array([14, 12, 3, 20])\n",
    "east_sales = np.array([9, 5, 23, 10])\n",
    "south_sales = np.array([60, 42, 36, 90])\n",
    "west_sales = np.array([23, 28, 91, 73])"
   ]
  },
  {
   "cell_type": "code",
   "execution_count": 4,
   "metadata": {},
   "outputs": [],
   "source": [
    "sales = np.vstack((\n",
    "    north_sales,\n",
    "    east_sales,\n",
    "    south_sales,\n",
    "    west_sales\n",
    "))"
   ]
  },
  {
   "source": [
    "## Create the Sales and Prices Matrix"
   ],
   "cell_type": "markdown",
   "metadata": {}
  },
  {
   "source": [
    "Because we have 4 different items, each stores' sales are stored as a 4 item, one-dimensional array, or a 1x4 matrix. We can use matrix multiplication to calculate the revenue for a store by multiplying that array with a 4x1 matrix where each row is the price for the corresponding column item in the sales arrays. Combine all of our sales variables into a single 4x4 matrix so that we can calculate the revenue for all of the stores at the same time, and create a 4x1 prices matrix that has the prices list from top to bottom for pen, notebook, stapler, and backpack."
   ],
   "cell_type": "markdown",
   "metadata": {}
  },
  {
   "cell_type": "code",
   "execution_count": 5,
   "metadata": {},
   "outputs": [],
   "source": [
    "prices = np.array([\n",
    "    [1.5],\n",
    "    [4.25],\n",
    "    [6.0],\n",
    "    [25.99],\n",
    "])"
   ]
  },
  {
   "source": [
    "## Calculate Store Revenues and Total Revenue"
   ],
   "cell_type": "markdown",
   "metadata": {}
  },
  {
   "source": [
    "Calculate the dot product of these two matrices to get the revenue for each store and then utilize those values to calculate the total revenue."
   ],
   "cell_type": "markdown",
   "metadata": {}
  },
  {
   "cell_type": "code",
   "execution_count": 7,
   "metadata": {},
   "outputs": [
    {
     "output_type": "stream",
     "name": "stdout",
     "text": [
      "Revenues: [[ 609.8 ]\n [ 432.65]\n [2823.6 ]\n [2596.77]]\nTotal Revenue: [6462.82]\n"
     ]
    }
   ],
   "source": [
    "revenues = sales @ prices\n",
    "print(f\"Revenues: {revenues}\")\n",
    "print(f\"Total Revenue: {sum(revenues)}\")"
   ]
  }
 ]
}