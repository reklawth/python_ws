{
 "metadata": {
  "language_info": {
   "codemirror_mode": {
    "name": "ipython",
    "version": 3
   },
   "file_extension": ".py",
   "mimetype": "text/x-python",
   "name": "python",
   "nbconvert_exporter": "python",
   "pygments_lexer": "ipython3",
   "version": "3.8.5-final"
  },
  "orig_nbformat": 2,
  "kernelspec": {
   "name": "Python 3.8.5 64-bit",
   "display_name": "Python 3.8.5 64-bit",
   "metadata": {
    "interpreter": {
     "hash": "31f2aee4e71d21fbe5cf8b01ff0e069b9275f58929596ceb00d14d90e3e16cd6"
    }
   }
  }
 },
 "nbformat": 4,
 "nbformat_minor": 2,
 "cells": [
  {
   "source": [
    "## One dimensional array of `int`"
   ],
   "cell_type": "markdown",
   "metadata": {}
  },
  {
   "cell_type": "code",
   "execution_count": 1,
   "metadata": {},
   "outputs": [],
   "source": [
    "import numpy as np"
   ]
  },
  {
   "cell_type": "code",
   "execution_count": 2,
   "metadata": {},
   "outputs": [
    {
     "output_type": "execute_result",
     "data": {
      "text/plain": [
       "array([0, 1, 2, 3, 4, 5, 6, 7, 8, 9])"
      ]
     },
     "metadata": {},
     "execution_count": 2
    }
   ],
   "source": [
    "simple_array = np.arange(10)\n",
    "simple_array"
   ]
  },
  {
   "source": [
    "> Note: An array can only have one type of data in it."
   ],
   "cell_type": "markdown",
   "metadata": {}
  },
  {
   "cell_type": "code",
   "execution_count": 4,
   "metadata": {},
   "outputs": [
    {
     "output_type": "execute_result",
     "data": {
      "text/plain": [
       "array([0., 1., 2., 3., 4., 5., 6., 7., 8., 9.])"
      ]
     },
     "metadata": {},
     "execution_count": 4
    }
   ],
   "source": [
    "float_array = np.arange(10, dtype=float)\n",
    "float_array"
   ]
  },
  {
   "cell_type": "code",
   "execution_count": 5,
   "metadata": {},
   "outputs": [
    {
     "output_type": "execute_result",
     "data": {
      "text/plain": [
       "dtype('float64')"
      ]
     },
     "metadata": {},
     "execution_count": 5
    }
   ],
   "source": [
    "float_array.dtype"
   ]
  },
  {
   "cell_type": "code",
   "execution_count": 7,
   "metadata": {},
   "outputs": [
    {
     "output_type": "execute_result",
     "data": {
      "text/plain": [
       "array([0.+0.j, 1.+0.j, 2.+0.j, 3.+0.j, 4.+0.j, 5.+0.j, 6.+0.j, 7.+0.j,\n",
       "       8.+0.j, 9.+0.j])"
      ]
     },
     "metadata": {},
     "execution_count": 7
    }
   ],
   "source": [
    "complex_array = float_array.astype(complex)\n",
    "complex_array"
   ]
  },
  {
   "source": [
    "### Generating a List of numbers Using For Loop"
   ],
   "cell_type": "markdown",
   "metadata": {}
  },
  {
   "source": [
    "Use the `randint()` method along with a for loop to generate a list of numbers. First create an empty list and then append the random numbers generated to the empty list one by one."
   ],
   "cell_type": "markdown",
   "metadata": {}
  },
  {
   "cell_type": "code",
   "execution_count": 10,
   "metadata": {},
   "outputs": [
    {
     "output_type": "stream",
     "name": "stdout",
     "text": [
      "[61, 642, 45, 676, 1065, 368, 827, 560, 135, 315, 749, 720, 719, 418, 872, 748, 1071, 1029, 916, 458, 384, 152, 670, 1004, 963, 588, 875, 764, 610, 365]\n"
     ]
    }
   ],
   "source": [
    "import random\n",
    "intlist = []\n",
    "for i in range(0,30):\n",
    "    n = random.randint(1,1200)\n",
    "    intlist.append(n)\n",
    "print(intlist)"
   ]
  },
  {
   "cell_type": "code",
   "execution_count": 12,
   "metadata": {},
   "outputs": [
    {
     "output_type": "execute_result",
     "data": {
      "text/plain": [
       "array([  61,  642,   45,  676, 1065,  368,  827,  560,  135,  315,  749,\n",
       "        720,  719,  418,  872,  748, 1071, 1029,  916,  458,  384,  152,\n",
       "        670, 1004,  963,  588,  875,  764,  610,  365])"
      ]
     },
     "metadata": {},
     "execution_count": 12
    }
   ],
   "source": [
    "int_array = np.array(intlist)\n",
    "int_array"
   ]
  },
  {
   "cell_type": "code",
   "execution_count": 13,
   "metadata": {},
   "outputs": [
    {
     "output_type": "execute_result",
     "data": {
      "text/plain": [
       "dtype('int64')"
      ]
     },
     "metadata": {},
     "execution_count": 13
    }
   ],
   "source": [
    "int_array.dtype"
   ]
  },
  {
   "source": [
    "### Create an array from a file"
   ],
   "cell_type": "markdown",
   "metadata": {}
  },
  {
   "cell_type": "code",
   "execution_count": 14,
   "metadata": {},
   "outputs": [],
   "source": [
    "scores_array = np.genfromtxt('scores.csv', delimiter=',', dtype=int)"
   ]
  },
  {
   "cell_type": "code",
   "execution_count": 15,
   "metadata": {},
   "outputs": [
    {
     "output_type": "execute_result",
     "data": {
      "text/plain": [
       "array([1297,  603, 1071,  539, 1222, 1424,  986,  397,  970, 1102,  499,\n",
       "        533,  908,  559,  386, 1183,  595,   69, 1141,   76,  863, 1343,\n",
       "        185,  895, 1312,   50,  918,  677,  394,  629, 1317,  944,  466,\n",
       "        751, 1050,  301,  415,  784,   19, 1395, 1223,  979,  252, 1155,\n",
       "         59,  107,  632,  995,  972,  867,  332,  751,  810,   50,   55,\n",
       "        218,  997, 1085,  475, 1494])"
      ]
     },
     "metadata": {},
     "execution_count": 15
    }
   ],
   "source": [
    "scores_array"
   ]
  },
  {
   "cell_type": "code",
   "execution_count": 16,
   "metadata": {},
   "outputs": [
    {
     "output_type": "execute_result",
     "data": {
      "text/plain": [
       "60"
      ]
     },
     "metadata": {},
     "execution_count": 16
    }
   ],
   "source": [
    "scores_array.size # How many elements are in the array?"
   ]
  },
  {
   "cell_type": "code",
   "execution_count": 17,
   "metadata": {},
   "outputs": [
    {
     "output_type": "execute_result",
     "data": {
      "text/plain": [
       "array([1071,  539, 1222])"
      ]
     },
     "metadata": {},
     "execution_count": 17
    }
   ],
   "source": [
    "scores_array[2:5] #slice"
   ]
  },
  {
   "cell_type": "code",
   "execution_count": 18,
   "metadata": {},
   "outputs": [
    {
     "output_type": "stream",
     "name": "stdout",
     "text": [
      "[1297  603 1071  539 1222 1424  986  397  970 1102  499  533  908  559\n  386 1183  595   69 1141   76  863 1343  185  895 1312   50  918  677\n  394  629 1317  944  466  751 1050  301  415  784   19 1395 1223  979\n  252 1155   59  107  632  995  972  867  332  751  810   50   55  218\n  997 1085  475 1494]\n"
     ]
    }
   ],
   "source": [
    "print(scores_array)"
   ]
  },
  {
   "source": [
    "> Note: Printing the `scores_array` removed the delimiter commas and used sapces instead"
   ],
   "cell_type": "markdown",
   "metadata": {}
  },
  {
   "cell_type": "code",
   "execution_count": 19,
   "metadata": {},
   "outputs": [
    {
     "output_type": "execute_result",
     "data": {
      "text/plain": [
       "array([1, 1, 1, 1, 1, 1, 1, 1, 1, 1, 1, 1, 1, 1, 1, 1, 1, 1, 1, 1, 1, 1,\n",
       "       1, 1, 1, 1, 1, 1, 1, 1, 1, 1, 1, 1, 1, 1, 1, 1, 1, 1, 1, 1, 1, 1,\n",
       "       1, 1, 1, 1, 1, 1, 1, 1, 1, 1, 1, 1, 1, 1, 1, 1])"
      ]
     },
     "metadata": {},
     "execution_count": 19
    }
   ],
   "source": [
    "scores_array ** 0"
   ]
  },
  {
   "cell_type": "code",
   "execution_count": 20,
   "metadata": {},
   "outputs": [
    {
     "output_type": "execute_result",
     "data": {
      "text/plain": [
       "array([1297,  603, 1071,  539, 1222, 1424,  986,  397,  970, 1102,  499,\n",
       "        533,  908,  559,  386, 1183,  595,   69, 1141,   76,  863, 1343,\n",
       "        185,  895, 1312,   50,  918,  677,  394,  629, 1317,  944,  466,\n",
       "        751, 1050,  301,  415,  784,   19, 1395, 1223,  979,  252, 1155,\n",
       "         59,  107,  632,  995,  972,  867,  332,  751,  810,   50,   55,\n",
       "        218,  997, 1085,  475, 1494])"
      ]
     },
     "metadata": {},
     "execution_count": 20
    }
   ],
   "source": [
    "scores_array"
   ]
  }
 ]
}