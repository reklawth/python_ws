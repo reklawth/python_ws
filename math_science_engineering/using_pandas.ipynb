{
 "metadata": {
  "language_info": {
   "codemirror_mode": {
    "name": "ipython",
    "version": 3
   },
   "file_extension": ".py",
   "mimetype": "text/x-python",
   "name": "python",
   "nbconvert_exporter": "python",
   "pygments_lexer": "ipython3",
   "version": "3.8.5-final"
  },
  "orig_nbformat": 2,
  "kernelspec": {
   "name": "Python 3.8.5 64-bit",
   "display_name": "Python 3.8.5 64-bit",
   "metadata": {
    "interpreter": {
     "hash": "31f2aee4e71d21fbe5cf8b01ff0e069b9275f58929596ceb00d14d90e3e16cd6"
    }
   }
  }
 },
 "nbformat": 4,
 "nbformat_minor": 2,
 "cells": [
  {
   "source": [
    "## Creating and Using DataFrame"
   ],
   "cell_type": "markdown",
   "metadata": {}
  },
  {
   "cell_type": "code",
   "execution_count": 1,
   "metadata": {},
   "outputs": [],
   "source": [
    "import pandas as pd"
   ]
  },
  {
   "source": [
    "DataFrames can be made from lists, files, directly from a database with some SQL statements"
   ],
   "cell_type": "markdown",
   "metadata": {}
  },
  {
   "cell_type": "code",
   "execution_count": 2,
   "metadata": {},
   "outputs": [],
   "source": [
    "data = [\n",
    "    (\"Dexter\", \"Johnsons\", \"dog\", \"shiba inu\", \"red sesame\", 1.5,35,\"m\",False,\"both\",True),\n",
    "    (\"Alfred\", \"Johnsons\", \"cat\", \"mix\", \"tuxedo\", 4,12,\"m\",True,\"indoor\",True),\n",
    "    (\"Petra\", \"Smith\", \"cat\", \"ragdoll\", \"calico\", None,10,\"f\",False,\"both\",True),\n",
    "    (\"Ava\", \"Smith\", \"dog\", \"mix\", \"blk/wht\", 12,32,\"f\",True,\"both\",False),\n",
    "    (\"Schroder\", \"Brown\", \"cat\", \"mix\", \"orange\", 13,15,\"m\",False,\"indoor\",True),\n",
    "    (\"Blackbeard\", \"Brown\", \"bird\", \"parrot\", \"multi\", 5,3,\"f\",False,\"indoor\",),\n",
    "]"
   ]
  },
  {
   "cell_type": "code",
   "execution_count": 3,
   "metadata": {},
   "outputs": [],
   "source": [
    "labels = [\"name\", \"owner\", \"type\", \"breed\", \"color\", \"age\", \"weight\", \"gender\", \"health issues\", \"indoor/outdoor\", \"vaccinated\"]"
   ]
  },
  {
   "source": [
    "Create data frame named `vet_records`"
   ],
   "cell_type": "markdown",
   "metadata": {}
  },
  {
   "cell_type": "code",
   "execution_count": 4,
   "metadata": {},
   "outputs": [],
   "source": [
    "vet_records = pd.DataFrame.from_records(data, columns=labels)"
   ]
  },
  {
   "cell_type": "code",
   "execution_count": 5,
   "metadata": {},
   "outputs": [
    {
     "output_type": "stream",
     "name": "stdout",
     "text": [
      "         name     owner  type      breed       color   age  weight gender  \\\n0      Dexter  Johnsons   dog  shiba inu  red sesame   1.5      35      m   \n1      Alfred  Johnsons   cat        mix      tuxedo   4.0      12      m   \n2       Petra     Smith   cat    ragdoll      calico   NaN      10      f   \n3         Ava     Smith   dog        mix     blk/wht  12.0      32      f   \n4    Schroder     Brown   cat        mix      orange  13.0      15      m   \n5  Blackbeard     Brown  bird     parrot       multi   5.0       3      f   \n\n   health issues indoor/outdoor vaccinated  \n0          False           both       True  \n1           True         indoor       True  \n2          False           both       True  \n3           True           both      False  \n4          False         indoor       True  \n5          False         indoor       None  \n"
     ]
    }
   ],
   "source": [
    "print(vet_records)"
   ]
  },
  {
   "cell_type": "code",
   "execution_count": 6,
   "metadata": {},
   "outputs": [
    {
     "output_type": "execute_result",
     "data": {
      "text/plain": [
       "       name     owner type      breed       color   age  weight gender  \\\n",
       "0    Dexter  Johnsons  dog  shiba inu  red sesame   1.5      35      m   \n",
       "1    Alfred  Johnsons  cat        mix      tuxedo   4.0      12      m   \n",
       "2     Petra     Smith  cat    ragdoll      calico   NaN      10      f   \n",
       "3       Ava     Smith  dog        mix     blk/wht  12.0      32      f   \n",
       "4  Schroder     Brown  cat        mix      orange  13.0      15      m   \n",
       "\n",
       "   health issues indoor/outdoor vaccinated  \n",
       "0          False           both       True  \n",
       "1           True         indoor       True  \n",
       "2          False           both       True  \n",
       "3           True           both      False  \n",
       "4          False         indoor       True  "
      ],
      "text/html": "<div>\n<style scoped>\n    .dataframe tbody tr th:only-of-type {\n        vertical-align: middle;\n    }\n\n    .dataframe tbody tr th {\n        vertical-align: top;\n    }\n\n    .dataframe thead th {\n        text-align: right;\n    }\n</style>\n<table border=\"1\" class=\"dataframe\">\n  <thead>\n    <tr style=\"text-align: right;\">\n      <th></th>\n      <th>name</th>\n      <th>owner</th>\n      <th>type</th>\n      <th>breed</th>\n      <th>color</th>\n      <th>age</th>\n      <th>weight</th>\n      <th>gender</th>\n      <th>health issues</th>\n      <th>indoor/outdoor</th>\n      <th>vaccinated</th>\n    </tr>\n  </thead>\n  <tbody>\n    <tr>\n      <th>0</th>\n      <td>Dexter</td>\n      <td>Johnsons</td>\n      <td>dog</td>\n      <td>shiba inu</td>\n      <td>red sesame</td>\n      <td>1.5</td>\n      <td>35</td>\n      <td>m</td>\n      <td>False</td>\n      <td>both</td>\n      <td>True</td>\n    </tr>\n    <tr>\n      <th>1</th>\n      <td>Alfred</td>\n      <td>Johnsons</td>\n      <td>cat</td>\n      <td>mix</td>\n      <td>tuxedo</td>\n      <td>4.0</td>\n      <td>12</td>\n      <td>m</td>\n      <td>True</td>\n      <td>indoor</td>\n      <td>True</td>\n    </tr>\n    <tr>\n      <th>2</th>\n      <td>Petra</td>\n      <td>Smith</td>\n      <td>cat</td>\n      <td>ragdoll</td>\n      <td>calico</td>\n      <td>NaN</td>\n      <td>10</td>\n      <td>f</td>\n      <td>False</td>\n      <td>both</td>\n      <td>True</td>\n    </tr>\n    <tr>\n      <th>3</th>\n      <td>Ava</td>\n      <td>Smith</td>\n      <td>dog</td>\n      <td>mix</td>\n      <td>blk/wht</td>\n      <td>12.0</td>\n      <td>32</td>\n      <td>f</td>\n      <td>True</td>\n      <td>both</td>\n      <td>False</td>\n    </tr>\n    <tr>\n      <th>4</th>\n      <td>Schroder</td>\n      <td>Brown</td>\n      <td>cat</td>\n      <td>mix</td>\n      <td>orange</td>\n      <td>13.0</td>\n      <td>15</td>\n      <td>m</td>\n      <td>False</td>\n      <td>indoor</td>\n      <td>True</td>\n    </tr>\n  </tbody>\n</table>\n</div>"
     },
     "metadata": {},
     "execution_count": 6
    }
   ],
   "source": [
    "vet_records.head()"
   ]
  },
  {
   "cell_type": "code",
   "execution_count": 7,
   "metadata": {},
   "outputs": [
    {
     "output_type": "execute_result",
     "data": {
      "text/plain": [
       "         name     owner  type    breed    color   age  weight gender  \\\n",
       "1      Alfred  Johnsons   cat      mix   tuxedo   4.0      12      m   \n",
       "2       Petra     Smith   cat  ragdoll   calico   NaN      10      f   \n",
       "3         Ava     Smith   dog      mix  blk/wht  12.0      32      f   \n",
       "4    Schroder     Brown   cat      mix   orange  13.0      15      m   \n",
       "5  Blackbeard     Brown  bird   parrot    multi   5.0       3      f   \n",
       "\n",
       "   health issues indoor/outdoor vaccinated  \n",
       "1           True         indoor       True  \n",
       "2          False           both       True  \n",
       "3           True           both      False  \n",
       "4          False         indoor       True  \n",
       "5          False         indoor       None  "
      ],
      "text/html": "<div>\n<style scoped>\n    .dataframe tbody tr th:only-of-type {\n        vertical-align: middle;\n    }\n\n    .dataframe tbody tr th {\n        vertical-align: top;\n    }\n\n    .dataframe thead th {\n        text-align: right;\n    }\n</style>\n<table border=\"1\" class=\"dataframe\">\n  <thead>\n    <tr style=\"text-align: right;\">\n      <th></th>\n      <th>name</th>\n      <th>owner</th>\n      <th>type</th>\n      <th>breed</th>\n      <th>color</th>\n      <th>age</th>\n      <th>weight</th>\n      <th>gender</th>\n      <th>health issues</th>\n      <th>indoor/outdoor</th>\n      <th>vaccinated</th>\n    </tr>\n  </thead>\n  <tbody>\n    <tr>\n      <th>1</th>\n      <td>Alfred</td>\n      <td>Johnsons</td>\n      <td>cat</td>\n      <td>mix</td>\n      <td>tuxedo</td>\n      <td>4.0</td>\n      <td>12</td>\n      <td>m</td>\n      <td>True</td>\n      <td>indoor</td>\n      <td>True</td>\n    </tr>\n    <tr>\n      <th>2</th>\n      <td>Petra</td>\n      <td>Smith</td>\n      <td>cat</td>\n      <td>ragdoll</td>\n      <td>calico</td>\n      <td>NaN</td>\n      <td>10</td>\n      <td>f</td>\n      <td>False</td>\n      <td>both</td>\n      <td>True</td>\n    </tr>\n    <tr>\n      <th>3</th>\n      <td>Ava</td>\n      <td>Smith</td>\n      <td>dog</td>\n      <td>mix</td>\n      <td>blk/wht</td>\n      <td>12.0</td>\n      <td>32</td>\n      <td>f</td>\n      <td>True</td>\n      <td>both</td>\n      <td>False</td>\n    </tr>\n    <tr>\n      <th>4</th>\n      <td>Schroder</td>\n      <td>Brown</td>\n      <td>cat</td>\n      <td>mix</td>\n      <td>orange</td>\n      <td>13.0</td>\n      <td>15</td>\n      <td>m</td>\n      <td>False</td>\n      <td>indoor</td>\n      <td>True</td>\n    </tr>\n    <tr>\n      <th>5</th>\n      <td>Blackbeard</td>\n      <td>Brown</td>\n      <td>bird</td>\n      <td>parrot</td>\n      <td>multi</td>\n      <td>5.0</td>\n      <td>3</td>\n      <td>f</td>\n      <td>False</td>\n      <td>indoor</td>\n      <td>None</td>\n    </tr>\n  </tbody>\n</table>\n</div>"
     },
     "metadata": {},
     "execution_count": 7
    }
   ],
   "source": [
    "vet_records.tail()"
   ]
  },
  {
   "cell_type": "code",
   "execution_count": 8,
   "metadata": {},
   "outputs": [
    {
     "output_type": "execute_result",
     "data": {
      "text/plain": [
       "name               object\n",
       "owner              object\n",
       "type               object\n",
       "breed              object\n",
       "color              object\n",
       "age               float64\n",
       "weight              int64\n",
       "gender             object\n",
       "health issues        bool\n",
       "indoor/outdoor     object\n",
       "vaccinated         object\n",
       "dtype: object"
      ]
     },
     "metadata": {},
     "execution_count": 8
    }
   ],
   "source": [
    "vet_records.dtypes"
   ]
  },
  {
   "cell_type": "code",
   "execution_count": 9,
   "metadata": {},
   "outputs": [
    {
     "output_type": "error",
     "ename": "NameError",
     "evalue": "name 'latels' is not defined",
     "traceback": [
      "\u001b[0;31m---------------------------------------------------------------------------\u001b[0m",
      "\u001b[0;31mNameError\u001b[0m                                 Traceback (most recent call last)",
      "\u001b[0;32m<ipython-input-9-e779a9136ae0>\u001b[0m in \u001b[0;36m<module>\u001b[0;34m\u001b[0m\n\u001b[0;32m----> 1\u001b[0;31m \u001b[0mprint\u001b[0m\u001b[0;34m(\u001b[0m\u001b[0mlatels\u001b[0m\u001b[0;34m)\u001b[0m\u001b[0;34m\u001b[0m\u001b[0;34m\u001b[0m\u001b[0m\n\u001b[0m",
      "\u001b[0;31mNameError\u001b[0m: name 'latels' is not defined"
     ]
    }
   ],
   "source": [
    "print(latels)"
   ]
  },
  {
   "cell_type": "code",
   "execution_count": 14,
   "metadata": {},
   "outputs": [
    {
     "output_type": "execute_result",
     "data": {
      "text/plain": [
       "6"
      ]
     },
     "metadata": {},
     "execution_count": 14
    }
   ],
   "source": [
    "vet_records.type.count()"
   ]
  },
  {
   "source": [
    "Pandas automatically skips `None` and `NaN`"
   ],
   "cell_type": "markdown",
   "metadata": {}
  },
  {
   "cell_type": "code",
   "execution_count": 16,
   "metadata": {},
   "outputs": [
    {
     "output_type": "execute_result",
     "data": {
      "text/plain": [
       "5"
      ]
     },
     "metadata": {},
     "execution_count": 16
    }
   ],
   "source": [
    "vet_records.vaccinated.count()"
   ]
  },
  {
   "cell_type": "code",
   "execution_count": 17,
   "metadata": {},
   "outputs": [
    {
     "output_type": "execute_result",
     "data": {
      "text/plain": [
       "      name  owner  breed  color  age  weight  gender  health issues  \\\n",
       "type                                                                  \n",
       "bird     1      1      1      1    1       1       1              1   \n",
       "cat      3      3      3      3    2       3       3              3   \n",
       "dog      2      2      2      2    2       2       2              2   \n",
       "\n",
       "      indoor/outdoor  vaccinated  \n",
       "type                              \n",
       "bird               1           0  \n",
       "cat                3           3  \n",
       "dog                2           2  "
      ],
      "text/html": "<div>\n<style scoped>\n    .dataframe tbody tr th:only-of-type {\n        vertical-align: middle;\n    }\n\n    .dataframe tbody tr th {\n        vertical-align: top;\n    }\n\n    .dataframe thead th {\n        text-align: right;\n    }\n</style>\n<table border=\"1\" class=\"dataframe\">\n  <thead>\n    <tr style=\"text-align: right;\">\n      <th></th>\n      <th>name</th>\n      <th>owner</th>\n      <th>breed</th>\n      <th>color</th>\n      <th>age</th>\n      <th>weight</th>\n      <th>gender</th>\n      <th>health issues</th>\n      <th>indoor/outdoor</th>\n      <th>vaccinated</th>\n    </tr>\n    <tr>\n      <th>type</th>\n      <th></th>\n      <th></th>\n      <th></th>\n      <th></th>\n      <th></th>\n      <th></th>\n      <th></th>\n      <th></th>\n      <th></th>\n      <th></th>\n    </tr>\n  </thead>\n  <tbody>\n    <tr>\n      <th>bird</th>\n      <td>1</td>\n      <td>1</td>\n      <td>1</td>\n      <td>1</td>\n      <td>1</td>\n      <td>1</td>\n      <td>1</td>\n      <td>1</td>\n      <td>1</td>\n      <td>0</td>\n    </tr>\n    <tr>\n      <th>cat</th>\n      <td>3</td>\n      <td>3</td>\n      <td>3</td>\n      <td>3</td>\n      <td>2</td>\n      <td>3</td>\n      <td>3</td>\n      <td>3</td>\n      <td>3</td>\n      <td>3</td>\n    </tr>\n    <tr>\n      <th>dog</th>\n      <td>2</td>\n      <td>2</td>\n      <td>2</td>\n      <td>2</td>\n      <td>2</td>\n      <td>2</td>\n      <td>2</td>\n      <td>2</td>\n      <td>2</td>\n      <td>2</td>\n    </tr>\n  </tbody>\n</table>\n</div>"
     },
     "metadata": {},
     "execution_count": 17
    }
   ],
   "source": [
    "vet_records.groupby('type').count()"
   ]
  },
  {
   "cell_type": "code",
   "execution_count": 18,
   "metadata": {},
   "outputs": [
    {
     "output_type": "execute_result",
     "data": {
      "text/plain": [
       "cat     3\n",
       "dog     2\n",
       "bird    1\n",
       "Name: type, dtype: int64"
      ]
     },
     "metadata": {},
     "execution_count": 18
    }
   ],
   "source": [
    "vet_records.type.value_counts()"
   ]
  },
  {
   "source": [
    "## Slicing DataFrames"
   ],
   "cell_type": "markdown",
   "metadata": {}
  },
  {
   "cell_type": "code",
   "execution_count": 10,
   "metadata": {},
   "outputs": [
    {
     "output_type": "stream",
     "name": "stdout",
     "text": [
      "         name     owner  type      breed       color   age  weight gender  \\\n0      Dexter  Johnsons   dog  shiba inu  red sesame   1.5      35      m   \n1      Alfred  Johnsons   cat        mix      tuxedo   4.0      12      m   \n2       Petra     Smith   cat    ragdoll      calico   NaN      10      f   \n3         Ava     Smith   dog        mix     blk/wht  12.0      32      f   \n4    Schroder     Brown   cat        mix      orange  13.0      15      m   \n5  Blackbeard     Brown  bird     parrot       multi   5.0       3      f   \n\n   health issues indoor/outdoor vaccinated  \n0          False           both       True  \n1           True         indoor       True  \n2          False           both       True  \n3           True           both      False  \n4          False         indoor       True  \n5          False         indoor       None  \n"
     ]
    }
   ],
   "source": [
    "print(vet_records)"
   ]
  },
  {
   "cell_type": "code",
   "execution_count": 11,
   "metadata": {},
   "outputs": [],
   "source": [
    "vet_records_archive = vet_records # make a backup archive"
   ]
  },
  {
   "cell_type": "code",
   "execution_count": 12,
   "metadata": {},
   "outputs": [
    {
     "output_type": "stream",
     "name": "stdout",
     "text": [
      "         name     owner  type      breed       color   age  weight gender  \\\n0      Dexter  Johnsons   dog  shiba inu  red sesame   1.5      35      m   \n1      Alfred  Johnsons   cat        mix      tuxedo   4.0      12      m   \n2       Petra     Smith   cat    ragdoll      calico   NaN      10      f   \n3         Ava     Smith   dog        mix     blk/wht  12.0      32      f   \n4    Schroder     Brown   cat        mix      orange  13.0      15      m   \n5  Blackbeard     Brown  bird     parrot       multi   5.0       3      f   \n\n   health issues indoor/outdoor vaccinated  \n0          False           both       True  \n1           True         indoor       True  \n2          False           both       True  \n3           True           both      False  \n4          False         indoor       True  \n5          False         indoor       None  \n"
     ]
    }
   ],
   "source": [
    "print(vet_records_archive)"
   ]
  },
  {
   "cell_type": "code",
   "execution_count": 13,
   "metadata": {},
   "outputs": [],
   "source": [
    "weight = vet_records['weight']"
   ]
  },
  {
   "cell_type": "code",
   "execution_count": 14,
   "metadata": {},
   "outputs": [
    {
     "output_type": "execute_result",
     "data": {
      "text/plain": [
       "0    35\n",
       "1    12\n",
       "2    10\n",
       "3    32\n",
       "4    15\n",
       "5     3\n",
       "Name: weight, dtype: int64"
      ]
     },
     "metadata": {},
     "execution_count": 14
    }
   ],
   "source": [
    "weight"
   ]
  },
  {
   "cell_type": "code",
   "execution_count": 15,
   "metadata": {},
   "outputs": [
    {
     "output_type": "stream",
     "name": "stdout",
     "text": [
      "         name     owner  type      breed       color   age  weight gender  \\\n0      Dexter  Johnsons   dog  shiba inu  red sesame   1.5      35      m   \n1      Alfred  Johnsons   cat        mix      tuxedo   4.0      12      m   \n2       Petra     Smith   cat    ragdoll      calico   NaN      10      f   \n3         Ava     Smith   dog        mix     blk/wht  12.0      32      f   \n4    Schroder     Brown   cat        mix      orange  13.0      15      m   \n5  Blackbeard     Brown  bird     parrot       multi   5.0       3      f   \n\n   health issues indoor/outdoor vaccinated  \n0          False           both       True  \n1           True         indoor       True  \n2          False           both       True  \n3           True           both      False  \n4          False         indoor       True  \n5          False         indoor       None  \n"
     ]
    }
   ],
   "source": [
    "print(vet_records) # the weight column is still in the dataframe"
   ]
  },
  {
   "cell_type": "code",
   "execution_count": 16,
   "metadata": {},
   "outputs": [],
   "source": [
    "dog_weight = vet_records.weight[vet_records.type=='dog'] # get the dog weight from data frame"
   ]
  },
  {
   "cell_type": "code",
   "execution_count": 17,
   "metadata": {},
   "outputs": [
    {
     "output_type": "execute_result",
     "data": {
      "text/plain": [
       "0    35\n",
       "3    32\n",
       "Name: weight, dtype: int64"
      ]
     },
     "metadata": {},
     "execution_count": 17
    }
   ],
   "source": [
    "dog_weight"
   ]
  },
  {
   "cell_type": "code",
   "execution_count": 18,
   "metadata": {},
   "outputs": [
    {
     "output_type": "execute_result",
     "data": {
      "text/plain": [
       "     name     owner type      breed       color   age  weight gender  \\\n",
       "0  Dexter  Johnsons  dog  shiba inu  red sesame   1.5      35      m   \n",
       "3     Ava     Smith  dog        mix     blk/wht  12.0      32      f   \n",
       "\n",
       "   health issues indoor/outdoor vaccinated  \n",
       "0          False           both       True  \n",
       "3           True           both      False  "
      ],
      "text/html": "<div>\n<style scoped>\n    .dataframe tbody tr th:only-of-type {\n        vertical-align: middle;\n    }\n\n    .dataframe tbody tr th {\n        vertical-align: top;\n    }\n\n    .dataframe thead th {\n        text-align: right;\n    }\n</style>\n<table border=\"1\" class=\"dataframe\">\n  <thead>\n    <tr style=\"text-align: right;\">\n      <th></th>\n      <th>name</th>\n      <th>owner</th>\n      <th>type</th>\n      <th>breed</th>\n      <th>color</th>\n      <th>age</th>\n      <th>weight</th>\n      <th>gender</th>\n      <th>health issues</th>\n      <th>indoor/outdoor</th>\n      <th>vaccinated</th>\n    </tr>\n  </thead>\n  <tbody>\n    <tr>\n      <th>0</th>\n      <td>Dexter</td>\n      <td>Johnsons</td>\n      <td>dog</td>\n      <td>shiba inu</td>\n      <td>red sesame</td>\n      <td>1.5</td>\n      <td>35</td>\n      <td>m</td>\n      <td>False</td>\n      <td>both</td>\n      <td>True</td>\n    </tr>\n    <tr>\n      <th>3</th>\n      <td>Ava</td>\n      <td>Smith</td>\n      <td>dog</td>\n      <td>mix</td>\n      <td>blk/wht</td>\n      <td>12.0</td>\n      <td>32</td>\n      <td>f</td>\n      <td>True</td>\n      <td>both</td>\n      <td>False</td>\n    </tr>\n  </tbody>\n</table>\n</div>"
     },
     "metadata": {},
     "execution_count": 18
    }
   ],
   "source": [
    "dogs = vet_records[vet_records.type=='dog'] # get the records whose type matches dog\n",
    "dogs"
   ]
  },
  {
   "cell_type": "code",
   "execution_count": 19,
   "metadata": {},
   "outputs": [
    {
     "output_type": "execute_result",
     "data": {
      "text/plain": [
       "         name     owner\n",
       "0      Dexter  Johnsons\n",
       "1      Alfred  Johnsons\n",
       "2       Petra     Smith\n",
       "3         Ava     Smith\n",
       "4    Schroder     Brown\n",
       "5  Blackbeard     Brown"
      ],
      "text/html": "<div>\n<style scoped>\n    .dataframe tbody tr th:only-of-type {\n        vertical-align: middle;\n    }\n\n    .dataframe tbody tr th {\n        vertical-align: top;\n    }\n\n    .dataframe thead th {\n        text-align: right;\n    }\n</style>\n<table border=\"1\" class=\"dataframe\">\n  <thead>\n    <tr style=\"text-align: right;\">\n      <th></th>\n      <th>name</th>\n      <th>owner</th>\n    </tr>\n  </thead>\n  <tbody>\n    <tr>\n      <th>0</th>\n      <td>Dexter</td>\n      <td>Johnsons</td>\n    </tr>\n    <tr>\n      <th>1</th>\n      <td>Alfred</td>\n      <td>Johnsons</td>\n    </tr>\n    <tr>\n      <th>2</th>\n      <td>Petra</td>\n      <td>Smith</td>\n    </tr>\n    <tr>\n      <th>3</th>\n      <td>Ava</td>\n      <td>Smith</td>\n    </tr>\n    <tr>\n      <th>4</th>\n      <td>Schroder</td>\n      <td>Brown</td>\n    </tr>\n    <tr>\n      <th>5</th>\n      <td>Blackbeard</td>\n      <td>Brown</td>\n    </tr>\n  </tbody>\n</table>\n</div>"
     },
     "metadata": {},
     "execution_count": 19
    }
   ],
   "source": [
    "vet_records.loc[:,[\"name\", \"owner\"]]  # all of the rows, but only want the column name and owner"
   ]
  },
  {
   "cell_type": "code",
   "execution_count": 20,
   "metadata": {},
   "outputs": [
    {
     "output_type": "execute_result",
     "data": {
      "text/plain": [
       "    name  owner\n",
       "2  Petra  Smith\n",
       "3    Ava  Smith"
      ],
      "text/html": "<div>\n<style scoped>\n    .dataframe tbody tr th:only-of-type {\n        vertical-align: middle;\n    }\n\n    .dataframe tbody tr th {\n        vertical-align: top;\n    }\n\n    .dataframe thead th {\n        text-align: right;\n    }\n</style>\n<table border=\"1\" class=\"dataframe\">\n  <thead>\n    <tr style=\"text-align: right;\">\n      <th></th>\n      <th>name</th>\n      <th>owner</th>\n    </tr>\n  </thead>\n  <tbody>\n    <tr>\n      <th>2</th>\n      <td>Petra</td>\n      <td>Smith</td>\n    </tr>\n    <tr>\n      <th>3</th>\n      <td>Ava</td>\n      <td>Smith</td>\n    </tr>\n  </tbody>\n</table>\n</div>"
     },
     "metadata": {},
     "execution_count": 20
    }
   ],
   "source": [
    "vet_records.loc[2:3,[\"name\", \"owner\"]]  # starting at row index 2 ending at row index 3, but only want the column name and owner"
   ]
  },
  {
   "source": [
    "The i in `iloc` is for the index, meaning that you are just using the index in your search:"
   ],
   "cell_type": "markdown",
   "metadata": {}
  },
  {
   "cell_type": "code",
   "execution_count": 24,
   "metadata": {},
   "outputs": [
    {
     "output_type": "execute_result",
     "data": {
      "text/plain": [
       "     color   age\n",
       "2   calico   NaN\n",
       "3  blk/wht  12.0"
      ],
      "text/html": "<div>\n<style scoped>\n    .dataframe tbody tr th:only-of-type {\n        vertical-align: middle;\n    }\n\n    .dataframe tbody tr th {\n        vertical-align: top;\n    }\n\n    .dataframe thead th {\n        text-align: right;\n    }\n</style>\n<table border=\"1\" class=\"dataframe\">\n  <thead>\n    <tr style=\"text-align: right;\">\n      <th></th>\n      <th>color</th>\n      <th>age</th>\n    </tr>\n  </thead>\n  <tbody>\n    <tr>\n      <th>2</th>\n      <td>calico</td>\n      <td>NaN</td>\n    </tr>\n    <tr>\n      <th>3</th>\n      <td>blk/wht</td>\n      <td>12.0</td>\n    </tr>\n  </tbody>\n</table>\n</div>"
     },
     "metadata": {},
     "execution_count": 24
    }
   ],
   "source": [
    "vet_records.iloc[2:4,4:6]  # starting at row index 2 ending at row index 3, but only want the color and age - here doing splicing"
   ]
  },
  {
   "cell_type": "code",
   "execution_count": 25,
   "metadata": {},
   "outputs": [
    {
     "output_type": "execute_result",
     "data": {
      "text/plain": [
       "     color   age\n",
       "2   calico   NaN\n",
       "3  blk/wht  12.0"
      ],
      "text/html": "<div>\n<style scoped>\n    .dataframe tbody tr th:only-of-type {\n        vertical-align: middle;\n    }\n\n    .dataframe tbody tr th {\n        vertical-align: top;\n    }\n\n    .dataframe thead th {\n        text-align: right;\n    }\n</style>\n<table border=\"1\" class=\"dataframe\">\n  <thead>\n    <tr style=\"text-align: right;\">\n      <th></th>\n      <th>color</th>\n      <th>age</th>\n    </tr>\n  </thead>\n  <tbody>\n    <tr>\n      <th>2</th>\n      <td>calico</td>\n      <td>NaN</td>\n    </tr>\n    <tr>\n      <th>3</th>\n      <td>blk/wht</td>\n      <td>12.0</td>\n    </tr>\n  </tbody>\n</table>\n</div>"
     },
     "metadata": {},
     "execution_count": 25
    }
   ],
   "source": [
    "vet_records.iloc[[2,3],[4,5]]  # starting at row index 2 ending at row index 3, but only want the color and age - here doing indexing"
   ]
  },
  {
   "cell_type": "code",
   "execution_count": 26,
   "metadata": {},
   "outputs": [
    {
     "output_type": "execute_result",
     "data": {
      "text/plain": [
       "         name     owner  type      breed       color  age  weight gender  \\\n",
       "0      Dexter  Johnsons   dog  shiba inu  red sesame  1.5      35      m   \n",
       "5  Blackbeard     Brown  bird     parrot       multi  5.0       3      f   \n",
       "\n",
       "   health issues indoor/outdoor vaccinated  \n",
       "0          False           both       True  \n",
       "5          False         indoor       None  "
      ],
      "text/html": "<div>\n<style scoped>\n    .dataframe tbody tr th:only-of-type {\n        vertical-align: middle;\n    }\n\n    .dataframe tbody tr th {\n        vertical-align: top;\n    }\n\n    .dataframe thead th {\n        text-align: right;\n    }\n</style>\n<table border=\"1\" class=\"dataframe\">\n  <thead>\n    <tr style=\"text-align: right;\">\n      <th></th>\n      <th>name</th>\n      <th>owner</th>\n      <th>type</th>\n      <th>breed</th>\n      <th>color</th>\n      <th>age</th>\n      <th>weight</th>\n      <th>gender</th>\n      <th>health issues</th>\n      <th>indoor/outdoor</th>\n      <th>vaccinated</th>\n    </tr>\n  </thead>\n  <tbody>\n    <tr>\n      <th>0</th>\n      <td>Dexter</td>\n      <td>Johnsons</td>\n      <td>dog</td>\n      <td>shiba inu</td>\n      <td>red sesame</td>\n      <td>1.5</td>\n      <td>35</td>\n      <td>m</td>\n      <td>False</td>\n      <td>both</td>\n      <td>True</td>\n    </tr>\n    <tr>\n      <th>5</th>\n      <td>Blackbeard</td>\n      <td>Brown</td>\n      <td>bird</td>\n      <td>parrot</td>\n      <td>multi</td>\n      <td>5.0</td>\n      <td>3</td>\n      <td>f</td>\n      <td>False</td>\n      <td>indoor</td>\n      <td>None</td>\n    </tr>\n  </tbody>\n</table>\n</div>"
     },
     "metadata": {},
     "execution_count": 26
    }
   ],
   "source": [
    "vet_records[vet_records.name.isin(['Dexter','Blackbeard'])]"
   ]
  },
  {
   "cell_type": "code",
   "execution_count": 28,
   "metadata": {},
   "outputs": [
    {
     "output_type": "execute_result",
     "data": {
      "text/plain": [
       "         name     owner\n",
       "0      Dexter  Johnsons\n",
       "5  Blackbeard     Brown"
      ],
      "text/html": "<div>\n<style scoped>\n    .dataframe tbody tr th:only-of-type {\n        vertical-align: middle;\n    }\n\n    .dataframe tbody tr th {\n        vertical-align: top;\n    }\n\n    .dataframe thead th {\n        text-align: right;\n    }\n</style>\n<table border=\"1\" class=\"dataframe\">\n  <thead>\n    <tr style=\"text-align: right;\">\n      <th></th>\n      <th>name</th>\n      <th>owner</th>\n    </tr>\n  </thead>\n  <tbody>\n    <tr>\n      <th>0</th>\n      <td>Dexter</td>\n      <td>Johnsons</td>\n    </tr>\n    <tr>\n      <th>5</th>\n      <td>Blackbeard</td>\n      <td>Brown</td>\n    </tr>\n  </tbody>\n</table>\n</div>"
     },
     "metadata": {},
     "execution_count": 28
    }
   ],
   "source": [
    "vet_records[vet_records.name.isin(['Dexter','Blackbeard'])].loc[:,[\"name\", \"owner\"]] "
   ]
  },
  {
   "cell_type": "code",
   "execution_count": 29,
   "metadata": {},
   "outputs": [
    {
     "output_type": "execute_result",
     "data": {
      "text/plain": [
       "       name     owner type    breed    color   age  weight gender  \\\n",
       "1    Alfred  Johnsons  cat      mix   tuxedo   4.0      12      m   \n",
       "2     Petra     Smith  cat  ragdoll   calico   NaN      10      f   \n",
       "3       Ava     Smith  dog      mix  blk/wht  12.0      32      f   \n",
       "4  Schroder     Brown  cat      mix   orange  13.0      15      m   \n",
       "\n",
       "   health issues indoor/outdoor vaccinated  \n",
       "1           True         indoor       True  \n",
       "2          False           both       True  \n",
       "3           True           both      False  \n",
       "4          False         indoor       True  "
      ],
      "text/html": "<div>\n<style scoped>\n    .dataframe tbody tr th:only-of-type {\n        vertical-align: middle;\n    }\n\n    .dataframe tbody tr th {\n        vertical-align: top;\n    }\n\n    .dataframe thead th {\n        text-align: right;\n    }\n</style>\n<table border=\"1\" class=\"dataframe\">\n  <thead>\n    <tr style=\"text-align: right;\">\n      <th></th>\n      <th>name</th>\n      <th>owner</th>\n      <th>type</th>\n      <th>breed</th>\n      <th>color</th>\n      <th>age</th>\n      <th>weight</th>\n      <th>gender</th>\n      <th>health issues</th>\n      <th>indoor/outdoor</th>\n      <th>vaccinated</th>\n    </tr>\n  </thead>\n  <tbody>\n    <tr>\n      <th>1</th>\n      <td>Alfred</td>\n      <td>Johnsons</td>\n      <td>cat</td>\n      <td>mix</td>\n      <td>tuxedo</td>\n      <td>4.0</td>\n      <td>12</td>\n      <td>m</td>\n      <td>True</td>\n      <td>indoor</td>\n      <td>True</td>\n    </tr>\n    <tr>\n      <th>2</th>\n      <td>Petra</td>\n      <td>Smith</td>\n      <td>cat</td>\n      <td>ragdoll</td>\n      <td>calico</td>\n      <td>NaN</td>\n      <td>10</td>\n      <td>f</td>\n      <td>False</td>\n      <td>both</td>\n      <td>True</td>\n    </tr>\n    <tr>\n      <th>3</th>\n      <td>Ava</td>\n      <td>Smith</td>\n      <td>dog</td>\n      <td>mix</td>\n      <td>blk/wht</td>\n      <td>12.0</td>\n      <td>32</td>\n      <td>f</td>\n      <td>True</td>\n      <td>both</td>\n      <td>False</td>\n    </tr>\n    <tr>\n      <th>4</th>\n      <td>Schroder</td>\n      <td>Brown</td>\n      <td>cat</td>\n      <td>mix</td>\n      <td>orange</td>\n      <td>13.0</td>\n      <td>15</td>\n      <td>m</td>\n      <td>False</td>\n      <td>indoor</td>\n      <td>True</td>\n    </tr>\n  </tbody>\n</table>\n</div>"
     },
     "metadata": {},
     "execution_count": 29
    }
   ],
   "source": [
    "vet_records[~vet_records.name.isin(['Dexter','Blackbeard'])] # add NOT to our filter"
   ]
  },
  {
   "source": [
    "## Stats with Dataframes"
   ],
   "cell_type": "markdown",
   "metadata": {}
  },
  {
   "cell_type": "code",
   "execution_count": 30,
   "metadata": {},
   "outputs": [
    {
     "output_type": "execute_result",
     "data": {
      "text/plain": [
       "                 age  weight\n",
       "type breed                  \n",
       "bird parrot      5.0       3\n",
       "cat  mix        17.0      27\n",
       "     ragdoll     0.0      10\n",
       "dog  mix        12.0      32\n",
       "     shiba inu   1.5      35"
      ],
      "text/html": "<div>\n<style scoped>\n    .dataframe tbody tr th:only-of-type {\n        vertical-align: middle;\n    }\n\n    .dataframe tbody tr th {\n        vertical-align: top;\n    }\n\n    .dataframe thead th {\n        text-align: right;\n    }\n</style>\n<table border=\"1\" class=\"dataframe\">\n  <thead>\n    <tr style=\"text-align: right;\">\n      <th></th>\n      <th></th>\n      <th>age</th>\n      <th>weight</th>\n    </tr>\n    <tr>\n      <th>type</th>\n      <th>breed</th>\n      <th></th>\n      <th></th>\n    </tr>\n  </thead>\n  <tbody>\n    <tr>\n      <th>bird</th>\n      <th>parrot</th>\n      <td>5.0</td>\n      <td>3</td>\n    </tr>\n    <tr>\n      <th rowspan=\"2\" valign=\"top\">cat</th>\n      <th>mix</th>\n      <td>17.0</td>\n      <td>27</td>\n    </tr>\n    <tr>\n      <th>ragdoll</th>\n      <td>0.0</td>\n      <td>10</td>\n    </tr>\n    <tr>\n      <th rowspan=\"2\" valign=\"top\">dog</th>\n      <th>mix</th>\n      <td>12.0</td>\n      <td>32</td>\n    </tr>\n    <tr>\n      <th>shiba inu</th>\n      <td>1.5</td>\n      <td>35</td>\n    </tr>\n  </tbody>\n</table>\n</div>"
     },
     "metadata": {},
     "execution_count": 30
    }
   ],
   "source": [
    "table = pd.pivot_table(vet_records, values=['weight', 'age'], index=['type', 'breed'], aggfunc=sum)\n",
    "table"
   ]
  },
  {
   "cell_type": "code",
   "execution_count": 31,
   "metadata": {},
   "outputs": [
    {
     "output_type": "execute_result",
     "data": {
      "text/plain": [
       "                 age  weight\n",
       "type breed                  \n",
       "bird parrot      5.0     3.0\n",
       "cat  mix         8.5    13.5\n",
       "     ragdoll     NaN    10.0\n",
       "dog  mix        12.0    32.0\n",
       "     shiba inu   1.5    35.0"
      ],
      "text/html": "<div>\n<style scoped>\n    .dataframe tbody tr th:only-of-type {\n        vertical-align: middle;\n    }\n\n    .dataframe tbody tr th {\n        vertical-align: top;\n    }\n\n    .dataframe thead th {\n        text-align: right;\n    }\n</style>\n<table border=\"1\" class=\"dataframe\">\n  <thead>\n    <tr style=\"text-align: right;\">\n      <th></th>\n      <th></th>\n      <th>age</th>\n      <th>weight</th>\n    </tr>\n    <tr>\n      <th>type</th>\n      <th>breed</th>\n      <th></th>\n      <th></th>\n    </tr>\n  </thead>\n  <tbody>\n    <tr>\n      <th>bird</th>\n      <th>parrot</th>\n      <td>5.0</td>\n      <td>3.0</td>\n    </tr>\n    <tr>\n      <th rowspan=\"2\" valign=\"top\">cat</th>\n      <th>mix</th>\n      <td>8.5</td>\n      <td>13.5</td>\n    </tr>\n    <tr>\n      <th>ragdoll</th>\n      <td>NaN</td>\n      <td>10.0</td>\n    </tr>\n    <tr>\n      <th rowspan=\"2\" valign=\"top\">dog</th>\n      <th>mix</th>\n      <td>12.0</td>\n      <td>32.0</td>\n    </tr>\n    <tr>\n      <th>shiba inu</th>\n      <td>1.5</td>\n      <td>35.0</td>\n    </tr>\n  </tbody>\n</table>\n</div>"
     },
     "metadata": {},
     "execution_count": 31
    }
   ],
   "source": [
    "import numpy as np\n",
    "table = pd.pivot_table(vet_records, values=['weight', 'age'], index=['type', 'breed'], aggfunc=np.mean)\n",
    "table"
   ]
  },
  {
   "cell_type": "code",
   "execution_count": null,
   "metadata": {},
   "outputs": [],
   "source": []
  }
 ]
}